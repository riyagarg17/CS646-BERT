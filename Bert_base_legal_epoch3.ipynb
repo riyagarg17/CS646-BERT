{
  "nbformat": 4,
  "nbformat_minor": 0,
  "metadata": {
    "colab": {
      "provenance": [],
      "machine_shape": "hm",
      "gpuType": "A100"
    },
    "kernelspec": {
      "name": "python3",
      "display_name": "Python 3"
    },
    "accelerator": "GPU"
  },
  "cells": [
    {
      "cell_type": "markdown",
      "metadata": {
        "id": "bBXHKtr84syG"
      },
      "source": [
        "# ***Bert base for Legal dataset***\n",
        "# *CS646 Poject*"
      ]
    },
    {
      "cell_type": "code",
      "metadata": {
        "id": "v5Jlcrg0ghs-"
      },
      "source": [
        "import json\n",
        "from pathlib import Path\n",
        "import torch\n",
        "from torch.utils.data import DataLoader\n",
        "import time"
      ],
      "execution_count": null,
      "outputs": []
    },
    {
      "cell_type": "code",
      "metadata": {
        "id": "uC-Kx4ij3T6a"
      },
      "source": [
        "%%capture\n",
        "! pip install datasets transformers"
      ],
      "execution_count": null,
      "outputs": []
    },
    {
      "cell_type": "code",
      "source": [
        "from google.colab import drive\n",
        "drive.mount('/content/drive')"
      ],
      "metadata": {
        "colab": {
          "base_uri": "https://localhost:8080/"
        },
        "id": "VpXGGTkTJFuC",
        "outputId": "418bd3f6-f315-4e0a-af0c-6d2833af875c"
      },
      "execution_count": null,
      "outputs": [
        {
          "output_type": "stream",
          "name": "stdout",
          "text": [
            "Mounted at /content/drive\n"
          ]
        }
      ]
    },
    {
      "cell_type": "code",
      "source": [
        "import json\n",
        "from pathlib import Path\n",
        "import re\n",
        "\n",
        "def targeted_clean_sentences(sent_list):\n",
        "    \"\"\"\n",
        "    Remove sentences containing JavaScript or irrelevant patterns.\n",
        "    \"\"\"\n",
        "    unwanted_patterns = [\n",
        "        r\"var \", r\"s_context\", r\"\\$\", r\"require\", r\"function\", r\"insert\", r\"webmd\", r\"disable\", r\"ads\", r\"module\"\n",
        "    ]\n",
        "    # Compile regex for unwanted patterns\n",
        "    unwanted_regex = re.compile(\"|\".join(unwanted_patterns), re.IGNORECASE)\n",
        "\n",
        "    # Filter out sentences matching unwanted patterns\n",
        "    clean_sent_list = [sentence for sentence in sent_list if not unwanted_regex.search(sentence)]\n",
        "    return \" \".join(clean_sent_list)  # Join the cleaned sentences\n",
        "\n",
        "def load_and_preprocess_data_with_targeted_cleaning(file_path):\n",
        "\n",
        "    with open(file_path, 'r') as f:\n",
        "        legal_data = json.load(f)\n",
        "\n",
        "    texts, queries, answers = [], [], []\n",
        "\n",
        "    # Search for each passage, its question, and its answer\n",
        "    for entry in legal_data[\"data\"]:\n",
        "        context = entry[\"context\"]\n",
        "        question = entry[\"question\"]\n",
        "        answer_start = int(entry[\"answer\"][\"answer_start\"])\n",
        "        answer_end = int(entry[\"answer\"][\"answer_end\"])\n",
        "        answer_text = context[answer_start:answer_end]\n",
        "\n",
        "        # Store each passage, query, and answer into the lists\n",
        "        texts.append(context)\n",
        "        queries.append(question)\n",
        "        answers.append({\"text\": answer_text, \"answer_start\": answer_start, \"answer_end\": answer_end})\n",
        "\n",
        "    return texts, queries, answers\n",
        "\n",
        "# Process train data\n",
        "train_path = Path('/content/drive/MyDrive/CS646/Project/Legal/train_dataset.json')\n",
        "train_texts, train_queries, train_answers = load_and_preprocess_data_with_targeted_cleaning(train_path)\n",
        "\n",
        "# Process validation data\n",
        "val_path = Path('/content/drive/MyDrive/CS646/Project/Legal/validate_dataset.json')\n",
        "val_texts, val_queries, val_answers = load_and_preprocess_data_with_targeted_cleaning(val_path)\n"
      ],
      "metadata": {
        "id": "4JE7uRUbgENm"
      },
      "execution_count": null,
      "outputs": []
    },
    {
      "cell_type": "code",
      "metadata": {
        "colab": {
          "base_uri": "https://localhost:8080/"
        },
        "id": "xPrlBV3hkJSe",
        "outputId": "d8c4c963-c231-413e-fef5-a208b81a519a"
      },
      "source": [
        "print(\"Passage: \",train_texts[0])\n",
        "print(\"Query: \",train_queries[0])\n",
        "print(\"Answer: \",train_answers[0])"
      ],
      "execution_count": null,
      "outputs": [
        {
          "output_type": "stream",
          "name": "stdout",
          "text": [
            "Passage:  Presumption as to culpable mental state.- (1) In any prosecution for any offence under this Act which requires a culpable mental state on the part of the accused, the court shall presume the existence of such mental state but it shall be a defence for the accused to prove the fact that he had no such mental state with respect to the act charged as an offence in that prosecution. Explanation.- In this sub-section, ―culpable mental state‖ includes intention, motive or knowledge of a fact or belief in, or reason to believe, a fact. (2) For the purposes of this section, a fact is said to be proved only when the court believes it to exist beyond reasonable doubt and not merely when its existence is established by a preponderance of probability. \n",
            "Query:  In this section, what includes intention, motive or knowledge of a fact or belief in, or reason to believe a fact?\n",
            "Answer:  {'text': 'culpable mental stat', 'answer_start': 418, 'answer_end': 438}\n"
          ]
        }
      ]
    },
    {
      "cell_type": "markdown",
      "metadata": {
        "id": "6JCAvOgalXbh"
      },
      "source": [
        "As you can see we have 20302 passages, queries and answers from the validation data"
      ]
    },
    {
      "cell_type": "code",
      "metadata": {
        "colab": {
          "base_uri": "https://localhost:8080/"
        },
        "id": "bMs6opQPlLBE",
        "outputId": "32a1c80f-2c48-4b74-c7ac-f3291ce97f8b"
      },
      "source": [
        "print(len(val_texts))\n",
        "print(len(val_queries))\n",
        "print(len(val_answers))"
      ],
      "execution_count": null,
      "outputs": [
        {
          "output_type": "stream",
          "name": "stdout",
          "text": [
            "228\n",
            "228\n",
            "228\n"
          ]
        }
      ]
    },
    {
      "cell_type": "code",
      "metadata": {
        "colab": {
          "base_uri": "https://localhost:8080/"
        },
        "id": "FBf0eNdblL_P",
        "outputId": "dca289e5-6109-4d86-8f4b-24673cbdfbd4"
      },
      "source": [
        "print(\"Passage: \",val_texts[0])\n",
        "print(\"Query: \",val_queries[0])\n",
        "print(\"Answer: \",val_answers[0])"
      ],
      "execution_count": null,
      "outputs": [
        {
          "output_type": "stream",
          "name": "stdout",
          "text": [
            "Passage:  Repeal and savings.- (1) The following enactments are hereby repealed-  (a) the Metal Tokens Act, 1889 (1 of 1889); (b) the Coinage Act, 1906 (3 of 1906); (c) the Bronze Coin (Legal Tender) Act, 1918 (22 of 1918); (d) the Currency Ordinance, 1940 (Ord. IV of 1940); (e) the Small Coins (Offences) Act, 1971 (52 of 1971). (2) The repeal by this Act of the enactments and Ordinance specified in sub-section (1) shall not-  (a) affect any other enactment in which the repealed enactment or Ordinance has been applied, incorporated or referred to; (b) affect the validity, invalidity, effect or consequences of anything already done or suffered, or any right, title, obligation or liability already acquired, accrued or incurred or any remedy or proceeding in respect thereof, or any release or discharge of or from any debt, penalty, obligation, liability, claim or demand, or any indemnity already granted, or the proof of any past act or thing; (c) affect any principle or rule of law, or established jurisdiction, form or course of pleading, practice or procedure, or existing usage, custom, privilege, restriction, exemption, office or appointment, notwithstanding that the same respectively may have been in any manner affirmed or recognised or derived by, in or from any enactment or Ordinance hereby repealed; (d) revive or restore any jurisdiction, office, custom, liability, right, title, privilege, restriction, exemption, usage, practice, procedure or other matter or thing not now existing or in force. (3) The mention of particular matters in sub-section (1) shall not be held to prejudice or affect the general application of section 6 of the General Clauses Act, 1897 (10 of 1897), with regard to the effect of repeals. \n",
            "Query:  What enactment is hereby repealed?\n",
            "Answer:  {'text': 'the Metal Tokens Act, 188', 'answer_start': 76, 'answer_end': 101}\n"
          ]
        }
      ]
    },
    {
      "cell_type": "markdown",
      "metadata": {
        "id": "_QFwoBu7gOac"
      },
      "source": [
        "This was helped me to split my dataset in order to run my notebook in my first attemps."
      ]
    },
    {
      "cell_type": "markdown",
      "metadata": {
        "id": "kNAThgIvq_4S"
      },
      "source": [
        "Find end position character in train data"
      ]
    },
    {
      "cell_type": "code",
      "metadata": {
        "id": "qlexBsEcnI77"
      },
      "source": [
        "# for answer, text in zip(train_answers, train_texts):\n",
        "#     # Get the real answer and start index (access the first element of the lists)\n",
        "#     real_answer = answer['text'][0]  # Extract the first text from the list\n",
        "#     start_idx = int(answer['answer_start'][0])  # Extract the first start index from the list\n",
        "\n",
        "#     # Calculate the real end index\n",
        "#     end_idx = start_idx + len(real_answer)\n",
        "\n",
        "#     # Deal with the problem of 1 or 2 more characters\n",
        "#     if text[start_idx:end_idx] == real_answer:\n",
        "#         answer['answer_end'] = [end_idx]  # Add as a list\n",
        "#     # When the real answer is more by one character\n",
        "#     elif text[start_idx-1:end_idx-1] == real_answer:\n",
        "#         answer['answer_start'] = [start_idx - 1]  # Update the start index as a list\n",
        "#         answer['answer_end'] = [end_idx - 1]  # Update the end index as a list\n",
        "#     # When the real answer is more by two characters\n",
        "#     elif text[start_idx-2:end_idx-2] == real_answer:\n",
        "#         answer['answer_start'] = [start_idx - 2]  # Update the start index as a list\n",
        "#         answer['answer_end'] = [end_idx - 2]  # Update the end index as a list\n",
        "\n",
        "for answer, text in zip(train_answers, train_texts):\n",
        "    real_answer = answer['text']\n",
        "    start_idx = answer['answer_start']\n",
        "    # Get the real end index\n",
        "    end_idx = start_idx + len(real_answer)\n",
        "\n",
        "    # Deal with the problem of 1 or 2 more characters\n",
        "    if text[start_idx:end_idx] == real_answer:\n",
        "        answer['answer_end'] = end_idx\n",
        "    # When the real answer is more by one character\n",
        "    elif text[start_idx-1:end_idx-1] == real_answer:\n",
        "        answer['answer_start'] = start_idx - 1\n",
        "        answer['answer_end'] = end_idx - 1\n",
        "    # When the real answer is more by two characters\n",
        "    elif text[start_idx-2:end_idx-2] == real_answer:\n",
        "        answer['answer_start'] = start_idx - 2\n",
        "        answer['answer_end'] = end_idx - 2\n"
      ],
      "execution_count": null,
      "outputs": []
    },
    {
      "cell_type": "markdown",
      "metadata": {
        "id": "aEzbDWC1sPEn"
      },
      "source": [
        "Find end position character in validation data"
      ]
    },
    {
      "cell_type": "code",
      "metadata": {
        "id": "Xe2_AZszsRqr"
      },
      "source": [
        "# for answer, text in zip(val_answers, val_texts):\n",
        "#     # Get the real answer and start index (access the first element of the lists)\n",
        "#     real_answer = answer['text']  # Extract the first text from the list\n",
        "#     start_idx = int(answer['answer_start'])  # Extract the first start index from the list\n",
        "\n",
        "#     # Calculate the real end index\n",
        "#     end_idx = start_idx + len(real_answer)\n",
        "\n",
        "#     # Deal with the problem of 1 or 2 more characters\n",
        "#     if text[start_idx:end_idx] == real_answer:\n",
        "#         answer['answer_end'] = [end_idx]  # Add as a list\n",
        "#     # When the real answer is more by one character\n",
        "#     elif text[start_idx-1:end_idx-1] == real_answer:\n",
        "#         answer['answer_start'] = [start_idx - 1]  # Update the start index as a list\n",
        "#         answer['answer_end'] = [end_idx - 1]  # Update the end index as a list\n",
        "#     # When the real answer is more by two characters\n",
        "#     elif text[start_idx-2:end_idx-2] == real_answer:\n",
        "#         answer['answer_start'] = [start_idx - 2]  # Update the start index as a list\n",
        "#         answer['answer_end'] = [end_idx - 2]  # Update the end index as a list\n",
        "\n",
        "\n",
        "for answer, text in zip(val_answers, val_texts):\n",
        "    real_answer = answer['text']\n",
        "    start_idx = answer['answer_start']\n",
        "    # Get the real end index\n",
        "    end_idx = start_idx + len(real_answer)\n",
        "\n",
        "    # Deal with the problem of 1 or 2 more characters\n",
        "    if text[start_idx:end_idx] == real_answer:\n",
        "        answer['answer_end'] = end_idx\n",
        "    # When the real answer is more by one character\n",
        "    elif text[start_idx-1:end_idx-1] == real_answer:\n",
        "        answer['answer_start'] = start_idx - 1\n",
        "        answer['answer_end'] = end_idx - 1\n",
        "    # When the real answer is more by two characters\n",
        "    elif text[start_idx-2:end_idx-2] == real_answer:\n",
        "        answer['answer_start'] = start_idx - 2\n",
        "        answer['answer_end'] = end_idx - 2"
      ],
      "execution_count": null,
      "outputs": []
    },
    {
      "cell_type": "code",
      "source": [
        "# Ensure all train_answers have 'answer_end'\n",
        "for answer, text in zip(train_answers, train_texts):\n",
        "    real_answer = answer['text']  # Extract the first text from the list\n",
        "    start_idx = int(answer['answer_start'])  # Extract the first start index from the list\n",
        "\n",
        "    # Calculate the real end index\n",
        "    end_idx = start_idx + len(real_answer)\n",
        "\n",
        "    # Deal with the problem of 1 or 2 more characters\n",
        "    if text[start_idx:end_idx] == real_answer:\n",
        "        answer['answer_end'] = [end_idx]  # Add as a list\n",
        "    elif text[start_idx-1:end_idx-1] == real_answer:\n",
        "        answer['answer_start'] = [start_idx - 1]\n",
        "        answer['answer_end'] = [end_idx - 1]\n",
        "    elif text[start_idx-2:end_idx-2] == real_answer:\n",
        "        answer['answer_start'] = [start_idx - 2]\n",
        "        answer['answer_end'] = [end_idx - 2]\n",
        "    else:\n",
        "        # Default to the calculated end index if no match (edge case)\n",
        "        answer['answer_end'] = [end_idx]\n",
        "\n",
        "# Ensure all val_answers have 'answer_end'\n",
        "for answer, text in zip(val_answers, val_texts):\n",
        "    real_answer = answer['text']\n",
        "    start_idx = int(answer['answer_start'])\n",
        "\n",
        "    end_idx = start_idx + len(real_answer)\n",
        "\n",
        "    if text[start_idx:end_idx] == real_answer:\n",
        "        answer['answer_end'] = [end_idx]\n",
        "    elif text[start_idx-1:end_idx-1] == real_answer:\n",
        "        answer['answer_start'] = [start_idx - 1]\n",
        "        answer['answer_end'] = [end_idx - 1]\n",
        "    elif text[start_idx-2:end_idx-2] == real_answer:\n",
        "        answer['answer_start'] = [start_idx - 2]\n",
        "        answer['answer_end'] = [end_idx - 2]\n",
        "    else:\n",
        "        answer['answer_end'] = [end_idx]\n"
      ],
      "metadata": {
        "id": "gPADrFeVjErb"
      },
      "execution_count": null,
      "outputs": []
    },
    {
      "cell_type": "markdown",
      "metadata": {
        "id": "boxZGej3t17f"
      },
      "source": [
        "In this task is asked to select the BERT-base pretrained model “bert-base-uncased” for the tokenization"
      ]
    },
    {
      "cell_type": "code",
      "metadata": {
        "id": "-dncUoMhtpWj"
      },
      "source": [
        "from transformers import AutoTokenizer,AdamW,BertForQuestionAnswering\n",
        "tokenizer = AutoTokenizer.from_pretrained(\"bert-base-uncased\")\n",
        "\n",
        "train_encodings = tokenizer(train_texts, train_queries, truncation=True, padding=True)\n",
        "val_encodings = tokenizer(val_texts, val_queries, truncation=True, padding=True)"
      ],
      "execution_count": null,
      "outputs": []
    },
    {
      "cell_type": "markdown",
      "metadata": {
        "id": "WHaETr5izn0t"
      },
      "source": [
        "Convert the start-end positions to tokens start-end positions"
      ]
    },
    {
      "cell_type": "code",
      "metadata": {
        "colab": {
          "base_uri": "https://localhost:8080/"
        },
        "id": "VHDTX4HZzN3e",
        "outputId": "7cc4a656-dc7e-4657-af3f-f7dda382dd32"
      },
      "source": [
        "def add_token_positions(encodings, answers):\n",
        "  start_positions = []\n",
        "  end_positions = []\n",
        "\n",
        "  count = 0\n",
        "\n",
        "  for i in range(len(answers)):\n",
        "    start_positions.append(encodings.char_to_token(i, answers[i]['answer_start']))\n",
        "    end_positions.append(encodings.char_to_token(i, answers[i]['answer_end']))\n",
        "\n",
        "    # if start position is None, the answer passage has been truncated\n",
        "    if start_positions[-1] is None:\n",
        "      start_positions[-1] = tokenizer.model_max_length\n",
        "\n",
        "    # if end position is None, the 'char_to_token' function points to the space after the correct token, so add - 1\n",
        "    if end_positions[-1] is None:\n",
        "      end_positions[-1] = encodings.char_to_token(i, answers[i]['answer_end'] - 1)\n",
        "      # if end position is still None the answer passage has been truncated\n",
        "      if end_positions[-1] is None:\n",
        "        count += 1\n",
        "        end_positions[-1] = tokenizer.model_max_length\n",
        "\n",
        "  print(count)\n",
        "\n",
        "  # Update the data in dictionary\n",
        "  encodings.update({'start_positions': start_positions, 'end_positions': end_positions})\n",
        "\n",
        "add_token_positions(train_encodings, train_answers)\n",
        "add_token_positions(val_encodings, val_answers)\n"
      ],
      "execution_count": null,
      "outputs": [
        {
          "output_type": "stream",
          "name": "stdout",
          "text": [
            "0\n",
            "1\n"
          ]
        }
      ]
    },
    {
      "cell_type": "markdown",
      "metadata": {
        "id": "6JNdLyE97io2"
      },
      "source": [
        "## ***Step 7:*** Create a Dataset class"
      ]
    },
    {
      "cell_type": "markdown",
      "metadata": {
        "id": "iU4mORGW7ttP"
      },
      "source": [
        "Create a Squatdataset class (inherits from torch.utils.data.Dataset), that helped me to train and validate my previous data more easily and convert encodings to datasets."
      ]
    },
    {
      "cell_type": "code",
      "metadata": {
        "id": "FjYzrXas3yhy"
      },
      "source": [
        "class SquadDataset(torch.utils.data.Dataset):\n",
        "    def __init__(self, encodings):\n",
        "        self.encodings = encodings\n",
        "\n",
        "    def __getitem__(self, idx):\n",
        "        return {key: torch.tensor(val[idx]) for key, val in self.encodings.items()}\n",
        "\n",
        "    def __len__(self):\n",
        "        return len(self.encodings.input_ids)"
      ],
      "execution_count": null,
      "outputs": []
    },
    {
      "cell_type": "code",
      "metadata": {
        "id": "fHGYpU8x8GCT"
      },
      "source": [
        "train_dataset = SquadDataset(train_encodings)\n",
        "val_dataset = SquadDataset(val_encodings)"
      ],
      "execution_count": null,
      "outputs": []
    },
    {
      "cell_type": "markdown",
      "metadata": {
        "id": "QegfQoBz832o"
      },
      "source": [
        "I put my previous data to DataLoader, so as to split them in \"pieces\" of 8 batch size. I will explain the selection of this value of batch size later."
      ]
    },
    {
      "cell_type": "code",
      "metadata": {
        "id": "XCohXB_R8HkC"
      },
      "source": [
        "train_loader = DataLoader(train_dataset, batch_size=8, shuffle=True)\n",
        "val_loader = DataLoader(val_dataset, batch_size=8, shuffle=True)"
      ],
      "execution_count": null,
      "outputs": []
    },
    {
      "cell_type": "code",
      "metadata": {
        "id": "N12rPAE39QS0"
      },
      "source": [
        "device = torch.device('cuda:0' if torch.cuda.is_available()\n",
        "                      else 'cpu')"
      ],
      "execution_count": null,
      "outputs": []
    },
    {
      "cell_type": "code",
      "metadata": {
        "colab": {
          "base_uri": "https://localhost:8080/"
        },
        "id": "unmSIjkW-ZEH",
        "outputId": "ee6a2491-20bf-4efc-9f97-8498e0221e49"
      },
      "source": [
        "model = BertForQuestionAnswering.from_pretrained('bert-base-uncased').to(device)\n",
        "\n",
        "optim = AdamW(model.parameters(), lr=5e-5)\n",
        "# optim = AdamW(model.parameters(), lr=3e-5)\n",
        "# optim = AdamW(model.parameters(), lr=2e-5)\n",
        "\n",
        "# epochs = 2\n",
        "epochs = 3\n",
        "# epochs = 4"
      ],
      "execution_count": null,
      "outputs": [
        {
          "output_type": "stream",
          "name": "stderr",
          "text": [
            "Some weights of BertForQuestionAnswering were not initialized from the model checkpoint at bert-base-uncased and are newly initialized: ['qa_outputs.bias', 'qa_outputs.weight']\n",
            "You should probably TRAIN this model on a down-stream task to be able to use it for predictions and inference.\n",
            "/usr/local/lib/python3.10/dist-packages/transformers/optimization.py:591: FutureWarning: This implementation of AdamW is deprecated and will be removed in a future version. Use the PyTorch implementation torch.optim.AdamW instead, or set `no_deprecation_warning=True` to disable this warning\n",
            "  warnings.warn(\n"
          ]
        }
      ]
    },
    {
      "cell_type": "markdown",
      "metadata": {
        "id": "nhO97SXJe0L9"
      },
      "source": [
        "This message is a warning that I should fine tune my model before I test it, in order to have a good performance."
      ]
    },
    {
      "cell_type": "markdown",
      "metadata": {
        "id": "Qe29xEPB_DvT"
      },
      "source": [
        "## ***Train and Evaluate Model***"
      ]
    },
    {
      "cell_type": "code",
      "source": [
        "def calculate_em(pred_span, true_span):\n",
        "    \"\"\"\n",
        "    Exact Match (EM) measures whether the predicted span matches the ground truth span exactly.\n",
        "    \"\"\"\n",
        "    return int(pred_span == true_span)\n",
        "\n",
        "def calculate_f1(pred_span, true_span):\n",
        "    \"\"\"\n",
        "    F1 Score measures the overlap between the predicted span and the ground truth span.\n",
        "    \"\"\"\n",
        "    pred_tokens = pred_span.split()\n",
        "    true_tokens = true_span.split()\n",
        "    common_tokens = set(pred_tokens) & set(true_tokens)\n",
        "\n",
        "    if not common_tokens:\n",
        "        return 0.0\n",
        "\n",
        "    precision = len(common_tokens) / len(pred_tokens)\n",
        "    recall = len(common_tokens) / len(true_tokens)\n",
        "    f1 = 2 * (precision * recall) / (precision + recall)\n",
        "    return f1"
      ],
      "metadata": {
        "id": "s2Ts55ehr9yp"
      },
      "execution_count": null,
      "outputs": []
    },
    {
      "cell_type": "code",
      "source": [
        "def evaluate_model_with_metrics(model, val_loader, tokenizer, device):\n",
        "    \"\"\"\n",
        "    Evaluate the model on the validation set and calculate loss, EM, and F1 score.\n",
        "    \"\"\"\n",
        "    model.eval()\n",
        "    total_loss = 0\n",
        "    em_scores = []\n",
        "    f1_scores = []\n",
        "\n",
        "    with torch.no_grad():\n",
        "        for batch in val_loader:\n",
        "            input_ids = batch[\"input_ids\"].to(device)\n",
        "            attention_mask = batch[\"attention_mask\"].to(device)\n",
        "            start_positions = batch[\"start_positions\"].to(device)\n",
        "            end_positions = batch[\"end_positions\"].to(device)\n",
        "\n",
        "            outputs = model(\n",
        "                input_ids=input_ids,\n",
        "                attention_mask=attention_mask,\n",
        "                start_positions=start_positions,\n",
        "                end_positions=end_positions,\n",
        "            )\n",
        "\n",
        "            # Loss\n",
        "            loss = outputs[0]\n",
        "            total_loss += loss.item()\n",
        "\n",
        "            # Get predicted start and end positions\n",
        "            start_logits = outputs.start_logits\n",
        "            end_logits = outputs.end_logits\n",
        "\n",
        "            for i in range(input_ids.size(0)):\n",
        "                input_id = input_ids[i].tolist()\n",
        "                true_start = start_positions[i].item()\n",
        "                true_end = end_positions[i].item()\n",
        "\n",
        "                # Convert true spans to text\n",
        "                true_span = tokenizer.decode(\n",
        "                    input_id[true_start : true_end + 1], skip_special_tokens=True\n",
        "                )\n",
        "\n",
        "                # Predicted span\n",
        "                pred_start = torch.argmax(start_logits[i]).item()\n",
        "                pred_end = torch.argmax(end_logits[i]).item()\n",
        "                pred_span = tokenizer.decode(\n",
        "                    input_id[pred_start : pred_end + 1], skip_special_tokens=True\n",
        "                )\n",
        "\n",
        "                # Calculate EM and F1 scores\n",
        "                em_scores.append(calculate_em(pred_span, true_span))\n",
        "                f1_scores.append(calculate_f1(pred_span, true_span))\n",
        "\n",
        "    # Compute averages\n",
        "    avg_loss = total_loss / len(val_loader)\n",
        "    avg_em = sum(em_scores) / len(em_scores)\n",
        "    avg_f1 = sum(f1_scores) / len(f1_scores)\n",
        "\n",
        "    return avg_loss, avg_em, avg_f1"
      ],
      "metadata": {
        "id": "02AzRuCFsDud"
      },
      "execution_count": null,
      "outputs": []
    },
    {
      "cell_type": "code",
      "metadata": {
        "colab": {
          "base_uri": "https://localhost:8080/"
        },
        "id": "3qkwmHdB_DKI",
        "outputId": "135e2e7c-6eea-471e-f37a-9cc6b5a6ed75"
      },
      "source": [
        "whole_train_eval_time = time.time()\n",
        "\n",
        "train_losses = []\n",
        "val_losses = []\n",
        "\n",
        "print_every = 1000\n",
        "\n",
        "for epoch in range(epochs):\n",
        "  epoch_time = time.time()\n",
        "\n",
        "  # Set model in train mode\n",
        "  model.train()\n",
        "\n",
        "  loss_of_epoch = 0\n",
        "\n",
        "  print(\"############Train############\")\n",
        "\n",
        "  for batch_idx,batch in enumerate(train_loader):\n",
        "\n",
        "    optim.zero_grad()\n",
        "\n",
        "    input_ids = batch['input_ids'].to(device)\n",
        "    attention_mask = batch['attention_mask'].to(device)\n",
        "    start_positions = batch['start_positions'].to(device)\n",
        "    end_positions = batch['end_positions'].to(device)\n",
        "\n",
        "    outputs = model(input_ids, attention_mask=attention_mask, start_positions=start_positions, end_positions=end_positions)\n",
        "    loss = outputs[0]\n",
        "    # do a backwards pass\n",
        "    loss.backward()\n",
        "    # update the weights\n",
        "    optim.step()\n",
        "    # Find the total loss\n",
        "    loss_of_epoch += loss.item()\n",
        "\n",
        "    if (batch_idx+1) % print_every == 0:\n",
        "      print(\"Batch {:} / {:}\".format(batch_idx+1,len(train_loader)),\"\\nLoss:\", round(loss.item(),1),\"\\n\")\n",
        "\n",
        "  loss_of_epoch /= len(train_loader)\n",
        "  train_losses.append(loss_of_epoch)\n",
        "\n",
        "  ##########Evaluation##################\n",
        "\n",
        "  # Set model in evaluation mode\n",
        "  model.eval()\n",
        "\n",
        "  print(\"############Evaluate############\")\n",
        "\n",
        "  # Evaluate the model with metrics\n",
        "  val_loss, val_em, val_f1 = evaluate_model_with_metrics(model, val_loader, tokenizer, device)\n",
        "\n",
        "  # Log metrics\n",
        "  val_losses.append(val_loss)\n",
        "  print(f\"\\nValidation Loss: {val_loss:.4f}, Exact Match (EM): {val_em:.4f}, F1 Score: {val_f1:.4f}\")\n",
        "\n",
        "\n",
        "  # Print each epoch's time and train/val loss\n",
        "  print(\"\\n-------Epoch \", epoch+1,\n",
        "        \"-------\"\n",
        "        \"\\nTraining Loss:\", train_losses[-1],\n",
        "        \"\\nValidation Loss:\", val_losses[-1],\n",
        "        \"\\nTime: \",(time.time() - epoch_time),\n",
        "        \"\\n-----------------------\",\n",
        "        \"\\n\\n\")\n",
        "\n",
        "print(\"Total training and evaluation time: \", (time.time() - whole_train_eval_time))"
      ],
      "execution_count": null,
      "outputs": [
        {
          "output_type": "stream",
          "name": "stdout",
          "text": [
            "############Train############\n",
            "############Evaluate############\n",
            "\n",
            "Validation Loss: 1.8503, Exact Match (EM): 0.3860, F1 Score: 0.5195\n",
            "\n",
            "-------Epoch  1 -------\n",
            "Training Loss: 3.197965750493199 \n",
            "Validation Loss: 1.8502795161872074 \n",
            "Time:  42.59058976173401 \n",
            "----------------------- \n",
            "\n",
            "\n",
            "############Train############\n",
            "############Evaluate############\n",
            "\n",
            "Validation Loss: 1.3256, Exact Match (EM): 0.5395, F1 Score: 0.6492\n",
            "\n",
            "-------Epoch  2 -------\n",
            "Training Loss: 1.2545397318750022 \n",
            "Validation Loss: 1.3256267360572158 \n",
            "Time:  42.56583547592163 \n",
            "----------------------- \n",
            "\n",
            "\n",
            "############Train############\n",
            "############Evaluate############\n",
            "\n",
            "Validation Loss: 1.4097, Exact Match (EM): 0.5219, F1 Score: 0.6312\n",
            "\n",
            "-------Epoch  3 -------\n",
            "Training Loss: 0.6045975099545885 \n",
            "Validation Loss: 1.4096698370473137 \n",
            "Time:  42.54940891265869 \n",
            "----------------------- \n",
            "\n",
            "\n",
            "Total training and evaluation time:  127.70948815345764\n"
          ]
        }
      ]
    },
    {
      "cell_type": "code",
      "metadata": {
        "id": "-p_ZgHMgR9Vq"
      },
      "source": [
        "# Save model\n",
        "torch.save(model, \"/content/drive/MyDrive/CS646/Project/Legal/bert-uncased\")"
      ],
      "execution_count": null,
      "outputs": []
    },
    {
      "cell_type": "markdown",
      "metadata": {
        "id": "41ZatksYHP_p"
      },
      "source": [
        "## ***Plot train and validation losses***"
      ]
    },
    {
      "cell_type": "code",
      "metadata": {
        "id": "Daxw8aQMHPTV",
        "colab": {
          "base_uri": "https://localhost:8080/",
          "height": 900
        },
        "outputId": "f173c303-6e4c-4252-8420-5738b5a0f039"
      },
      "source": [
        "import matplotlib.pyplot as plt\n",
        "\n",
        "fig,ax = plt.subplots(1,1,figsize=(15,10))\n",
        "\n",
        "ax.set_title(\"Train and Validation Losses\",size=20)\n",
        "ax.set_ylabel('Loss', fontsize = 20)\n",
        "ax.set_xlabel('Epochs', fontsize = 25)\n",
        "_=ax.plot(train_losses)\n",
        "_=ax.plot(val_losses)\n",
        "_=ax.legend(('Train','Val'),loc='upper right')"
      ],
      "execution_count": null,
      "outputs": [
        {
          "output_type": "display_data",
          "data": {
            "text/plain": [
              "<Figure size 1500x1000 with 1 Axes>"
            ],
            "image/png": "[encoded data removed]"
          },
          "metadata": {}
        }
      ]
    }
  ]
}