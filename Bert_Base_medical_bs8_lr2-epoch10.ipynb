{
  "nbformat": 4,
  "nbformat_minor": 0,
  "metadata": {
    "colab": {
      "provenance": [],
      "machine_shape": "hm",
      "gpuType": "A100"
    },
    "kernelspec": {
      "name": "python3",
      "display_name": "Python 3"
    },
    "accelerator": "GPU",
    "widgets": {
      "application/vnd.jupyter.widget-state+json": {
        "dbcf9b36599d471caa4a5051b27b2b39": {
          "model_module": "@jupyter-widgets/controls",
          "model_name": "HBoxModel",
          "model_module_version": "1.5.0",
          "state": {
            "_dom_classes": [],
            "_model_module": "@jupyter-widgets/controls",
            "_model_module_version": "1.5.0",
            "_model_name": "HBoxModel",
            "_view_count": null,
            "_view_module": "@jupyter-widgets/controls",
            "_view_module_version": "1.5.0",
            "_view_name": "HBoxView",
            "box_style": "",
            "children": [
              "IPY_MODEL_a747faec94214ee2badc04d9ff8221f9",
              "IPY_MODEL_3c41bcad822d4342b79306365ae57cd1",
              "IPY_MODEL_d1ea9db98cd94dd5bfb3c394bb310e8c"
            ],
            "layout": "IPY_MODEL_7bc3b6acaba94700aa0d866ed5497e31"
          }
        },
        "a747faec94214ee2badc04d9ff8221f9": {
          "model_module": "@jupyter-widgets/controls",
          "model_name": "HTMLModel",
          "model_module_version": "1.5.0",
          "state": {
            "_dom_classes": [],
            "_model_module": "@jupyter-widgets/controls",
            "_model_module_version": "1.5.0",
            "_model_name": "HTMLModel",
            "_view_count": null,
            "_view_module": "@jupyter-widgets/controls",
            "_view_module_version": "1.5.0",
            "_view_name": "HTMLView",
            "description": "",
            "description_tooltip": null,
            "layout": "IPY_MODEL_331969b42eb744aaab0793a03e5fde48",
            "placeholder": "​",
            "style": "IPY_MODEL_a11d78203a934fd3a4534bf040170be7",
            "value": "tokenizer_config.json: 100%"
          }
        },
        "3c41bcad822d4342b79306365ae57cd1": {
          "model_module": "@jupyter-widgets/controls",
          "model_name": "FloatProgressModel",
          "model_module_version": "1.5.0",
          "state": {
            "_dom_classes": [],
            "_model_module": "@jupyter-widgets/controls",
            "_model_module_version": "1.5.0",
            "_model_name": "FloatProgressModel",
            "_view_count": null,
            "_view_module": "@jupyter-widgets/controls",
            "_view_module_version": "1.5.0",
            "_view_name": "ProgressView",
            "bar_style": "success",
            "description": "",
            "description_tooltip": null,
            "layout": "IPY_MODEL_af2dd1d42e0f4faeadc97010b92a69d0",
            "max": 48,
            "min": 0,
            "orientation": "horizontal",
            "style": "IPY_MODEL_9fa0e090cd6e432fbbb4606a32ae0523",
            "value": 48
          }
        },
        "d1ea9db98cd94dd5bfb3c394bb310e8c": {
          "model_module": "@jupyter-widgets/controls",
          "model_name": "HTMLModel",
          "model_module_version": "1.5.0",
          "state": {
            "_dom_classes": [],
            "_model_module": "@jupyter-widgets/controls",
            "_model_module_version": "1.5.0",
            "_model_name": "HTMLModel",
            "_view_count": null,
            "_view_module": "@jupyter-widgets/controls",
            "_view_module_version": "1.5.0",
            "_view_name": "HTMLView",
            "description": "",
            "description_tooltip": null,
            "layout": "IPY_MODEL_0ea60fdd7ced40db90c046fc6799bf04",
            "placeholder": "​",
            "style": "IPY_MODEL_5209092641c24f3ea2392c6664676271",
            "value": " 48.0/48.0 [00:00&lt;00:00, 3.91kB/s]"
          }
        },
        "7bc3b6acaba94700aa0d866ed5497e31": {
          "model_module": "@jupyter-widgets/base",
          "model_name": "LayoutModel",
          "model_module_version": "1.2.0",
          "state": {
            "_model_module": "@jupyter-widgets/base",
            "_model_module_version": "1.2.0",
            "_model_name": "LayoutModel",
            "_view_count": null,
            "_view_module": "@jupyter-widgets/base",
            "_view_module_version": "1.2.0",
            "_view_name": "LayoutView",
            "align_content": null,
            "align_items": null,
            "align_self": null,
            "border": null,
            "bottom": null,
            "display": null,
            "flex": null,
            "flex_flow": null,
            "grid_area": null,
            "grid_auto_columns": null,
            "grid_auto_flow": null,
            "grid_auto_rows": null,
            "grid_column": null,
            "grid_gap": null,
            "grid_row": null,
            "grid_template_areas": null,
            "grid_template_columns": null,
            "grid_template_rows": null,
            "height": null,
            "justify_content": null,
            "justify_items": null,
            "left": null,
            "margin": null,
            "max_height": null,
            "max_width": null,
            "min_height": null,
            "min_width": null,
            "object_fit": null,
            "object_position": null,
            "order": null,
            "overflow": null,
            "overflow_x": null,
            "overflow_y": null,
            "padding": null,
            "right": null,
            "top": null,
            "visibility": null,
            "width": null
          }
        },
        "331969b42eb744aaab0793a03e5fde48": {
          "model_module": "@jupyter-widgets/base",
          "model_name": "LayoutModel",
          "model_module_version": "1.2.0",
          "state": {
            "_model_module": "@jupyter-widgets/base",
            "_model_module_version": "1.2.0",
            "_model_name": "LayoutModel",
            "_view_count": null,
            "_view_module": "@jupyter-widgets/base",
            "_view_module_version": "1.2.0",
            "_view_name": "LayoutView",
            "align_content": null,
            "align_items": null,
            "align_self": null,
            "border": null,
            "bottom": null,
            "display": null,
            "flex": null,
            "flex_flow": null,
            "grid_area": null,
            "grid_auto_columns": null,
            "grid_auto_flow": null,
            "grid_auto_rows": null,
            "grid_column": null,
            "grid_gap": null,
            "grid_row": null,
            "grid_template_areas": null,
            "grid_template_columns": null,
            "grid_template_rows": null,
            "height": null,
            "justify_content": null,
            "justify_items": null,
            "left": null,
            "margin": null,
            "max_height": null,
            "max_width": null,
            "min_height": null,
            "min_width": null,
            "object_fit": null,
            "object_position": null,
            "order": null,
            "overflow": null,
            "overflow_x": null,
            "overflow_y": null,
            "padding": null,
            "right": null,
            "top": null,
            "visibility": null,
            "width": null
          }
        },
        "a11d78203a934fd3a4534bf040170be7": {
          "model_module": "@jupyter-widgets/controls",
          "model_name": "DescriptionStyleModel",
          "model_module_version": "1.5.0",
          "state": {
            "_model_module": "@jupyter-widgets/controls",
            "_model_module_version": "1.5.0",
            "_model_name": "DescriptionStyleModel",
            "_view_count": null,
            "_view_module": "@jupyter-widgets/base",
            "_view_module_version": "1.2.0",
            "_view_name": "StyleView",
            "description_width": ""
          }
        },
        "af2dd1d42e0f4faeadc97010b92a69d0": {
          "model_module": "@jupyter-widgets/base",
          "model_name": "LayoutModel",
          "model_module_version": "1.2.0",
          "state": {
            "_model_module": "@jupyter-widgets/base",
            "_model_module_version": "1.2.0",
            "_model_name": "LayoutModel",
            "_view_count": null,
            "_view_module": "@jupyter-widgets/base",
            "_view_module_version": "1.2.0",
            "_view_name": "LayoutView",
            "align_content": null,
            "align_items": null,
            "align_self": null,
            "border": null,
            "bottom": null,
            "display": null,
            "flex": null,
            "flex_flow": null,
            "grid_area": null,
            "grid_auto_columns": null,
            "grid_auto_flow": null,
            "grid_auto_rows": null,
            "grid_column": null,
            "grid_gap": null,
            "grid_row": null,
            "grid_template_areas": null,
            "grid_template_columns": null,
            "grid_template_rows": null,
            "height": null,
            "justify_content": null,
            "justify_items": null,
            "left": null,
            "margin": null,
            "max_height": null,
            "max_width": null,
            "min_height": null,
            "min_width": null,
            "object_fit": null,
            "object_position": null,
            "order": null,
            "overflow": null,
            "overflow_x": null,
            "overflow_y": null,
            "padding": null,
            "right": null,
            "top": null,
            "visibility": null,
            "width": null
          }
        },
        "9fa0e090cd6e432fbbb4606a32ae0523": {
          "model_module": "@jupyter-widgets/controls",
          "model_name": "ProgressStyleModel",
          "model_module_version": "1.5.0",
          "state": {
            "_model_module": "@jupyter-widgets/controls",
            "_model_module_version": "1.5.0",
            "_model_name": "ProgressStyleModel",
            "_view_count": null,
            "_view_module": "@jupyter-widgets/base",
            "_view_module_version": "1.2.0",
            "_view_name": "StyleView",
            "bar_color": null,
            "description_width": ""
          }
        },
        "0ea60fdd7ced40db90c046fc6799bf04": {
          "model_module": "@jupyter-widgets/base",
          "model_name": "LayoutModel",
          "model_module_version": "1.2.0",
          "state": {
            "_model_module": "@jupyter-widgets/base",
            "_model_module_version": "1.2.0",
            "_model_name": "LayoutModel",
            "_view_count": null,
            "_view_module": "@jupyter-widgets/base",
            "_view_module_version": "1.2.0",
            "_view_name": "LayoutView",
            "align_content": null,
            "align_items": null,
            "align_self": null,
            "border": null,
            "bottom": null,
            "display": null,
            "flex": null,
            "flex_flow": null,
            "grid_area": null,
            "grid_auto_columns": null,
            "grid_auto_flow": null,
            "grid_auto_rows": null,
            "grid_column": null,
            "grid_gap": null,
            "grid_row": null,
            "grid_template_areas": null,
            "grid_template_columns": null,
            "grid_template_rows": null,
            "height": null,
            "justify_content": null,
            "justify_items": null,
            "left": null,
            "margin": null,
            "max_height": null,
            "max_width": null,
            "min_height": null,
            "min_width": null,
            "object_fit": null,
            "object_position": null,
            "order": null,
            "overflow": null,
            "overflow_x": null,
            "overflow_y": null,
            "padding": null,
            "right": null,
            "top": null,
            "visibility": null,
            "width": null
          }
        },
        "5209092641c24f3ea2392c6664676271": {
          "model_module": "@jupyter-widgets/controls",
          "model_name": "DescriptionStyleModel",
          "model_module_version": "1.5.0",
          "state": {
            "_model_module": "@jupyter-widgets/controls",
            "_model_module_version": "1.5.0",
            "_model_name": "DescriptionStyleModel",
            "_view_count": null,
            "_view_module": "@jupyter-widgets/base",
            "_view_module_version": "1.2.0",
            "_view_name": "StyleView",
            "description_width": ""
          }
        },
        "2741d8caba41418eabe012aa85d6c564": {
          "model_module": "@jupyter-widgets/controls",
          "model_name": "HBoxModel",
          "model_module_version": "1.5.0",
          "state": {
            "_dom_classes": [],
            "_model_module": "@jupyter-widgets/controls",
            "_model_module_version": "1.5.0",
            "_model_name": "HBoxModel",
            "_view_count": null,
            "_view_module": "@jupyter-widgets/controls",
            "_view_module_version": "1.5.0",
            "_view_name": "HBoxView",
            "box_style": "",
            "children": [
              "IPY_MODEL_3d12f77af6c14dd79001508e8caaed05",
              "IPY_MODEL_2a2fbd472bec4e47bdf61b4b8a6377f6",
              "IPY_MODEL_830434e8a0bd49439e7592c48bc49e4c"
            ],
            "layout": "IPY_MODEL_1d7af9336fa9425385f838727c8eaa5d"
          }
        },
        "3d12f77af6c14dd79001508e8caaed05": {
          "model_module": "@jupyter-widgets/controls",
          "model_name": "HTMLModel",
          "model_module_version": "1.5.0",
          "state": {
            "_dom_classes": [],
            "_model_module": "@jupyter-widgets/controls",
            "_model_module_version": "1.5.0",
            "_model_name": "HTMLModel",
            "_view_count": null,
            "_view_module": "@jupyter-widgets/controls",
            "_view_module_version": "1.5.0",
            "_view_name": "HTMLView",
            "description": "",
            "description_tooltip": null,
            "layout": "IPY_MODEL_29a9cc068dbb4b93805073e7b23ec01d",
            "placeholder": "​",
            "style": "IPY_MODEL_c5f14ca926c94956a6b52259465b6913",
            "value": "config.json: 100%"
          }
        },
        "2a2fbd472bec4e47bdf61b4b8a6377f6": {
          "model_module": "@jupyter-widgets/controls",
          "model_name": "FloatProgressModel",
          "model_module_version": "1.5.0",
          "state": {
            "_dom_classes": [],
            "_model_module": "@jupyter-widgets/controls",
            "_model_module_version": "1.5.0",
            "_model_name": "FloatProgressModel",
            "_view_count": null,
            "_view_module": "@jupyter-widgets/controls",
            "_view_module_version": "1.5.0",
            "_view_name": "ProgressView",
            "bar_style": "success",
            "description": "",
            "description_tooltip": null,
            "layout": "IPY_MODEL_75b7411b08f04393b6134ab3457e5791",
            "max": 570,
            "min": 0,
            "orientation": "horizontal",
            "style": "IPY_MODEL_6d215d43b36e4a948360f30f63ef3cf7",
            "value": 570
          }
        },
        "830434e8a0bd49439e7592c48bc49e4c": {
          "model_module": "@jupyter-widgets/controls",
          "model_name": "HTMLModel",
          "model_module_version": "1.5.0",
          "state": {
            "_dom_classes": [],
            "_model_module": "@jupyter-widgets/controls",
            "_model_module_version": "1.5.0",
            "_model_name": "HTMLModel",
            "_view_count": null,
            "_view_module": "@jupyter-widgets/controls",
            "_view_module_version": "1.5.0",
            "_view_name": "HTMLView",
            "description": "",
            "description_tooltip": null,
            "layout": "IPY_MODEL_7e9bf129091e4cad9b69cfbbd7858eba",
            "placeholder": "​",
            "style": "IPY_MODEL_1942cd5af5394a2c9f208b91d79e5a51",
            "value": " 570/570 [00:00&lt;00:00, 48.0kB/s]"
          }
        },
        "1d7af9336fa9425385f838727c8eaa5d": {
          "model_module": "@jupyter-widgets/base",
          "model_name": "LayoutModel",
          "model_module_version": "1.2.0",
          "state": {
            "_model_module": "@jupyter-widgets/base",
            "_model_module_version": "1.2.0",
            "_model_name": "LayoutModel",
            "_view_count": null,
            "_view_module": "@jupyter-widgets/base",
            "_view_module_version": "1.2.0",
            "_view_name": "LayoutView",
            "align_content": null,
            "align_items": null,
            "align_self": null,
            "border": null,
            "bottom": null,
            "display": null,
            "flex": null,
            "flex_flow": null,
            "grid_area": null,
            "grid_auto_columns": null,
            "grid_auto_flow": null,
            "grid_auto_rows": null,
            "grid_column": null,
            "grid_gap": null,
            "grid_row": null,
            "grid_template_areas": null,
            "grid_template_columns": null,
            "grid_template_rows": null,
            "height": null,
            "justify_content": null,
            "justify_items": null,
            "left": null,
            "margin": null,
            "max_height": null,
            "max_width": null,
            "min_height": null,
            "min_width": null,
            "object_fit": null,
            "object_position": null,
            "order": null,
            "overflow": null,
            "overflow_x": null,
            "overflow_y": null,
            "padding": null,
            "right": null,
            "top": null,
            "visibility": null,
            "width": null
          }
        },
        "29a9cc068dbb4b93805073e7b23ec01d": {
          "model_module": "@jupyter-widgets/base",
          "model_name": "LayoutModel",
          "model_module_version": "1.2.0",
          "state": {
            "_model_module": "@jupyter-widgets/base",
            "_model_module_version": "1.2.0",
            "_model_name": "LayoutModel",
            "_view_count": null,
            "_view_module": "@jupyter-widgets/base",
            "_view_module_version": "1.2.0",
            "_view_name": "LayoutView",
            "align_content": null,
            "align_items": null,
            "align_self": null,
            "border": null,
            "bottom": null,
            "display": null,
            "flex": null,
            "flex_flow": null,
            "grid_area": null,
            "grid_auto_columns": null,
            "grid_auto_flow": null,
            "grid_auto_rows": null,
            "grid_column": null,
            "grid_gap": null,
            "grid_row": null,
            "grid_template_areas": null,
            "grid_template_columns": null,
            "grid_template_rows": null,
            "height": null,
            "justify_content": null,
            "justify_items": null,
            "left": null,
            "margin": null,
            "max_height": null,
            "max_width": null,
            "min_height": null,
            "min_width": null,
            "object_fit": null,
            "object_position": null,
            "order": null,
            "overflow": null,
            "overflow_x": null,
            "overflow_y": null,
            "padding": null,
            "right": null,
            "top": null,
            "visibility": null,
            "width": null
          }
        },
        "c5f14ca926c94956a6b52259465b6913": {
          "model_module": "@jupyter-widgets/controls",
          "model_name": "DescriptionStyleModel",
          "model_module_version": "1.5.0",
          "state": {
            "_model_module": "@jupyter-widgets/controls",
            "_model_module_version": "1.5.0",
            "_model_name": "DescriptionStyleModel",
            "_view_count": null,
            "_view_module": "@jupyter-widgets/base",
            "_view_module_version": "1.2.0",
            "_view_name": "StyleView",
            "description_width": ""
          }
        },
        "75b7411b08f04393b6134ab3457e5791": {
          "model_module": "@jupyter-widgets/base",
          "model_name": "LayoutModel",
          "model_module_version": "1.2.0",
          "state": {
            "_model_module": "@jupyter-widgets/base",
            "_model_module_version": "1.2.0",
            "_model_name": "LayoutModel",
            "_view_count": null,
            "_view_module": "@jupyter-widgets/base",
            "_view_module_version": "1.2.0",
            "_view_name": "LayoutView",
            "align_content": null,
            "align_items": null,
            "align_self": null,
            "border": null,
            "bottom": null,
            "display": null,
            "flex": null,
            "flex_flow": null,
            "grid_area": null,
            "grid_auto_columns": null,
            "grid_auto_flow": null,
            "grid_auto_rows": null,
            "grid_column": null,
            "grid_gap": null,
            "grid_row": null,
            "grid_template_areas": null,
            "grid_template_columns": null,
            "grid_template_rows": null,
            "height": null,
            "justify_content": null,
            "justify_items": null,
            "left": null,
            "margin": null,
            "max_height": null,
            "max_width": null,
            "min_height": null,
            "min_width": null,
            "object_fit": null,
            "object_position": null,
            "order": null,
            "overflow": null,
            "overflow_x": null,
            "overflow_y": null,
            "padding": null,
            "right": null,
            "top": null,
            "visibility": null,
            "width": null
          }
        },
        "6d215d43b36e4a948360f30f63ef3cf7": {
          "model_module": "@jupyter-widgets/controls",
          "model_name": "ProgressStyleModel",
          "model_module_version": "1.5.0",
          "state": {
            "_model_module": "@jupyter-widgets/controls",
            "_model_module_version": "1.5.0",
            "_model_name": "ProgressStyleModel",
            "_view_count": null,
            "_view_module": "@jupyter-widgets/base",
            "_view_module_version": "1.2.0",
            "_view_name": "StyleView",
            "bar_color": null,
            "description_width": ""
          }
        },
        "7e9bf129091e4cad9b69cfbbd7858eba": {
          "model_module": "@jupyter-widgets/base",
          "model_name": "LayoutModel",
          "model_module_version": "1.2.0",
          "state": {
            "_model_module": "@jupyter-widgets/base",
            "_model_module_version": "1.2.0",
            "_model_name": "LayoutModel",
            "_view_count": null,
            "_view_module": "@jupyter-widgets/base",
            "_view_module_version": "1.2.0",
            "_view_name": "LayoutView",
            "align_content": null,
            "align_items": null,
            "align_self": null,
            "border": null,
            "bottom": null,
            "display": null,
            "flex": null,
            "flex_flow": null,
            "grid_area": null,
            "grid_auto_columns": null,
            "grid_auto_flow": null,
            "grid_auto_rows": null,
            "grid_column": null,
            "grid_gap": null,
            "grid_row": null,
            "grid_template_areas": null,
            "grid_template_columns": null,
            "grid_template_rows": null,
            "height": null,
            "justify_content": null,
            "justify_items": null,
            "left": null,
            "margin": null,
            "max_height": null,
            "max_width": null,
            "min_height": null,
            "min_width": null,
            "object_fit": null,
            "object_position": null,
            "order": null,
            "overflow": null,
            "overflow_x": null,
            "overflow_y": null,
            "padding": null,
            "right": null,
            "top": null,
            "visibility": null,
            "width": null
          }
        },
        "1942cd5af5394a2c9f208b91d79e5a51": {
          "model_module": "@jupyter-widgets/controls",
          "model_name": "DescriptionStyleModel",
          "model_module_version": "1.5.0",
          "state": {
            "_model_module": "@jupyter-widgets/controls",
            "_model_module_version": "1.5.0",
            "_model_name": "DescriptionStyleModel",
            "_view_count": null,
            "_view_module": "@jupyter-widgets/base",
            "_view_module_version": "1.2.0",
            "_view_name": "StyleView",
            "description_width": ""
          }
        },
        "193ab2e5ba684fdbac294444950d3d0a": {
          "model_module": "@jupyter-widgets/controls",
          "model_name": "HBoxModel",
          "model_module_version": "1.5.0",
          "state": {
            "_dom_classes": [],
            "_model_module": "@jupyter-widgets/controls",
            "_model_module_version": "1.5.0",
            "_model_name": "HBoxModel",
            "_view_count": null,
            "_view_module": "@jupyter-widgets/controls",
            "_view_module_version": "1.5.0",
            "_view_name": "HBoxView",
            "box_style": "",
            "children": [
              "IPY_MODEL_5ca3482519e940f5a45405e475ef966d",
              "IPY_MODEL_df1ec20d47004814ae4374784805aedd",
              "IPY_MODEL_0c7957a455794fabb31b5afb9725724e"
            ],
            "layout": "IPY_MODEL_9a31e08e65f342de9aad390fc4941058"
          }
        },
        "5ca3482519e940f5a45405e475ef966d": {
          "model_module": "@jupyter-widgets/controls",
          "model_name": "HTMLModel",
          "model_module_version": "1.5.0",
          "state": {
            "_dom_classes": [],
            "_model_module": "@jupyter-widgets/controls",
            "_model_module_version": "1.5.0",
            "_model_name": "HTMLModel",
            "_view_count": null,
            "_view_module": "@jupyter-widgets/controls",
            "_view_module_version": "1.5.0",
            "_view_name": "HTMLView",
            "description": "",
            "description_tooltip": null,
            "layout": "IPY_MODEL_2425fe19f39b45c89c951e761124a0bc",
            "placeholder": "​",
            "style": "IPY_MODEL_1956edfce3e34084b6752ba313afcdd5",
            "value": "vocab.txt: 100%"
          }
        },
        "df1ec20d47004814ae4374784805aedd": {
          "model_module": "@jupyter-widgets/controls",
          "model_name": "FloatProgressModel",
          "model_module_version": "1.5.0",
          "state": {
            "_dom_classes": [],
            "_model_module": "@jupyter-widgets/controls",
            "_model_module_version": "1.5.0",
            "_model_name": "FloatProgressModel",
            "_view_count": null,
            "_view_module": "@jupyter-widgets/controls",
            "_view_module_version": "1.5.0",
            "_view_name": "ProgressView",
            "bar_style": "success",
            "description": "",
            "description_tooltip": null,
            "layout": "IPY_MODEL_995932d598bf4c10a97d4693b57fb401",
            "max": 231508,
            "min": 0,
            "orientation": "horizontal",
            "style": "IPY_MODEL_b6fc64b44a9c482993220286d290fee6",
            "value": 231508
          }
        },
        "0c7957a455794fabb31b5afb9725724e": {
          "model_module": "@jupyter-widgets/controls",
          "model_name": "HTMLModel",
          "model_module_version": "1.5.0",
          "state": {
            "_dom_classes": [],
            "_model_module": "@jupyter-widgets/controls",
            "_model_module_version": "1.5.0",
            "_model_name": "HTMLModel",
            "_view_count": null,
            "_view_module": "@jupyter-widgets/controls",
            "_view_module_version": "1.5.0",
            "_view_name": "HTMLView",
            "description": "",
            "description_tooltip": null,
            "layout": "IPY_MODEL_dde119c791d44b64b020e2fcebf99117",
            "placeholder": "​",
            "style": "IPY_MODEL_627d29c337f24a0db92d838f31d3620d",
            "value": " 232k/232k [00:00&lt;00:00, 537kB/s]"
          }
        },
        "9a31e08e65f342de9aad390fc4941058": {
          "model_module": "@jupyter-widgets/base",
          "model_name": "LayoutModel",
          "model_module_version": "1.2.0",
          "state": {
            "_model_module": "@jupyter-widgets/base",
            "_model_module_version": "1.2.0",
            "_model_name": "LayoutModel",
            "_view_count": null,
            "_view_module": "@jupyter-widgets/base",
            "_view_module_version": "1.2.0",
            "_view_name": "LayoutView",
            "align_content": null,
            "align_items": null,
            "align_self": null,
            "border": null,
            "bottom": null,
            "display": null,
            "flex": null,
            "flex_flow": null,
            "grid_area": null,
            "grid_auto_columns": null,
            "grid_auto_flow": null,
            "grid_auto_rows": null,
            "grid_column": null,
            "grid_gap": null,
            "grid_row": null,
            "grid_template_areas": null,
            "grid_template_columns": null,
            "grid_template_rows": null,
            "height": null,
            "justify_content": null,
            "justify_items": null,
            "left": null,
            "margin": null,
            "max_height": null,
            "max_width": null,
            "min_height": null,
            "min_width": null,
            "object_fit": null,
            "object_position": null,
            "order": null,
            "overflow": null,
            "overflow_x": null,
            "overflow_y": null,
            "padding": null,
            "right": null,
            "top": null,
            "visibility": null,
            "width": null
          }
        },
        "2425fe19f39b45c89c951e761124a0bc": {
          "model_module": "@jupyter-widgets/base",
          "model_name": "LayoutModel",
          "model_module_version": "1.2.0",
          "state": {
            "_model_module": "@jupyter-widgets/base",
            "_model_module_version": "1.2.0",
            "_model_name": "LayoutModel",
            "_view_count": null,
            "_view_module": "@jupyter-widgets/base",
            "_view_module_version": "1.2.0",
            "_view_name": "LayoutView",
            "align_content": null,
            "align_items": null,
            "align_self": null,
            "border": null,
            "bottom": null,
            "display": null,
            "flex": null,
            "flex_flow": null,
            "grid_area": null,
            "grid_auto_columns": null,
            "grid_auto_flow": null,
            "grid_auto_rows": null,
            "grid_column": null,
            "grid_gap": null,
            "grid_row": null,
            "grid_template_areas": null,
            "grid_template_columns": null,
            "grid_template_rows": null,
            "height": null,
            "justify_content": null,
            "justify_items": null,
            "left": null,
            "margin": null,
            "max_height": null,
            "max_width": null,
            "min_height": null,
            "min_width": null,
            "object_fit": null,
            "object_position": null,
            "order": null,
            "overflow": null,
            "overflow_x": null,
            "overflow_y": null,
            "padding": null,
            "right": null,
            "top": null,
            "visibility": null,
            "width": null
          }
        },
        "1956edfce3e34084b6752ba313afcdd5": {
          "model_module": "@jupyter-widgets/controls",
          "model_name": "DescriptionStyleModel",
          "model_module_version": "1.5.0",
          "state": {
            "_model_module": "@jupyter-widgets/controls",
            "_model_module_version": "1.5.0",
            "_model_name": "DescriptionStyleModel",
            "_view_count": null,
            "_view_module": "@jupyter-widgets/base",
            "_view_module_version": "1.2.0",
            "_view_name": "StyleView",
            "description_width": ""
          }
        },
        "995932d598bf4c10a97d4693b57fb401": {
          "model_module": "@jupyter-widgets/base",
          "model_name": "LayoutModel",
          "model_module_version": "1.2.0",
          "state": {
            "_model_module": "@jupyter-widgets/base",
            "_model_module_version": "1.2.0",
            "_model_name": "LayoutModel",
            "_view_count": null,
            "_view_module": "@jupyter-widgets/base",
            "_view_module_version": "1.2.0",
            "_view_name": "LayoutView",
            "align_content": null,
            "align_items": null,
            "align_self": null,
            "border": null,
            "bottom": null,
            "display": null,
            "flex": null,
            "flex_flow": null,
            "grid_area": null,
            "grid_auto_columns": null,
            "grid_auto_flow": null,
            "grid_auto_rows": null,
            "grid_column": null,
            "grid_gap": null,
            "grid_row": null,
            "grid_template_areas": null,
            "grid_template_columns": null,
            "grid_template_rows": null,
            "height": null,
            "justify_content": null,
            "justify_items": null,
            "left": null,
            "margin": null,
            "max_height": null,
            "max_width": null,
            "min_height": null,
            "min_width": null,
            "object_fit": null,
            "object_position": null,
            "order": null,
            "overflow": null,
            "overflow_x": null,
            "overflow_y": null,
            "padding": null,
            "right": null,
            "top": null,
            "visibility": null,
            "width": null
          }
        },
        "b6fc64b44a9c482993220286d290fee6": {
          "model_module": "@jupyter-widgets/controls",
          "model_name": "ProgressStyleModel",
          "model_module_version": "1.5.0",
          "state": {
            "_model_module": "@jupyter-widgets/controls",
            "_model_module_version": "1.5.0",
            "_model_name": "ProgressStyleModel",
            "_view_count": null,
            "_view_module": "@jupyter-widgets/base",
            "_view_module_version": "1.2.0",
            "_view_name": "StyleView",
            "bar_color": null,
            "description_width": ""
          }
        },
        "dde119c791d44b64b020e2fcebf99117": {
          "model_module": "@jupyter-widgets/base",
          "model_name": "LayoutModel",
          "model_module_version": "1.2.0",
          "state": {
            "_model_module": "@jupyter-widgets/base",
            "_model_module_version": "1.2.0",
            "_model_name": "LayoutModel",
            "_view_count": null,
            "_view_module": "@jupyter-widgets/base",
            "_view_module_version": "1.2.0",
            "_view_name": "LayoutView",
            "align_content": null,
            "align_items": null,
            "align_self": null,
            "border": null,
            "bottom": null,
            "display": null,
            "flex": null,
            "flex_flow": null,
            "grid_area": null,
            "grid_auto_columns": null,
            "grid_auto_flow": null,
            "grid_auto_rows": null,
            "grid_column": null,
            "grid_gap": null,
            "grid_row": null,
            "grid_template_areas": null,
            "grid_template_columns": null,
            "grid_template_rows": null,
            "height": null,
            "justify_content": null,
            "justify_items": null,
            "left": null,
            "margin": null,
            "max_height": null,
            "max_width": null,
            "min_height": null,
            "min_width": null,
            "object_fit": null,
            "object_position": null,
            "order": null,
            "overflow": null,
            "overflow_x": null,
            "overflow_y": null,
            "padding": null,
            "right": null,
            "top": null,
            "visibility": null,
            "width": null
          }
        },
        "627d29c337f24a0db92d838f31d3620d": {
          "model_module": "@jupyter-widgets/controls",
          "model_name": "DescriptionStyleModel",
          "model_module_version": "1.5.0",
          "state": {
            "_model_module": "@jupyter-widgets/controls",
            "_model_module_version": "1.5.0",
            "_model_name": "DescriptionStyleModel",
            "_view_count": null,
            "_view_module": "@jupyter-widgets/base",
            "_view_module_version": "1.2.0",
            "_view_name": "StyleView",
            "description_width": ""
          }
        },
        "3976bdff449d4b38ba50e7e5ca3f4ec4": {
          "model_module": "@jupyter-widgets/controls",
          "model_name": "HBoxModel",
          "model_module_version": "1.5.0",
          "state": {
            "_dom_classes": [],
            "_model_module": "@jupyter-widgets/controls",
            "_model_module_version": "1.5.0",
            "_model_name": "HBoxModel",
            "_view_count": null,
            "_view_module": "@jupyter-widgets/controls",
            "_view_module_version": "1.5.0",
            "_view_name": "HBoxView",
            "box_style": "",
            "children": [
              "IPY_MODEL_bb5a3fce913b443aac592d1fe5bc1443",
              "IPY_MODEL_760e4011dbb545ea96c3747206681c16",
              "IPY_MODEL_f0ab19d5c12e487394fa9a43d4e0c09a"
            ],
            "layout": "IPY_MODEL_899cea7c461a4620ade5a605807ff988"
          }
        },
        "bb5a3fce913b443aac592d1fe5bc1443": {
          "model_module": "@jupyter-widgets/controls",
          "model_name": "HTMLModel",
          "model_module_version": "1.5.0",
          "state": {
            "_dom_classes": [],
            "_model_module": "@jupyter-widgets/controls",
            "_model_module_version": "1.5.0",
            "_model_name": "HTMLModel",
            "_view_count": null,
            "_view_module": "@jupyter-widgets/controls",
            "_view_module_version": "1.5.0",
            "_view_name": "HTMLView",
            "description": "",
            "description_tooltip": null,
            "layout": "IPY_MODEL_c46e8faafe284e7db7baa64cf8cbe18e",
            "placeholder": "​",
            "style": "IPY_MODEL_a266736a1f8e42b3824d23f4737f747e",
            "value": "tokenizer.json: 100%"
          }
        },
        "760e4011dbb545ea96c3747206681c16": {
          "model_module": "@jupyter-widgets/controls",
          "model_name": "FloatProgressModel",
          "model_module_version": "1.5.0",
          "state": {
            "_dom_classes": [],
            "_model_module": "@jupyter-widgets/controls",
            "_model_module_version": "1.5.0",
            "_model_name": "FloatProgressModel",
            "_view_count": null,
            "_view_module": "@jupyter-widgets/controls",
            "_view_module_version": "1.5.0",
            "_view_name": "ProgressView",
            "bar_style": "success",
            "description": "",
            "description_tooltip": null,
            "layout": "IPY_MODEL_61eaf22f3b9a4a1f9c104ee1aa490fe0",
            "max": 466062,
            "min": 0,
            "orientation": "horizontal",
            "style": "IPY_MODEL_6aad998ef92e468ab05de74a3de0cf1d",
            "value": 466062
          }
        },
        "f0ab19d5c12e487394fa9a43d4e0c09a": {
          "model_module": "@jupyter-widgets/controls",
          "model_name": "HTMLModel",
          "model_module_version": "1.5.0",
          "state": {
            "_dom_classes": [],
            "_model_module": "@jupyter-widgets/controls",
            "_model_module_version": "1.5.0",
            "_model_name": "HTMLModel",
            "_view_count": null,
            "_view_module": "@jupyter-widgets/controls",
            "_view_module_version": "1.5.0",
            "_view_name": "HTMLView",
            "description": "",
            "description_tooltip": null,
            "layout": "IPY_MODEL_50a22ca216254bb0b5d4e55c5b8d8fbe",
            "placeholder": "​",
            "style": "IPY_MODEL_8e52a7f92c0c457980bec8f37dd91436",
            "value": " 466k/466k [00:00&lt;00:00, 625kB/s]"
          }
        },
        "899cea7c461a4620ade5a605807ff988": {
          "model_module": "@jupyter-widgets/base",
          "model_name": "LayoutModel",
          "model_module_version": "1.2.0",
          "state": {
            "_model_module": "@jupyter-widgets/base",
            "_model_module_version": "1.2.0",
            "_model_name": "LayoutModel",
            "_view_count": null,
            "_view_module": "@jupyter-widgets/base",
            "_view_module_version": "1.2.0",
            "_view_name": "LayoutView",
            "align_content": null,
            "align_items": null,
            "align_self": null,
            "border": null,
            "bottom": null,
            "display": null,
            "flex": null,
            "flex_flow": null,
            "grid_area": null,
            "grid_auto_columns": null,
            "grid_auto_flow": null,
            "grid_auto_rows": null,
            "grid_column": null,
            "grid_gap": null,
            "grid_row": null,
            "grid_template_areas": null,
            "grid_template_columns": null,
            "grid_template_rows": null,
            "height": null,
            "justify_content": null,
            "justify_items": null,
            "left": null,
            "margin": null,
            "max_height": null,
            "max_width": null,
            "min_height": null,
            "min_width": null,
            "object_fit": null,
            "object_position": null,
            "order": null,
            "overflow": null,
            "overflow_x": null,
            "overflow_y": null,
            "padding": null,
            "right": null,
            "top": null,
            "visibility": null,
            "width": null
          }
        },
        "c46e8faafe284e7db7baa64cf8cbe18e": {
          "model_module": "@jupyter-widgets/base",
          "model_name": "LayoutModel",
          "model_module_version": "1.2.0",
          "state": {
            "_model_module": "@jupyter-widgets/base",
            "_model_module_version": "1.2.0",
            "_model_name": "LayoutModel",
            "_view_count": null,
            "_view_module": "@jupyter-widgets/base",
            "_view_module_version": "1.2.0",
            "_view_name": "LayoutView",
            "align_content": null,
            "align_items": null,
            "align_self": null,
            "border": null,
            "bottom": null,
            "display": null,
            "flex": null,
            "flex_flow": null,
            "grid_area": null,
            "grid_auto_columns": null,
            "grid_auto_flow": null,
            "grid_auto_rows": null,
            "grid_column": null,
            "grid_gap": null,
            "grid_row": null,
            "grid_template_areas": null,
            "grid_template_columns": null,
            "grid_template_rows": null,
            "height": null,
            "justify_content": null,
            "justify_items": null,
            "left": null,
            "margin": null,
            "max_height": null,
            "max_width": null,
            "min_height": null,
            "min_width": null,
            "object_fit": null,
            "object_position": null,
            "order": null,
            "overflow": null,
            "overflow_x": null,
            "overflow_y": null,
            "padding": null,
            "right": null,
            "top": null,
            "visibility": null,
            "width": null
          }
        },
        "a266736a1f8e42b3824d23f4737f747e": {
          "model_module": "@jupyter-widgets/controls",
          "model_name": "DescriptionStyleModel",
          "model_module_version": "1.5.0",
          "state": {
            "_model_module": "@jupyter-widgets/controls",
            "_model_module_version": "1.5.0",
            "_model_name": "DescriptionStyleModel",
            "_view_count": null,
            "_view_module": "@jupyter-widgets/base",
            "_view_module_version": "1.2.0",
            "_view_name": "StyleView",
            "description_width": ""
          }
        },
        "61eaf22f3b9a4a1f9c104ee1aa490fe0": {
          "model_module": "@jupyter-widgets/base",
          "model_name": "LayoutModel",
          "model_module_version": "1.2.0",
          "state": {
            "_model_module": "@jupyter-widgets/base",
            "_model_module_version": "1.2.0",
            "_model_name": "LayoutModel",
            "_view_count": null,
            "_view_module": "@jupyter-widgets/base",
            "_view_module_version": "1.2.0",
            "_view_name": "LayoutView",
            "align_content": null,
            "align_items": null,
            "align_self": null,
            "border": null,
            "bottom": null,
            "display": null,
            "flex": null,
            "flex_flow": null,
            "grid_area": null,
            "grid_auto_columns": null,
            "grid_auto_flow": null,
            "grid_auto_rows": null,
            "grid_column": null,
            "grid_gap": null,
            "grid_row": null,
            "grid_template_areas": null,
            "grid_template_columns": null,
            "grid_template_rows": null,
            "height": null,
            "justify_content": null,
            "justify_items": null,
            "left": null,
            "margin": null,
            "max_height": null,
            "max_width": null,
            "min_height": null,
            "min_width": null,
            "object_fit": null,
            "object_position": null,
            "order": null,
            "overflow": null,
            "overflow_x": null,
            "overflow_y": null,
            "padding": null,
            "right": null,
            "top": null,
            "visibility": null,
            "width": null
          }
        },
        "6aad998ef92e468ab05de74a3de0cf1d": {
          "model_module": "@jupyter-widgets/controls",
          "model_name": "ProgressStyleModel",
          "model_module_version": "1.5.0",
          "state": {
            "_model_module": "@jupyter-widgets/controls",
            "_model_module_version": "1.5.0",
            "_model_name": "ProgressStyleModel",
            "_view_count": null,
            "_view_module": "@jupyter-widgets/base",
            "_view_module_version": "1.2.0",
            "_view_name": "StyleView",
            "bar_color": null,
            "description_width": ""
          }
        },
        "50a22ca216254bb0b5d4e55c5b8d8fbe": {
          "model_module": "@jupyter-widgets/base",
          "model_name": "LayoutModel",
          "model_module_version": "1.2.0",
          "state": {
            "_model_module": "@jupyter-widgets/base",
            "_model_module_version": "1.2.0",
            "_model_name": "LayoutModel",
            "_view_count": null,
            "_view_module": "@jupyter-widgets/base",
            "_view_module_version": "1.2.0",
            "_view_name": "LayoutView",
            "align_content": null,
            "align_items": null,
            "align_self": null,
            "border": null,
            "bottom": null,
            "display": null,
            "flex": null,
            "flex_flow": null,
            "grid_area": null,
            "grid_auto_columns": null,
            "grid_auto_flow": null,
            "grid_auto_rows": null,
            "grid_column": null,
            "grid_gap": null,
            "grid_row": null,
            "grid_template_areas": null,
            "grid_template_columns": null,
            "grid_template_rows": null,
            "height": null,
            "justify_content": null,
            "justify_items": null,
            "left": null,
            "margin": null,
            "max_height": null,
            "max_width": null,
            "min_height": null,
            "min_width": null,
            "object_fit": null,
            "object_position": null,
            "order": null,
            "overflow": null,
            "overflow_x": null,
            "overflow_y": null,
            "padding": null,
            "right": null,
            "top": null,
            "visibility": null,
            "width": null
          }
        },
        "8e52a7f92c0c457980bec8f37dd91436": {
          "model_module": "@jupyter-widgets/controls",
          "model_name": "DescriptionStyleModel",
          "model_module_version": "1.5.0",
          "state": {
            "_model_module": "@jupyter-widgets/controls",
            "_model_module_version": "1.5.0",
            "_model_name": "DescriptionStyleModel",
            "_view_count": null,
            "_view_module": "@jupyter-widgets/base",
            "_view_module_version": "1.2.0",
            "_view_name": "StyleView",
            "description_width": ""
          }
        },
        "e8ff258ee2414b798b5377e8c7b91712": {
          "model_module": "@jupyter-widgets/controls",
          "model_name": "HBoxModel",
          "model_module_version": "1.5.0",
          "state": {
            "_dom_classes": [],
            "_model_module": "@jupyter-widgets/controls",
            "_model_module_version": "1.5.0",
            "_model_name": "HBoxModel",
            "_view_count": null,
            "_view_module": "@jupyter-widgets/controls",
            "_view_module_version": "1.5.0",
            "_view_name": "HBoxView",
            "box_style": "",
            "children": [
              "IPY_MODEL_35d1600f97c546369c9912239b1de305",
              "IPY_MODEL_de68676ea207409682d15be582eb96fa",
              "IPY_MODEL_9953e227a3d64fc49504f1e0a8106840"
            ],
            "layout": "IPY_MODEL_29b9d8021d744618abc30da57c2abfd5"
          }
        },
        "35d1600f97c546369c9912239b1de305": {
          "model_module": "@jupyter-widgets/controls",
          "model_name": "HTMLModel",
          "model_module_version": "1.5.0",
          "state": {
            "_dom_classes": [],
            "_model_module": "@jupyter-widgets/controls",
            "_model_module_version": "1.5.0",
            "_model_name": "HTMLModel",
            "_view_count": null,
            "_view_module": "@jupyter-widgets/controls",
            "_view_module_version": "1.5.0",
            "_view_name": "HTMLView",
            "description": "",
            "description_tooltip": null,
            "layout": "IPY_MODEL_0f290fae4fe44a0399b843131198aa38",
            "placeholder": "​",
            "style": "IPY_MODEL_6cb46014244143029ac34aa15eaab50c",
            "value": "model.safetensors: 100%"
          }
        },
        "de68676ea207409682d15be582eb96fa": {
          "model_module": "@jupyter-widgets/controls",
          "model_name": "FloatProgressModel",
          "model_module_version": "1.5.0",
          "state": {
            "_dom_classes": [],
            "_model_module": "@jupyter-widgets/controls",
            "_model_module_version": "1.5.0",
            "_model_name": "FloatProgressModel",
            "_view_count": null,
            "_view_module": "@jupyter-widgets/controls",
            "_view_module_version": "1.5.0",
            "_view_name": "ProgressView",
            "bar_style": "success",
            "description": "",
            "description_tooltip": null,
            "layout": "IPY_MODEL_b355e0195cd1439ea6524105f4e750d5",
            "max": 440449768,
            "min": 0,
            "orientation": "horizontal",
            "style": "IPY_MODEL_f11fa5f136cf4181a85b8aca5429c4df",
            "value": 440449768
          }
        },
        "9953e227a3d64fc49504f1e0a8106840": {
          "model_module": "@jupyter-widgets/controls",
          "model_name": "HTMLModel",
          "model_module_version": "1.5.0",
          "state": {
            "_dom_classes": [],
            "_model_module": "@jupyter-widgets/controls",
            "_model_module_version": "1.5.0",
            "_model_name": "HTMLModel",
            "_view_count": null,
            "_view_module": "@jupyter-widgets/controls",
            "_view_module_version": "1.5.0",
            "_view_name": "HTMLView",
            "description": "",
            "description_tooltip": null,
            "layout": "IPY_MODEL_34ac847c729e418fa366ae5e127fe710",
            "placeholder": "​",
            "style": "IPY_MODEL_d74d064a58a24e1d978a4a7fb17d7d38",
            "value": " 440M/440M [00:02&lt;00:00, 195MB/s]"
          }
        },
        "29b9d8021d744618abc30da57c2abfd5": {
          "model_module": "@jupyter-widgets/base",
          "model_name": "LayoutModel",
          "model_module_version": "1.2.0",
          "state": {
            "_model_module": "@jupyter-widgets/base",
            "_model_module_version": "1.2.0",
            "_model_name": "LayoutModel",
            "_view_count": null,
            "_view_module": "@jupyter-widgets/base",
            "_view_module_version": "1.2.0",
            "_view_name": "LayoutView",
            "align_content": null,
            "align_items": null,
            "align_self": null,
            "border": null,
            "bottom": null,
            "display": null,
            "flex": null,
            "flex_flow": null,
            "grid_area": null,
            "grid_auto_columns": null,
            "grid_auto_flow": null,
            "grid_auto_rows": null,
            "grid_column": null,
            "grid_gap": null,
            "grid_row": null,
            "grid_template_areas": null,
            "grid_template_columns": null,
            "grid_template_rows": null,
            "height": null,
            "justify_content": null,
            "justify_items": null,
            "left": null,
            "margin": null,
            "max_height": null,
            "max_width": null,
            "min_height": null,
            "min_width": null,
            "object_fit": null,
            "object_position": null,
            "order": null,
            "overflow": null,
            "overflow_x": null,
            "overflow_y": null,
            "padding": null,
            "right": null,
            "top": null,
            "visibility": null,
            "width": null
          }
        },
        "0f290fae4fe44a0399b843131198aa38": {
          "model_module": "@jupyter-widgets/base",
          "model_name": "LayoutModel",
          "model_module_version": "1.2.0",
          "state": {
            "_model_module": "@jupyter-widgets/base",
            "_model_module_version": "1.2.0",
            "_model_name": "LayoutModel",
            "_view_count": null,
            "_view_module": "@jupyter-widgets/base",
            "_view_module_version": "1.2.0",
            "_view_name": "LayoutView",
            "align_content": null,
            "align_items": null,
            "align_self": null,
            "border": null,
            "bottom": null,
            "display": null,
            "flex": null,
            "flex_flow": null,
            "grid_area": null,
            "grid_auto_columns": null,
            "grid_auto_flow": null,
            "grid_auto_rows": null,
            "grid_column": null,
            "grid_gap": null,
            "grid_row": null,
            "grid_template_areas": null,
            "grid_template_columns": null,
            "grid_template_rows": null,
            "height": null,
            "justify_content": null,
            "justify_items": null,
            "left": null,
            "margin": null,
            "max_height": null,
            "max_width": null,
            "min_height": null,
            "min_width": null,
            "object_fit": null,
            "object_position": null,
            "order": null,
            "overflow": null,
            "overflow_x": null,
            "overflow_y": null,
            "padding": null,
            "right": null,
            "top": null,
            "visibility": null,
            "width": null
          }
        },
        "6cb46014244143029ac34aa15eaab50c": {
          "model_module": "@jupyter-widgets/controls",
          "model_name": "DescriptionStyleModel",
          "model_module_version": "1.5.0",
          "state": {
            "_model_module": "@jupyter-widgets/controls",
            "_model_module_version": "1.5.0",
            "_model_name": "DescriptionStyleModel",
            "_view_count": null,
            "_view_module": "@jupyter-widgets/base",
            "_view_module_version": "1.2.0",
            "_view_name": "StyleView",
            "description_width": ""
          }
        },
        "b355e0195cd1439ea6524105f4e750d5": {
          "model_module": "@jupyter-widgets/base",
          "model_name": "LayoutModel",
          "model_module_version": "1.2.0",
          "state": {
            "_model_module": "@jupyter-widgets/base",
            "_model_module_version": "1.2.0",
            "_model_name": "LayoutModel",
            "_view_count": null,
            "_view_module": "@jupyter-widgets/base",
            "_view_module_version": "1.2.0",
            "_view_name": "LayoutView",
            "align_content": null,
            "align_items": null,
            "align_self": null,
            "border": null,
            "bottom": null,
            "display": null,
            "flex": null,
            "flex_flow": null,
            "grid_area": null,
            "grid_auto_columns": null,
            "grid_auto_flow": null,
            "grid_auto_rows": null,
            "grid_column": null,
            "grid_gap": null,
            "grid_row": null,
            "grid_template_areas": null,
            "grid_template_columns": null,
            "grid_template_rows": null,
            "height": null,
            "justify_content": null,
            "justify_items": null,
            "left": null,
            "margin": null,
            "max_height": null,
            "max_width": null,
            "min_height": null,
            "min_width": null,
            "object_fit": null,
            "object_position": null,
            "order": null,
            "overflow": null,
            "overflow_x": null,
            "overflow_y": null,
            "padding": null,
            "right": null,
            "top": null,
            "visibility": null,
            "width": null
          }
        },
        "f11fa5f136cf4181a85b8aca5429c4df": {
          "model_module": "@jupyter-widgets/controls",
          "model_name": "ProgressStyleModel",
          "model_module_version": "1.5.0",
          "state": {
            "_model_module": "@jupyter-widgets/controls",
            "_model_module_version": "1.5.0",
            "_model_name": "ProgressStyleModel",
            "_view_count": null,
            "_view_module": "@jupyter-widgets/base",
            "_view_module_version": "1.2.0",
            "_view_name": "StyleView",
            "bar_color": null,
            "description_width": ""
          }
        },
        "34ac847c729e418fa366ae5e127fe710": {
          "model_module": "@jupyter-widgets/base",
          "model_name": "LayoutModel",
          "model_module_version": "1.2.0",
          "state": {
            "_model_module": "@jupyter-widgets/base",
            "_model_module_version": "1.2.0",
            "_model_name": "LayoutModel",
            "_view_count": null,
            "_view_module": "@jupyter-widgets/base",
            "_view_module_version": "1.2.0",
            "_view_name": "LayoutView",
            "align_content": null,
            "align_items": null,
            "align_self": null,
            "border": null,
            "bottom": null,
            "display": null,
            "flex": null,
            "flex_flow": null,
            "grid_area": null,
            "grid_auto_columns": null,
            "grid_auto_flow": null,
            "grid_auto_rows": null,
            "grid_column": null,
            "grid_gap": null,
            "grid_row": null,
            "grid_template_areas": null,
            "grid_template_columns": null,
            "grid_template_rows": null,
            "height": null,
            "justify_content": null,
            "justify_items": null,
            "left": null,
            "margin": null,
            "max_height": null,
            "max_width": null,
            "min_height": null,
            "min_width": null,
            "object_fit": null,
            "object_position": null,
            "order": null,
            "overflow": null,
            "overflow_x": null,
            "overflow_y": null,
            "padding": null,
            "right": null,
            "top": null,
            "visibility": null,
            "width": null
          }
        },
        "d74d064a58a24e1d978a4a7fb17d7d38": {
          "model_module": "@jupyter-widgets/controls",
          "model_name": "DescriptionStyleModel",
          "model_module_version": "1.5.0",
          "state": {
            "_model_module": "@jupyter-widgets/controls",
            "_model_module_version": "1.5.0",
            "_model_name": "DescriptionStyleModel",
            "_view_count": null,
            "_view_module": "@jupyter-widgets/base",
            "_view_module_version": "1.2.0",
            "_view_name": "StyleView",
            "description_width": ""
          }
        }
      }
    }
  },
  "cells": [
    {
      "cell_type": "markdown",
      "metadata": {
        "id": "bBXHKtr84syG"
      },
      "source": [
        "# ***Base bert for Medical dataset***\n",
        "# *CS646 Poject*"
      ]
    },
    {
      "cell_type": "code",
      "metadata": {
        "id": "v5Jlcrg0ghs-"
      },
      "source": [
        "import json\n",
        "from pathlib import Path\n",
        "import torch\n",
        "from torch.utils.data import DataLoader\n",
        "import time"
      ],
      "execution_count": null,
      "outputs": []
    },
    {
      "cell_type": "code",
      "metadata": {
        "id": "U7XcbS3afYOf"
      },
      "source": [
        "%%capture\n",
        "!mkdir squad\n",
        "!wget https://rajpurkar.github.io/SQuAD-explorer/dataset/train-v2.0.json -O squad/train-v2.0.json\n",
        "!wget https://rajpurkar.github.io/SQuAD-explorer/dataset/dev-v2.0.json -O squad/dev-v2.0.json"
      ],
      "execution_count": null,
      "outputs": []
    },
    {
      "cell_type": "code",
      "metadata": {
        "id": "uC-Kx4ij3T6a"
      },
      "source": [
        "%%capture\n",
        "! pip install datasets transformers"
      ],
      "execution_count": null,
      "outputs": []
    },
    {
      "cell_type": "code",
      "source": [
        "from google.colab import drive\n",
        "drive.mount('/content/drive')"
      ],
      "metadata": {
        "colab": {
          "base_uri": "https://localhost:8080/"
        },
        "id": "VpXGGTkTJFuC",
        "outputId": "c168fdd3-04b1-4e1e-c618-9b99955f93d5"
      },
      "execution_count": null,
      "outputs": [
        {
          "output_type": "stream",
          "name": "stdout",
          "text": [
            "Mounted at /content/drive\n"
          ]
        }
      ]
    },
    {
      "cell_type": "code",
      "source": [
        "import json\n",
        "from pathlib import Path\n",
        "import re\n",
        "\n",
        "def targeted_clean_sentences(sent_list):\n",
        "    \"\"\"\n",
        "    Remove sentences containing JavaScript or irrelevant patterns.\n",
        "    \"\"\"\n",
        "    unwanted_patterns = [\n",
        "        r\"var \", r\"s_context\", r\"\\$\", r\"require\", r\"function\", r\"insert\", r\"webmd\", r\"disable\", r\"ads\", r\"module\"\n",
        "    ]\n",
        "    # Compile regex for unwanted patterns\n",
        "    unwanted_regex = re.compile(\"|\".join(unwanted_patterns), re.IGNORECASE)\n",
        "\n",
        "    # Filter out sentences matching unwanted patterns\n",
        "    clean_sent_list = [sentence for sentence in sent_list if not unwanted_regex.search(sentence)]\n",
        "    return \" \".join(clean_sent_list)  # Join the cleaned sentences\n",
        "\n",
        "def load_and_preprocess_data_with_targeted_cleaning(file_path):\n",
        "    with open(file_path, 'r') as f:\n",
        "        data = json.load(f)\n",
        "\n",
        "    texts, queries, answers = [], [], []\n",
        "\n",
        "    for item in data['data']:\n",
        "        for paragraph in item['paragraphs']:\n",
        "            # Clean the context\n",
        "            context = targeted_clean_sentences(paragraph['sent_list'])\n",
        "\n",
        "            for qa in paragraph['qas']:\n",
        "                question = qa['question']\n",
        "                truncated_answers = []\n",
        "                truncated_answer_starts = []\n",
        "\n",
        "                for ans in qa['answers']:\n",
        "                    first_line = ans['text'].split('.')[0] + '.'  # Take only the first line\n",
        "                    start = context.find(first_line)\n",
        "\n",
        "                    if start != -1:  # If the first line is found in the cleaned context\n",
        "                        truncated_answers.append(first_line)\n",
        "                        truncated_answer_starts.append(start)\n",
        "                    else:  # Fall back to the original full answer\n",
        "                        truncated_answers.append(ans['text'])\n",
        "                        truncated_answer_starts.append(ans['answer_start'])\n",
        "\n",
        "                answers_obj = {\n",
        "                    \"text\": truncated_answers,\n",
        "                    \"answer_start\": truncated_answer_starts\n",
        "                }\n",
        "\n",
        "                for i, answer_start in enumerate(answers_obj[\"answer_start\"]):\n",
        "                    answer_text = answers_obj[\"text\"][i]\n",
        "                    answer_end = answer_start + len(answer_text)\n",
        "\n",
        "                    # Determine the trimming window\n",
        "                    start_idx = max(0, answer_start - 128)  # Include 128 tokens before the answer\n",
        "                    end_idx = min(len(context), answer_end + 128)  # Include 128 tokens after the answer\n",
        "\n",
        "                    trimmed_context = context[start_idx:end_idx]\n",
        "\n",
        "                    # Adjust the answer start to the new trimmed context\n",
        "                    adjusted_answer_start = answer_start - start_idx\n",
        "\n",
        "                    # Append to the lists\n",
        "                    texts.append(trimmed_context)\n",
        "                    queries.append(question)\n",
        "                    answers.append({\n",
        "                        \"text\": [answer_text],\n",
        "                        \"answer_start\": [adjusted_answer_start]\n",
        "                    })\n",
        "\n",
        "    return texts, queries, answers\n",
        "\n",
        "# Process train data\n",
        "train_path = Path('/content/drive/MyDrive/646 Project/mashqa_dataset/train_webmd_squad_v2_consec.json')\n",
        "train_texts, train_queries, train_answers = load_and_preprocess_data_with_targeted_cleaning(train_path)\n",
        "\n",
        "# Process validation data\n",
        "val_path = Path('/content/drive/MyDrive/646 Project/mashqa_dataset/val_webmd_squad_v2_consec.json')\n",
        "val_texts, val_queries, val_answers = load_and_preprocess_data_with_targeted_cleaning(val_path)\n"
      ],
      "metadata": {
        "id": "4JE7uRUbgENm"
      },
      "execution_count": null,
      "outputs": []
    },
    {
      "cell_type": "code",
      "metadata": {
        "colab": {
          "base_uri": "https://localhost:8080/"
        },
        "id": "xPrlBV3hkJSe",
        "outputId": "379c13f6-c5ec-4792-df50-d24186a82408"
      },
      "source": [
        "print(\"Passage: \",train_texts[0])\n",
        "print(\"Query: \",train_queries[0])\n",
        "print(\"Answer: \",train_answers[0])"
      ],
      "execution_count": null,
      "outputs": [
        {
          "output_type": "stream",
          "name": "stdout",
          "text": [
            "Passage:  ecked regularly, as some people may develop a case of chronic angle-closure glaucoma later in life, even after laser treatment. If the glaucoma does not respond to medication, or if you cannot tolerate the side effects, your doctor may change medications or recommend one of several surgical techniques: Laser trabeculoplasty creates small laser burns in the area where the fluid drains, improving the outflow rate of aqueous fluid. This relatively brief procedure can often be done in an ophthalmologist's clinic. Trabeculectomy is a surgical procedure that c\n",
            "Query:  What surgical techniques are used to treat glaucoma?\n",
            "Answer:  {'text': ['If the glaucoma does not respond to medication, or if you cannot tolerate the side effects, your doctor may change medications or recommend one of several surgical techniques: Laser trabeculoplasty creates small laser burns in the area where the fluid drains, improving the outflow rate of aqueous fluid.'], 'answer_start': [128]}\n"
          ]
        }
      ]
    },
    {
      "cell_type": "markdown",
      "metadata": {
        "id": "6JCAvOgalXbh"
      },
      "source": [
        "As you can see we have 20302 passages, queries and answers from the validation data"
      ]
    },
    {
      "cell_type": "code",
      "metadata": {
        "colab": {
          "base_uri": "https://localhost:8080/"
        },
        "id": "bMs6opQPlLBE",
        "outputId": "5a85e530-f624-481b-8928-6a35a9961957"
      },
      "source": [
        "print(len(val_texts))\n",
        "print(len(val_queries))\n",
        "print(len(val_answers))"
      ],
      "execution_count": null,
      "outputs": [
        {
          "output_type": "stream",
          "name": "stdout",
          "text": [
            "2686\n",
            "2686\n",
            "2686\n"
          ]
        }
      ]
    },
    {
      "cell_type": "code",
      "metadata": {
        "colab": {
          "base_uri": "https://localhost:8080/"
        },
        "id": "FBf0eNdblL_P",
        "outputId": "c56675f9-956f-483f-e1b1-4bc53f4aecef"
      },
      "source": [
        "print(\"Passage: \",val_texts[0])\n",
        "print(\"Query: \",val_queries[0])\n",
        "print(\"Answer: \",val_answers[0])"
      ],
      "execution_count": null,
      "outputs": [
        {
          "output_type": "stream",
          "name": "stdout",
          "text": [
            "Passage:  use. In nearly 75% of ED cases, there's a physical cause. That means it's time to see your doctor. There are drugs just for ED. Other options your doctor can help you explore include: Injections Suppositories Surgical penile implants Special devices, like vacuum pumps, which boost blood flow to the penis It can be linked to more serious health conditions like: High blood pressure Hardening of the arteries Diabetes It can also be linked to other medical treatments, such as: Prostate surgery Radiation therapy If your doctor can find the cause, treating that may also help you in the bedroom. If stress, anxiety, or depression is causing it, your doctor can help you find a licensed mental health professional to talk wi\n",
            "Query:  What are some conditions that can lead to erectile dysfunction?\n",
            "Answer:  {'text': ['Other options your doctor can help you explore include: Injections Suppositories Surgical penile implants Special devices, like vacuum pumps, which boost blood flow to the penis It can be linked to more serious health conditions like: High blood pressure Hardening of the arteries Diabetes It can also be linked to other medical treatments, such as: Prostate surgery Radiation therapy If your doctor can find the cause, treating that may also help you in the bedroom.'], 'answer_start': [128]}\n"
          ]
        }
      ]
    },
    {
      "cell_type": "markdown",
      "metadata": {
        "id": "_QFwoBu7gOac"
      },
      "source": [
        "This was helped me to split my dataset in order to run my notebook in my first attemps."
      ]
    },
    {
      "cell_type": "code",
      "metadata": {
        "id": "QsxbrdQBIN4l"
      },
      "source": [
        "# train_texts = train_texts[:10]\n",
        "# train_queries = train_queries[:10]\n",
        "# train_answers = train_answers[:10]\n",
        "\n",
        "# val_texts = val_texts[:10]\n",
        "# val_queries = val_queries[:10]\n",
        "# val_answers = val_answers[:10]"
      ],
      "execution_count": null,
      "outputs": []
    },
    {
      "cell_type": "code",
      "metadata": {
        "id": "lq4GEXQ7IpwS"
      },
      "source": [
        "# print(len(train_texts))\n",
        "# print(len(train_queries))\n",
        "# print(len(train_answers))"
      ],
      "execution_count": null,
      "outputs": []
    },
    {
      "cell_type": "code",
      "metadata": {
        "id": "MQ3KHKIkIy0G"
      },
      "source": [
        "# print(len(val_texts))\n",
        "# print(len(val_queries))\n",
        "# print(len(val_answers))"
      ],
      "execution_count": null,
      "outputs": []
    },
    {
      "cell_type": "markdown",
      "metadata": {
        "id": "kNAThgIvq_4S"
      },
      "source": [
        "Find end position character in train data"
      ]
    },
    {
      "cell_type": "code",
      "metadata": {
        "id": "qlexBsEcnI77"
      },
      "source": [
        "for answer, text in zip(train_answers, train_texts):\n",
        "    # Get the real answer and start index (access the first element of the lists)\n",
        "    real_answer = answer['text'][0]  # Extract the first text from the list\n",
        "    start_idx = int(answer['answer_start'][0])  # Extract the first start index from the list\n",
        "\n",
        "    # Calculate the real end index\n",
        "    end_idx = start_idx + len(real_answer)\n",
        "\n",
        "    # Deal with the problem of 1 or 2 more characters\n",
        "    if text[start_idx:end_idx] == real_answer:\n",
        "        answer['answer_end'] = [end_idx]  # Add as a list\n",
        "    # When the real answer is more by one character\n",
        "    elif text[start_idx-1:end_idx-1] == real_answer:\n",
        "        answer['answer_start'] = [start_idx - 1]  # Update the start index as a list\n",
        "        answer['answer_end'] = [end_idx - 1]  # Update the end index as a list\n",
        "    # When the real answer is more by two characters\n",
        "    elif text[start_idx-2:end_idx-2] == real_answer:\n",
        "        answer['answer_start'] = [start_idx - 2]  # Update the start index as a list\n",
        "        answer['answer_end'] = [end_idx - 2]  # Update the end index as a list\n"
      ],
      "execution_count": null,
      "outputs": []
    },
    {
      "cell_type": "markdown",
      "metadata": {
        "id": "aEzbDWC1sPEn"
      },
      "source": [
        "Find end position character in validation data"
      ]
    },
    {
      "cell_type": "code",
      "metadata": {
        "id": "Xe2_AZszsRqr"
      },
      "source": [
        "for answer, text in zip(val_answers, val_texts):\n",
        "    # Get the real answer and start index (access the first element of the lists)\n",
        "    real_answer = answer['text'][0]  # Extract the first text from the list\n",
        "    start_idx = int(answer['answer_start'][0])  # Extract the first start index from the list\n",
        "\n",
        "    # Calculate the real end index\n",
        "    end_idx = start_idx + len(real_answer)\n",
        "\n",
        "    # Deal with the problem of 1 or 2 more characters\n",
        "    if text[start_idx:end_idx] == real_answer:\n",
        "        answer['answer_end'] = [end_idx]  # Add as a list\n",
        "    # When the real answer is more by one character\n",
        "    elif text[start_idx-1:end_idx-1] == real_answer:\n",
        "        answer['answer_start'] = [start_idx - 1]  # Update the start index as a list\n",
        "        answer['answer_end'] = [end_idx - 1]  # Update the end index as a list\n",
        "    # When the real answer is more by two characters\n",
        "    elif text[start_idx-2:end_idx-2] == real_answer:\n",
        "        answer['answer_start'] = [start_idx - 2]  # Update the start index as a list\n",
        "        answer['answer_end'] = [end_idx - 2]  # Update the end index as a list"
      ],
      "execution_count": null,
      "outputs": []
    },
    {
      "cell_type": "code",
      "source": [
        "# Ensure all train_answers have 'answer_end'\n",
        "for answer, text in zip(train_answers, train_texts):\n",
        "    real_answer = answer['text'][0]  # Extract the first text from the list\n",
        "    start_idx = int(answer['answer_start'][0])  # Extract the first start index from the list\n",
        "\n",
        "    # Calculate the real end index\n",
        "    end_idx = start_idx + len(real_answer)\n",
        "\n",
        "    # Deal with the problem of 1 or 2 more characters\n",
        "    if text[start_idx:end_idx] == real_answer:\n",
        "        answer['answer_end'] = [end_idx]  # Add as a list\n",
        "    elif text[start_idx-1:end_idx-1] == real_answer:\n",
        "        answer['answer_start'] = [start_idx - 1]\n",
        "        answer['answer_end'] = [end_idx - 1]\n",
        "    elif text[start_idx-2:end_idx-2] == real_answer:\n",
        "        answer['answer_start'] = [start_idx - 2]\n",
        "        answer['answer_end'] = [end_idx - 2]\n",
        "    else:\n",
        "        # Default to the calculated end index if no match (edge case)\n",
        "        answer['answer_end'] = [end_idx]\n",
        "\n",
        "# Ensure all val_answers have 'answer_end'\n",
        "for answer, text in zip(val_answers, val_texts):\n",
        "    real_answer = answer['text'][0]\n",
        "    start_idx = int(answer['answer_start'][0])\n",
        "\n",
        "    end_idx = start_idx + len(real_answer)\n",
        "\n",
        "    if text[start_idx:end_idx] == real_answer:\n",
        "        answer['answer_end'] = [end_idx]\n",
        "    elif text[start_idx-1:end_idx-1] == real_answer:\n",
        "        answer['answer_start'] = [start_idx - 1]\n",
        "        answer['answer_end'] = [end_idx - 1]\n",
        "    elif text[start_idx-2:end_idx-2] == real_answer:\n",
        "        answer['answer_start'] = [start_idx - 2]\n",
        "        answer['answer_end'] = [end_idx - 2]\n",
        "    else:\n",
        "        answer['answer_end'] = [end_idx]\n"
      ],
      "metadata": {
        "id": "gPADrFeVjErb"
      },
      "execution_count": null,
      "outputs": []
    },
    {
      "cell_type": "markdown",
      "metadata": {
        "id": "boxZGej3t17f"
      },
      "source": [
        "In this task is asked to select the BERT-base pretrained model “bert-base-uncased” for the tokenization"
      ]
    },
    {
      "cell_type": "code",
      "metadata": {
        "id": "-dncUoMhtpWj",
        "colab": {
          "base_uri": "https://localhost:8080/",
          "height": 267,
          "referenced_widgets": [
            "dbcf9b36599d471caa4a5051b27b2b39",
            "a747faec94214ee2badc04d9ff8221f9",
            "3c41bcad822d4342b79306365ae57cd1",
            "d1ea9db98cd94dd5bfb3c394bb310e8c",
            "7bc3b6acaba94700aa0d866ed5497e31",
            "331969b42eb744aaab0793a03e5fde48",
            "a11d78203a934fd3a4534bf040170be7",
            "af2dd1d42e0f4faeadc97010b92a69d0",
            "9fa0e090cd6e432fbbb4606a32ae0523",
            "0ea60fdd7ced40db90c046fc6799bf04",
            "5209092641c24f3ea2392c6664676271",
            "2741d8caba41418eabe012aa85d6c564",
            "3d12f77af6c14dd79001508e8caaed05",
            "2a2fbd472bec4e47bdf61b4b8a6377f6",
            "830434e8a0bd49439e7592c48bc49e4c",
            "1d7af9336fa9425385f838727c8eaa5d",
            "29a9cc068dbb4b93805073e7b23ec01d",
            "c5f14ca926c94956a6b52259465b6913",
            "75b7411b08f04393b6134ab3457e5791",
            "6d215d43b36e4a948360f30f63ef3cf7",
            "7e9bf129091e4cad9b69cfbbd7858eba",
            "1942cd5af5394a2c9f208b91d79e5a51",
            "193ab2e5ba684fdbac294444950d3d0a",
            "5ca3482519e940f5a45405e475ef966d",
            "df1ec20d47004814ae4374784805aedd",
            "0c7957a455794fabb31b5afb9725724e",
            "9a31e08e65f342de9aad390fc4941058",
            "2425fe19f39b45c89c951e761124a0bc",
            "1956edfce3e34084b6752ba313afcdd5",
            "995932d598bf4c10a97d4693b57fb401",
            "b6fc64b44a9c482993220286d290fee6",
            "dde119c791d44b64b020e2fcebf99117",
            "627d29c337f24a0db92d838f31d3620d",
            "3976bdff449d4b38ba50e7e5ca3f4ec4",
            "bb5a3fce913b443aac592d1fe5bc1443",
            "760e4011dbb545ea96c3747206681c16",
            "f0ab19d5c12e487394fa9a43d4e0c09a",
            "899cea7c461a4620ade5a605807ff988",
            "c46e8faafe284e7db7baa64cf8cbe18e",
            "a266736a1f8e42b3824d23f4737f747e",
            "61eaf22f3b9a4a1f9c104ee1aa490fe0",
            "6aad998ef92e468ab05de74a3de0cf1d",
            "50a22ca216254bb0b5d4e55c5b8d8fbe",
            "8e52a7f92c0c457980bec8f37dd91436"
          ]
        },
        "outputId": "40c2338c-8b22-47a0-9ac3-2d6342d6f763"
      },
      "source": [
        "from transformers import AutoTokenizer,AdamW,BertForQuestionAnswering\n",
        "tokenizer = AutoTokenizer.from_pretrained(\"bert-base-uncased\")\n",
        "\n",
        "train_encodings = tokenizer(train_texts, train_queries, truncation=True, padding=True)\n",
        "val_encodings = tokenizer(val_texts, val_queries, truncation=True, padding=True)"
      ],
      "execution_count": null,
      "outputs": [
        {
          "output_type": "stream",
          "name": "stderr",
          "text": [
            "/usr/local/lib/python3.10/dist-packages/huggingface_hub/utils/_auth.py:94: UserWarning: \n",
            "The secret `HF_TOKEN` does not exist in your Colab secrets.\n",
            "To authenticate with the Hugging Face Hub, create a token in your settings tab (https://huggingface.co/settings/tokens), set it as secret in your Google Colab and restart your session.\n",
            "You will be able to reuse this secret in all of your notebooks.\n",
            "Please note that authentication is recommended but still optional to access public models or datasets.\n",
            "  warnings.warn(\n"
          ]
        },
        {
          "output_type": "display_data",
          "data": {
            "text/plain": [
              "tokenizer_config.json:   0%|          | 0.00/48.0 [00:00<?, ?B/s]"
            ],
            "application/vnd.jupyter.widget-view+json": {
              "version_major": 2,
              "version_minor": 0,
              "model_id": "dbcf9b36599d471caa4a5051b27b2b39"
            }
          },
          "metadata": {}
        },
        {
          "output_type": "display_data",
          "data": {
            "text/plain": [
              "config.json:   0%|          | 0.00/570 [00:00<?, ?B/s]"
            ],
            "application/vnd.jupyter.widget-view+json": {
              "version_major": 2,
              "version_minor": 0,
              "model_id": "2741d8caba41418eabe012aa85d6c564"
            }
          },
          "metadata": {}
        },
        {
          "output_type": "display_data",
          "data": {
            "text/plain": [
              "vocab.txt:   0%|          | 0.00/232k [00:00<?, ?B/s]"
            ],
            "application/vnd.jupyter.widget-view+json": {
              "version_major": 2,
              "version_minor": 0,
              "model_id": "193ab2e5ba684fdbac294444950d3d0a"
            }
          },
          "metadata": {}
        },
        {
          "output_type": "display_data",
          "data": {
            "text/plain": [
              "tokenizer.json:   0%|          | 0.00/466k [00:00<?, ?B/s]"
            ],
            "application/vnd.jupyter.widget-view+json": {
              "version_major": 2,
              "version_minor": 0,
              "model_id": "3976bdff449d4b38ba50e7e5ca3f4ec4"
            }
          },
          "metadata": {}
        }
      ]
    },
    {
      "cell_type": "code",
      "metadata": {
        "colab": {
          "base_uri": "https://localhost:8080/"
        },
        "id": "VHDTX4HZzN3e",
        "outputId": "a4e98676-a277-4c0d-aa3b-d02ad77da3d3"
      },
      "source": [
        "def add_token_positions(encodings, answers):\n",
        "    start_positions = []\n",
        "    end_positions = []\n",
        "    count = 0\n",
        "\n",
        "    for i in range(len(answers)):\n",
        "        # Extract the first start and end indices from the lists\n",
        "        start_char = answers[i]['answer_start'][0]\n",
        "        end_char = answers[i]['answer_end'][0]\n",
        "\n",
        "        # Map character positions to token positions\n",
        "        start_positions.append(encodings.char_to_token(i, start_char))\n",
        "        end_positions.append(encodings.char_to_token(i, end_char))\n",
        "\n",
        "        # Handle None cases for start positions\n",
        "        if start_positions[-1] is None:\n",
        "            start_positions[-1] = tokenizer.model_max_length\n",
        "\n",
        "        # Handle None cases for end positions\n",
        "        if end_positions[-1] is None:\n",
        "            end_positions[-1] = encodings.char_to_token(i, end_char - 1)\n",
        "            # If still None, fallback to model max length\n",
        "            if end_positions[-1] is None:\n",
        "                count += 1\n",
        "                end_positions[-1] = tokenizer.model_max_length\n",
        "\n",
        "    print(f\"Number of truncated answers: {count}\")\n",
        "\n",
        "    # Update the encodings with start and end positions\n",
        "    encodings.update({'start_positions': start_positions, 'end_positions': end_positions})\n",
        "\n",
        "# Apply the function to train and validation data\n",
        "add_token_positions(train_encodings, train_answers)\n",
        "add_token_positions(val_encodings, val_answers)\n"
      ],
      "execution_count": null,
      "outputs": [
        {
          "output_type": "stream",
          "name": "stdout",
          "text": [
            "Number of truncated answers: 184\n",
            "Number of truncated answers: 20\n"
          ]
        }
      ]
    },
    {
      "cell_type": "code",
      "metadata": {
        "id": "FjYzrXas3yhy"
      },
      "source": [
        "class SquadDataset(torch.utils.data.Dataset):\n",
        "    def __init__(self, encodings):\n",
        "        self.encodings = encodings\n",
        "\n",
        "    def __getitem__(self, idx):\n",
        "        return {key: torch.tensor(val[idx]) for key, val in self.encodings.items()}\n",
        "\n",
        "    def __len__(self):\n",
        "        return len(self.encodings.input_ids)"
      ],
      "execution_count": null,
      "outputs": []
    },
    {
      "cell_type": "code",
      "metadata": {
        "id": "fHGYpU8x8GCT"
      },
      "source": [
        "train_dataset = SquadDataset(train_encodings)\n",
        "val_dataset = SquadDataset(val_encodings)"
      ],
      "execution_count": null,
      "outputs": []
    },
    {
      "cell_type": "code",
      "metadata": {
        "id": "XCohXB_R8HkC"
      },
      "source": [
        "train_loader = DataLoader(train_dataset, batch_size=8, shuffle=True)\n",
        "val_loader = DataLoader(val_dataset, batch_size=8, shuffle=True)"
      ],
      "execution_count": null,
      "outputs": []
    },
    {
      "cell_type": "code",
      "metadata": {
        "id": "N12rPAE39QS0"
      },
      "source": [
        "device = torch.device('cuda:0' if torch.cuda.is_available()\n",
        "                      else 'cpu')"
      ],
      "execution_count": null,
      "outputs": []
    },
    {
      "cell_type": "code",
      "metadata": {
        "colab": {
          "base_uri": "https://localhost:8080/",
          "height": 137,
          "referenced_widgets": [
            "e8ff258ee2414b798b5377e8c7b91712",
            "35d1600f97c546369c9912239b1de305",
            "de68676ea207409682d15be582eb96fa",
            "9953e227a3d64fc49504f1e0a8106840",
            "29b9d8021d744618abc30da57c2abfd5",
            "0f290fae4fe44a0399b843131198aa38",
            "6cb46014244143029ac34aa15eaab50c",
            "b355e0195cd1439ea6524105f4e750d5",
            "f11fa5f136cf4181a85b8aca5429c4df",
            "34ac847c729e418fa366ae5e127fe710",
            "d74d064a58a24e1d978a4a7fb17d7d38"
          ]
        },
        "id": "unmSIjkW-ZEH",
        "outputId": "19e23bbd-f9b7-4b92-db1b-71cff22e8667"
      },
      "source": [
        "model = BertForQuestionAnswering.from_pretrained('bert-base-uncased').to(device)\n",
        "\n",
        "#optim = AdamW(model.parameters(), lr=5e-5)\n",
        "#optim = AdamW(model.parameters(), lr=3e-5)\n",
        "optim = AdamW(model.parameters(), lr=2e-5)\n",
        "\n",
        "# epochs = 2\n",
        "# epochs = 3\n",
        "epochs = 10"
      ],
      "execution_count": null,
      "outputs": [
        {
          "output_type": "display_data",
          "data": {
            "text/plain": [
              "model.safetensors:   0%|          | 0.00/440M [00:00<?, ?B/s]"
            ],
            "application/vnd.jupyter.widget-view+json": {
              "version_major": 2,
              "version_minor": 0,
              "model_id": "e8ff258ee2414b798b5377e8c7b91712"
            }
          },
          "metadata": {}
        },
        {
          "output_type": "stream",
          "name": "stderr",
          "text": [
            "Some weights of BertForQuestionAnswering were not initialized from the model checkpoint at bert-base-uncased and are newly initialized: ['qa_outputs.bias', 'qa_outputs.weight']\n",
            "You should probably TRAIN this model on a down-stream task to be able to use it for predictions and inference.\n",
            "/usr/local/lib/python3.10/dist-packages/transformers/optimization.py:591: FutureWarning: This implementation of AdamW is deprecated and will be removed in a future version. Use the PyTorch implementation torch.optim.AdamW instead, or set `no_deprecation_warning=True` to disable this warning\n",
            "  warnings.warn(\n"
          ]
        }
      ]
    },
    {
      "cell_type": "code",
      "source": [
        "def calculate_em(pred_span, true_span):\n",
        "    \"\"\"\n",
        "    Exact Match (EM) measures whether the predicted span matches the ground truth span exactly.\n",
        "    \"\"\"\n",
        "    return int(pred_span == true_span)\n",
        "\n",
        "def calculate_f1(pred_span, true_span):\n",
        "    \"\"\"\n",
        "    F1 Score measures the overlap between the predicted span and the ground truth span.\n",
        "    \"\"\"\n",
        "    pred_tokens = pred_span.split()\n",
        "    true_tokens = true_span.split()\n",
        "    common_tokens = set(pred_tokens) & set(true_tokens)\n",
        "\n",
        "    if not common_tokens:\n",
        "        return 0.0\n",
        "\n",
        "    precision = len(common_tokens) / len(pred_tokens)\n",
        "    recall = len(common_tokens) / len(true_tokens)\n",
        "    f1 = 2 * (precision * recall) / (precision + recall)\n",
        "    return f1"
      ],
      "metadata": {
        "id": "s2Ts55ehr9yp"
      },
      "execution_count": null,
      "outputs": []
    },
    {
      "cell_type": "code",
      "source": [
        "def evaluate_model_with_metrics(model, val_loader, tokenizer, device):\n",
        "    \"\"\"\n",
        "    Evaluate the model on the validation set and calculate loss, EM, and F1 score.\n",
        "    \"\"\"\n",
        "    model.eval()\n",
        "    total_loss = 0\n",
        "    em_scores = []\n",
        "    f1_scores = []\n",
        "\n",
        "    with torch.no_grad():\n",
        "        for batch in val_loader:\n",
        "            input_ids = batch[\"input_ids\"].to(device)\n",
        "            attention_mask = batch[\"attention_mask\"].to(device)\n",
        "            start_positions = batch[\"start_positions\"].to(device)\n",
        "            end_positions = batch[\"end_positions\"].to(device)\n",
        "\n",
        "            outputs = model(\n",
        "                input_ids=input_ids,\n",
        "                attention_mask=attention_mask,\n",
        "                start_positions=start_positions,\n",
        "                end_positions=end_positions,\n",
        "            )\n",
        "\n",
        "            # Loss\n",
        "            loss = outputs[0]\n",
        "            total_loss += loss.item()\n",
        "\n",
        "            # Get predicted start and end positions\n",
        "            start_logits = outputs.start_logits\n",
        "            end_logits = outputs.end_logits\n",
        "\n",
        "            for i in range(input_ids.size(0)):\n",
        "                input_id = input_ids[i].tolist()\n",
        "                true_start = start_positions[i].item()\n",
        "                true_end = end_positions[i].item()\n",
        "\n",
        "                # Convert true spans to text\n",
        "                true_span = tokenizer.decode(\n",
        "                    input_id[true_start : true_end + 1], skip_special_tokens=True\n",
        "                )\n",
        "\n",
        "                # Predicted span\n",
        "                pred_start = torch.argmax(start_logits[i]).item()\n",
        "                pred_end = torch.argmax(end_logits[i]).item()\n",
        "                pred_span = tokenizer.decode(\n",
        "                    input_id[pred_start : pred_end + 1], skip_special_tokens=True\n",
        "                )\n",
        "\n",
        "                # Calculate EM and F1 scores\n",
        "                em_scores.append(calculate_em(pred_span, true_span))\n",
        "                f1_scores.append(calculate_f1(pred_span, true_span))\n",
        "\n",
        "    # Compute averages\n",
        "    avg_loss = total_loss / len(val_loader)\n",
        "    avg_em = sum(em_scores) / len(em_scores)\n",
        "    avg_f1 = sum(f1_scores) / len(f1_scores)\n",
        "\n",
        "    return avg_loss, avg_em, avg_f1"
      ],
      "metadata": {
        "id": "02AzRuCFsDud"
      },
      "execution_count": null,
      "outputs": []
    },
    {
      "cell_type": "code",
      "metadata": {
        "colab": {
          "base_uri": "https://localhost:8080/"
        },
        "id": "3qkwmHdB_DKI",
        "outputId": "f89b2e3b-3f4c-49b9-b37c-c1883fa6f3eb"
      },
      "source": [
        "import torch\n",
        "\n",
        "whole_train_eval_time = time.time()\n",
        "\n",
        "train_losses = []\n",
        "val_losses = []\n",
        "\n",
        "print_every = 1000\n",
        "\n",
        "# Initialize early stopping variables\n",
        "patience = 2  # Number of epochs to wait before stopping\n",
        "best_val_loss = float('inf')\n",
        "best_model_state = None\n",
        "epochs_without_improvement = 0\n",
        "\n",
        "for epoch in range(epochs):\n",
        "    epoch_time = time.time()\n",
        "\n",
        "    # Set model in train mode\n",
        "    model.train()\n",
        "    loss_of_epoch = 0\n",
        "    print(\"############Train############\")\n",
        "\n",
        "    for batch_idx, batch in enumerate(train_loader):\n",
        "        optim.zero_grad()\n",
        "\n",
        "        input_ids = batch['input_ids'].to(device)\n",
        "        attention_mask = batch['attention_mask'].to(device)\n",
        "        start_positions = batch['start_positions'].to(device)\n",
        "        end_positions = batch['end_positions'].to(device)\n",
        "\n",
        "        outputs = model(input_ids, attention_mask=attention_mask, start_positions=start_positions, end_positions=end_positions)\n",
        "        loss = outputs[0]\n",
        "\n",
        "        # Backpropagation\n",
        "        loss.backward()\n",
        "        optim.step()\n",
        "        loss_of_epoch += loss.item()\n",
        "\n",
        "        if (batch_idx + 1) % print_every == 0:\n",
        "            print(f\"Batch {batch_idx+1} / {len(train_loader)}\\nLoss: {round(loss.item(), 1)}\\n\")\n",
        "\n",
        "    loss_of_epoch /= len(train_loader)\n",
        "    train_losses.append(loss_of_epoch)\n",
        "\n",
        "    ########## Evaluation ##########\n",
        "    model.eval()\n",
        "    print(\"############Evaluate############\")\n",
        "\n",
        "    # Evaluate the model with metrics\n",
        "    val_loss, val_em, val_f1 = evaluate_model_with_metrics(model, val_loader, tokenizer, device)\n",
        "    val_losses.append(val_loss)\n",
        "\n",
        "    print(f\"\\nValidation Loss: {val_loss:.4f}, Exact Match (EM): {val_em:.4f}, F1 Score: {val_f1:.4f}\")\n",
        "\n",
        "    # Early Stopping Logic\n",
        "    if val_loss < best_val_loss:\n",
        "        best_val_loss = val_loss\n",
        "        best_model_state = model.state_dict()  # Save the best model\n",
        "        epochs_without_improvement = 0  # Reset counter\n",
        "    else:\n",
        "        epochs_without_improvement += 1\n",
        "        if epochs_without_improvement >= patience:\n",
        "            print(\"\\nEarly stopping triggered. Restoring the best model...\")\n",
        "            model.load_state_dict(best_model_state)  # Restore the best model\n",
        "            break\n",
        "\n",
        "    # Print each epoch's time and train/val loss\n",
        "    print(f\"\\n-------Epoch {epoch + 1} -------\\n\"\n",
        "          f\"Training Loss: {train_losses[-1]:.4f}\\n\"\n",
        "          f\"Validation Loss: {val_losses[-1]:.4f}\\n\"\n",
        "          f\"Time: {time.time() - epoch_time:.2f} seconds\\n\"\n",
        "          f\"-----------------------\\n\")\n",
        "\n",
        "print(\"Total training and evaluation time: \", (time.time() - whole_train_eval_time))"
      ],
      "execution_count": null,
      "outputs": [
        {
          "output_type": "stream",
          "name": "stdout",
          "text": [
            "############Train############\n",
            "Batch 1000 / 2499\n",
            "Loss: 0.4\n",
            "\n",
            "Batch 2000 / 2499\n",
            "Loss: 0.0\n",
            "\n",
            "############Evaluate############\n",
            "\n",
            "Validation Loss: 0.1468, Exact Match (EM): 0.9475, F1 Score: 0.8966\n",
            "\n",
            "-------Epoch 1 -------\n",
            "Training Loss: 0.3037\n",
            "Validation Loss: 0.1468\n",
            "Time: 377.76 seconds\n",
            "-----------------------\n",
            "\n",
            "############Train############\n",
            "Batch 1000 / 2499\n",
            "Loss: 0.0\n",
            "\n",
            "Batch 2000 / 2499\n",
            "Loss: 0.0\n",
            "\n",
            "############Evaluate############\n",
            "\n",
            "Validation Loss: 0.1310, Exact Match (EM): 0.9490, F1 Score: 0.8962\n",
            "\n",
            "-------Epoch 2 -------\n",
            "Training Loss: 0.1256\n",
            "Validation Loss: 0.1310\n",
            "Time: 376.47 seconds\n",
            "-----------------------\n",
            "\n",
            "############Train############\n",
            "Batch 1000 / 2499\n",
            "Loss: 0.0\n",
            "\n",
            "Batch 2000 / 2499\n",
            "Loss: 0.0\n",
            "\n",
            "############Evaluate############\n",
            "\n",
            "Validation Loss: 0.1156, Exact Match (EM): 0.9542, F1 Score: 0.8991\n",
            "\n",
            "-------Epoch 3 -------\n",
            "Training Loss: 0.0881\n",
            "Validation Loss: 0.1156\n",
            "Time: 376.56 seconds\n",
            "-----------------------\n",
            "\n",
            "############Train############\n",
            "Batch 1000 / 2499\n",
            "Loss: 0.0\n",
            "\n",
            "Batch 2000 / 2499\n",
            "Loss: 0.2\n",
            "\n",
            "############Evaluate############\n",
            "\n",
            "Validation Loss: 0.1390, Exact Match (EM): 0.9531, F1 Score: 0.8977\n",
            "\n",
            "-------Epoch 4 -------\n",
            "Training Loss: 0.0551\n",
            "Validation Loss: 0.1390\n",
            "Time: 376.56 seconds\n",
            "-----------------------\n",
            "\n",
            "############Train############\n",
            "Batch 1000 / 2499\n",
            "Loss: 0.0\n",
            "\n",
            "Batch 2000 / 2499\n",
            "Loss: 0.0\n",
            "\n",
            "############Evaluate############\n",
            "\n",
            "Validation Loss: 0.1847, Exact Match (EM): 0.9531, F1 Score: 0.8988\n",
            "\n",
            "Early stopping triggered. Restoring the best model...\n",
            "Total training and evaluation time:  1883.8299927711487\n"
          ]
        }
      ]
    },
    {
      "cell_type": "code",
      "source": [
        "# Final evaluation on the validation set after all epochs\n",
        "final_val_loss, final_em, final_f1 = evaluate_model_with_metrics(model, val_loader, tokenizer, device)\n",
        "\n",
        "print(f\"Final Validation Loss: {final_val_loss:.4f}\")\n",
        "print(f\"Final Exact Match (EM): {final_em:.4f}\")\n",
        "print(f\"Final F1 Score: {final_f1:.4f}\")"
      ],
      "metadata": {
        "id": "E895zyRV4xMX",
        "colab": {
          "base_uri": "https://localhost:8080/"
        },
        "outputId": "e127416c-189f-4829-f08b-ec8625f80520"
      },
      "execution_count": null,
      "outputs": [
        {
          "output_type": "stream",
          "name": "stdout",
          "text": [
            "Final Validation Loss: 0.1854\n",
            "Final Exact Match (EM): 0.9531\n",
            "Final F1 Score: 0.8988\n"
          ]
        }
      ]
    },
    {
      "cell_type": "code",
      "metadata": {
        "id": "-p_ZgHMgR9Vq"
      },
      "source": [
        "# Save model\n",
        "torch.save(model, \"/content/drive/MyDrive/646 Project/finetunebert_bs8_epochs_lr2.pth\")"
      ],
      "execution_count": null,
      "outputs": []
    },
    {
      "cell_type": "code",
      "source": [
        "#model = torch.load(\"/content/drive/MyDrive/646 Project/finetunebert2.pth\")"
      ],
      "metadata": {
        "id": "YSiOe7SE4Nv2"
      },
      "execution_count": null,
      "outputs": []
    },
    {
      "cell_type": "code",
      "metadata": {
        "id": "Daxw8aQMHPTV",
        "colab": {
          "base_uri": "https://localhost:8080/",
          "height": 610
        },
        "outputId": "8fc3916a-5456-4414-9d75-4b71e92a8f09"
      },
      "source": [
        "import matplotlib.pyplot as plt\n",
        "\n",
        "fig,ax = plt.subplots(1,1,figsize=(15,10))\n",
        "\n",
        "ax.set_title(\"Train and Validation Losses\",size=20)\n",
        "ax.set_ylabel('Loss', fontsize = 20)\n",
        "ax.set_xlabel('Epochs', fontsize = 25)\n",
        "_=ax.plot(train_losses)\n",
        "_=ax.plot(val_losses)\n",
        "_=ax.legend(('Train','Val'),loc='upper right')"
      ],
      "execution_count": null,
      "outputs": [
        {
          "output_type": "display_data",
          "data": {
            "text/plain": [
              "<Figure size 1500x1000 with 1 Axes>"
            ],
            "image/png": "[encoded data removed]"
          },
          "metadata": {}
        }
      ]
    }
  ]
}