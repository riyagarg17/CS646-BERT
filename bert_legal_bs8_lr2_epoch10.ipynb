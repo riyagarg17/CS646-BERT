{
  "nbformat": 4,
  "nbformat_minor": 0,
  "metadata": {
    "colab": {
      "provenance": [],
      "machine_shape": "hm",
      "gpuType": "T4"
    },
    "kernelspec": {
      "name": "python3",
      "display_name": "Python 3"
    },
    "accelerator": "GPU",
    "widgets": {
      "application/vnd.jupyter.widget-state+json": {
        "1d283c9814b34e7c9b7cf930d2f2ec44": {
          "model_module": "@jupyter-widgets/controls",
          "model_name": "HBoxModel",
          "model_module_version": "1.5.0",
          "state": {
            "_dom_classes": [],
            "_model_module": "@jupyter-widgets/controls",
            "_model_module_version": "1.5.0",
            "_model_name": "HBoxModel",
            "_view_count": null,
            "_view_module": "@jupyter-widgets/controls",
            "_view_module_version": "1.5.0",
            "_view_name": "HBoxView",
            "box_style": "",
            "children": [
              "IPY_MODEL_614cd816ed4e49d9848f273176200203",
              "IPY_MODEL_048074b245f54711bdb41a61ad4b3b5c",
              "IPY_MODEL_6d3b40f7e6bc4a7f9d3f84d8a2d0ee74"
            ],
            "layout": "IPY_MODEL_1cfd7f5437ed4499bb915f6c8facb8f2"
          }
        },
        "614cd816ed4e49d9848f273176200203": {
          "model_module": "@jupyter-widgets/controls",
          "model_name": "HTMLModel",
          "model_module_version": "1.5.0",
          "state": {
            "_dom_classes": [],
            "_model_module": "@jupyter-widgets/controls",
            "_model_module_version": "1.5.0",
            "_model_name": "HTMLModel",
            "_view_count": null,
            "_view_module": "@jupyter-widgets/controls",
            "_view_module_version": "1.5.0",
            "_view_name": "HTMLView",
            "description": "",
            "description_tooltip": null,
            "layout": "IPY_MODEL_f68ee2d1d2aa43d496e6861db6ec5fc8",
            "placeholder": "​",
            "style": "IPY_MODEL_2207801a2a024a21b4949181ff114f04",
            "value": "tokenizer_config.json: 100%"
          }
        },
        "048074b245f54711bdb41a61ad4b3b5c": {
          "model_module": "@jupyter-widgets/controls",
          "model_name": "FloatProgressModel",
          "model_module_version": "1.5.0",
          "state": {
            "_dom_classes": [],
            "_model_module": "@jupyter-widgets/controls",
            "_model_module_version": "1.5.0",
            "_model_name": "FloatProgressModel",
            "_view_count": null,
            "_view_module": "@jupyter-widgets/controls",
            "_view_module_version": "1.5.0",
            "_view_name": "ProgressView",
            "bar_style": "success",
            "description": "",
            "description_tooltip": null,
            "layout": "IPY_MODEL_7cbf904cbe9348718e307e08baa66bd8",
            "max": 516,
            "min": 0,
            "orientation": "horizontal",
            "style": "IPY_MODEL_9caf15a74163412ab12c331310cbeac3",
            "value": 516
          }
        },
        "6d3b40f7e6bc4a7f9d3f84d8a2d0ee74": {
          "model_module": "@jupyter-widgets/controls",
          "model_name": "HTMLModel",
          "model_module_version": "1.5.0",
          "state": {
            "_dom_classes": [],
            "_model_module": "@jupyter-widgets/controls",
            "_model_module_version": "1.5.0",
            "_model_name": "HTMLModel",
            "_view_count": null,
            "_view_module": "@jupyter-widgets/controls",
            "_view_module_version": "1.5.0",
            "_view_name": "HTMLView",
            "description": "",
            "description_tooltip": null,
            "layout": "IPY_MODEL_9298325924f64b4fb0bccb1a553c4f0e",
            "placeholder": "​",
            "style": "IPY_MODEL_f443c77db90244e9b089977e888f22e3",
            "value": " 516/516 [00:00&lt;00:00, 44.7kB/s]"
          }
        },
        "1cfd7f5437ed4499bb915f6c8facb8f2": {
          "model_module": "@jupyter-widgets/base",
          "model_name": "LayoutModel",
          "model_module_version": "1.2.0",
          "state": {
            "_model_module": "@jupyter-widgets/base",
            "_model_module_version": "1.2.0",
            "_model_name": "LayoutModel",
            "_view_count": null,
            "_view_module": "@jupyter-widgets/base",
            "_view_module_version": "1.2.0",
            "_view_name": "LayoutView",
            "align_content": null,
            "align_items": null,
            "align_self": null,
            "border": null,
            "bottom": null,
            "display": null,
            "flex": null,
            "flex_flow": null,
            "grid_area": null,
            "grid_auto_columns": null,
            "grid_auto_flow": null,
            "grid_auto_rows": null,
            "grid_column": null,
            "grid_gap": null,
            "grid_row": null,
            "grid_template_areas": null,
            "grid_template_columns": null,
            "grid_template_rows": null,
            "height": null,
            "justify_content": null,
            "justify_items": null,
            "left": null,
            "margin": null,
            "max_height": null,
            "max_width": null,
            "min_height": null,
            "min_width": null,
            "object_fit": null,
            "object_position": null,
            "order": null,
            "overflow": null,
            "overflow_x": null,
            "overflow_y": null,
            "padding": null,
            "right": null,
            "top": null,
            "visibility": null,
            "width": null
          }
        },
        "f68ee2d1d2aa43d496e6861db6ec5fc8": {
          "model_module": "@jupyter-widgets/base",
          "model_name": "LayoutModel",
          "model_module_version": "1.2.0",
          "state": {
            "_model_module": "@jupyter-widgets/base",
            "_model_module_version": "1.2.0",
            "_model_name": "LayoutModel",
            "_view_count": null,
            "_view_module": "@jupyter-widgets/base",
            "_view_module_version": "1.2.0",
            "_view_name": "LayoutView",
            "align_content": null,
            "align_items": null,
            "align_self": null,
            "border": null,
            "bottom": null,
            "display": null,
            "flex": null,
            "flex_flow": null,
            "grid_area": null,
            "grid_auto_columns": null,
            "grid_auto_flow": null,
            "grid_auto_rows": null,
            "grid_column": null,
            "grid_gap": null,
            "grid_row": null,
            "grid_template_areas": null,
            "grid_template_columns": null,
            "grid_template_rows": null,
            "height": null,
            "justify_content": null,
            "justify_items": null,
            "left": null,
            "margin": null,
            "max_height": null,
            "max_width": null,
            "min_height": null,
            "min_width": null,
            "object_fit": null,
            "object_position": null,
            "order": null,
            "overflow": null,
            "overflow_x": null,
            "overflow_y": null,
            "padding": null,
            "right": null,
            "top": null,
            "visibility": null,
            "width": null
          }
        },
        "2207801a2a024a21b4949181ff114f04": {
          "model_module": "@jupyter-widgets/controls",
          "model_name": "DescriptionStyleModel",
          "model_module_version": "1.5.0",
          "state": {
            "_model_module": "@jupyter-widgets/controls",
            "_model_module_version": "1.5.0",
            "_model_name": "DescriptionStyleModel",
            "_view_count": null,
            "_view_module": "@jupyter-widgets/base",
            "_view_module_version": "1.2.0",
            "_view_name": "StyleView",
            "description_width": ""
          }
        },
        "7cbf904cbe9348718e307e08baa66bd8": {
          "model_module": "@jupyter-widgets/base",
          "model_name": "LayoutModel",
          "model_module_version": "1.2.0",
          "state": {
            "_model_module": "@jupyter-widgets/base",
            "_model_module_version": "1.2.0",
            "_model_name": "LayoutModel",
            "_view_count": null,
            "_view_module": "@jupyter-widgets/base",
            "_view_module_version": "1.2.0",
            "_view_name": "LayoutView",
            "align_content": null,
            "align_items": null,
            "align_self": null,
            "border": null,
            "bottom": null,
            "display": null,
            "flex": null,
            "flex_flow": null,
            "grid_area": null,
            "grid_auto_columns": null,
            "grid_auto_flow": null,
            "grid_auto_rows": null,
            "grid_column": null,
            "grid_gap": null,
            "grid_row": null,
            "grid_template_areas": null,
            "grid_template_columns": null,
            "grid_template_rows": null,
            "height": null,
            "justify_content": null,
            "justify_items": null,
            "left": null,
            "margin": null,
            "max_height": null,
            "max_width": null,
            "min_height": null,
            "min_width": null,
            "object_fit": null,
            "object_position": null,
            "order": null,
            "overflow": null,
            "overflow_x": null,
            "overflow_y": null,
            "padding": null,
            "right": null,
            "top": null,
            "visibility": null,
            "width": null
          }
        },
        "9caf15a74163412ab12c331310cbeac3": {
          "model_module": "@jupyter-widgets/controls",
          "model_name": "ProgressStyleModel",
          "model_module_version": "1.5.0",
          "state": {
            "_model_module": "@jupyter-widgets/controls",
            "_model_module_version": "1.5.0",
            "_model_name": "ProgressStyleModel",
            "_view_count": null,
            "_view_module": "@jupyter-widgets/base",
            "_view_module_version": "1.2.0",
            "_view_name": "StyleView",
            "bar_color": null,
            "description_width": ""
          }
        },
        "9298325924f64b4fb0bccb1a553c4f0e": {
          "model_module": "@jupyter-widgets/base",
          "model_name": "LayoutModel",
          "model_module_version": "1.2.0",
          "state": {
            "_model_module": "@jupyter-widgets/base",
            "_model_module_version": "1.2.0",
            "_model_name": "LayoutModel",
            "_view_count": null,
            "_view_module": "@jupyter-widgets/base",
            "_view_module_version": "1.2.0",
            "_view_name": "LayoutView",
            "align_content": null,
            "align_items": null,
            "align_self": null,
            "border": null,
            "bottom": null,
            "display": null,
            "flex": null,
            "flex_flow": null,
            "grid_area": null,
            "grid_auto_columns": null,
            "grid_auto_flow": null,
            "grid_auto_rows": null,
            "grid_column": null,
            "grid_gap": null,
            "grid_row": null,
            "grid_template_areas": null,
            "grid_template_columns": null,
            "grid_template_rows": null,
            "height": null,
            "justify_content": null,
            "justify_items": null,
            "left": null,
            "margin": null,
            "max_height": null,
            "max_width": null,
            "min_height": null,
            "min_width": null,
            "object_fit": null,
            "object_position": null,
            "order": null,
            "overflow": null,
            "overflow_x": null,
            "overflow_y": null,
            "padding": null,
            "right": null,
            "top": null,
            "visibility": null,
            "width": null
          }
        },
        "f443c77db90244e9b089977e888f22e3": {
          "model_module": "@jupyter-widgets/controls",
          "model_name": "DescriptionStyleModel",
          "model_module_version": "1.5.0",
          "state": {
            "_model_module": "@jupyter-widgets/controls",
            "_model_module_version": "1.5.0",
            "_model_name": "DescriptionStyleModel",
            "_view_count": null,
            "_view_module": "@jupyter-widgets/base",
            "_view_module_version": "1.2.0",
            "_view_name": "StyleView",
            "description_width": ""
          }
        },
        "38504a42c8c24f7eba520c0f374920ef": {
          "model_module": "@jupyter-widgets/controls",
          "model_name": "HBoxModel",
          "model_module_version": "1.5.0",
          "state": {
            "_dom_classes": [],
            "_model_module": "@jupyter-widgets/controls",
            "_model_module_version": "1.5.0",
            "_model_name": "HBoxModel",
            "_view_count": null,
            "_view_module": "@jupyter-widgets/controls",
            "_view_module_version": "1.5.0",
            "_view_name": "HBoxView",
            "box_style": "",
            "children": [
              "IPY_MODEL_6f8b554b4b8547998ae97e9b34bc4698",
              "IPY_MODEL_e8729648d7a64e608cf7b326d7486941",
              "IPY_MODEL_89ab86beadad4fe48625ad61c9c8bc2c"
            ],
            "layout": "IPY_MODEL_9ec7dbc3a8474653af5d461b750790b6"
          }
        },
        "6f8b554b4b8547998ae97e9b34bc4698": {
          "model_module": "@jupyter-widgets/controls",
          "model_name": "HTMLModel",
          "model_module_version": "1.5.0",
          "state": {
            "_dom_classes": [],
            "_model_module": "@jupyter-widgets/controls",
            "_model_module_version": "1.5.0",
            "_model_name": "HTMLModel",
            "_view_count": null,
            "_view_module": "@jupyter-widgets/controls",
            "_view_module_version": "1.5.0",
            "_view_name": "HTMLView",
            "description": "",
            "description_tooltip": null,
            "layout": "IPY_MODEL_aabcf39918744463a3ceadc851e43fff",
            "placeholder": "​",
            "style": "IPY_MODEL_8f35adc2d4b2430f9ff8a28e2239424f",
            "value": "vocab.txt: 100%"
          }
        },
        "e8729648d7a64e608cf7b326d7486941": {
          "model_module": "@jupyter-widgets/controls",
          "model_name": "FloatProgressModel",
          "model_module_version": "1.5.0",
          "state": {
            "_dom_classes": [],
            "_model_module": "@jupyter-widgets/controls",
            "_model_module_version": "1.5.0",
            "_model_name": "FloatProgressModel",
            "_view_count": null,
            "_view_module": "@jupyter-widgets/controls",
            "_view_module_version": "1.5.0",
            "_view_name": "ProgressView",
            "bar_style": "success",
            "description": "",
            "description_tooltip": null,
            "layout": "IPY_MODEL_513ea0afdd414d12b372753996000d3b",
            "max": 221793,
            "min": 0,
            "orientation": "horizontal",
            "style": "IPY_MODEL_fd263a1ddcfc46e1b9aa1318d9b10c06",
            "value": 221793
          }
        },
        "89ab86beadad4fe48625ad61c9c8bc2c": {
          "model_module": "@jupyter-widgets/controls",
          "model_name": "HTMLModel",
          "model_module_version": "1.5.0",
          "state": {
            "_dom_classes": [],
            "_model_module": "@jupyter-widgets/controls",
            "_model_module_version": "1.5.0",
            "_model_name": "HTMLModel",
            "_view_count": null,
            "_view_module": "@jupyter-widgets/controls",
            "_view_module_version": "1.5.0",
            "_view_name": "HTMLView",
            "description": "",
            "description_tooltip": null,
            "layout": "IPY_MODEL_2a7a9ad565554a6d9a60a6c5b73bde66",
            "placeholder": "​",
            "style": "IPY_MODEL_0553f47513d34883b29742f55fcc81be",
            "value": " 222k/222k [00:00&lt;00:00, 1.05MB/s]"
          }
        },
        "9ec7dbc3a8474653af5d461b750790b6": {
          "model_module": "@jupyter-widgets/base",
          "model_name": "LayoutModel",
          "model_module_version": "1.2.0",
          "state": {
            "_model_module": "@jupyter-widgets/base",
            "_model_module_version": "1.2.0",
            "_model_name": "LayoutModel",
            "_view_count": null,
            "_view_module": "@jupyter-widgets/base",
            "_view_module_version": "1.2.0",
            "_view_name": "LayoutView",
            "align_content": null,
            "align_items": null,
            "align_self": null,
            "border": null,
            "bottom": null,
            "display": null,
            "flex": null,
            "flex_flow": null,
            "grid_area": null,
            "grid_auto_columns": null,
            "grid_auto_flow": null,
            "grid_auto_rows": null,
            "grid_column": null,
            "grid_gap": null,
            "grid_row": null,
            "grid_template_areas": null,
            "grid_template_columns": null,
            "grid_template_rows": null,
            "height": null,
            "justify_content": null,
            "justify_items": null,
            "left": null,
            "margin": null,
            "max_height": null,
            "max_width": null,
            "min_height": null,
            "min_width": null,
            "object_fit": null,
            "object_position": null,
            "order": null,
            "overflow": null,
            "overflow_x": null,
            "overflow_y": null,
            "padding": null,
            "right": null,
            "top": null,
            "visibility": null,
            "width": null
          }
        },
        "aabcf39918744463a3ceadc851e43fff": {
          "model_module": "@jupyter-widgets/base",
          "model_name": "LayoutModel",
          "model_module_version": "1.2.0",
          "state": {
            "_model_module": "@jupyter-widgets/base",
            "_model_module_version": "1.2.0",
            "_model_name": "LayoutModel",
            "_view_count": null,
            "_view_module": "@jupyter-widgets/base",
            "_view_module_version": "1.2.0",
            "_view_name": "LayoutView",
            "align_content": null,
            "align_items": null,
            "align_self": null,
            "border": null,
            "bottom": null,
            "display": null,
            "flex": null,
            "flex_flow": null,
            "grid_area": null,
            "grid_auto_columns": null,
            "grid_auto_flow": null,
            "grid_auto_rows": null,
            "grid_column": null,
            "grid_gap": null,
            "grid_row": null,
            "grid_template_areas": null,
            "grid_template_columns": null,
            "grid_template_rows": null,
            "height": null,
            "justify_content": null,
            "justify_items": null,
            "left": null,
            "margin": null,
            "max_height": null,
            "max_width": null,
            "min_height": null,
            "min_width": null,
            "object_fit": null,
            "object_position": null,
            "order": null,
            "overflow": null,
            "overflow_x": null,
            "overflow_y": null,
            "padding": null,
            "right": null,
            "top": null,
            "visibility": null,
            "width": null
          }
        },
        "8f35adc2d4b2430f9ff8a28e2239424f": {
          "model_module": "@jupyter-widgets/controls",
          "model_name": "DescriptionStyleModel",
          "model_module_version": "1.5.0",
          "state": {
            "_model_module": "@jupyter-widgets/controls",
            "_model_module_version": "1.5.0",
            "_model_name": "DescriptionStyleModel",
            "_view_count": null,
            "_view_module": "@jupyter-widgets/base",
            "_view_module_version": "1.2.0",
            "_view_name": "StyleView",
            "description_width": ""
          }
        },
        "513ea0afdd414d12b372753996000d3b": {
          "model_module": "@jupyter-widgets/base",
          "model_name": "LayoutModel",
          "model_module_version": "1.2.0",
          "state": {
            "_model_module": "@jupyter-widgets/base",
            "_model_module_version": "1.2.0",
            "_model_name": "LayoutModel",
            "_view_count": null,
            "_view_module": "@jupyter-widgets/base",
            "_view_module_version": "1.2.0",
            "_view_name": "LayoutView",
            "align_content": null,
            "align_items": null,
            "align_self": null,
            "border": null,
            "bottom": null,
            "display": null,
            "flex": null,
            "flex_flow": null,
            "grid_area": null,
            "grid_auto_columns": null,
            "grid_auto_flow": null,
            "grid_auto_rows": null,
            "grid_column": null,
            "grid_gap": null,
            "grid_row": null,
            "grid_template_areas": null,
            "grid_template_columns": null,
            "grid_template_rows": null,
            "height": null,
            "justify_content": null,
            "justify_items": null,
            "left": null,
            "margin": null,
            "max_height": null,
            "max_width": null,
            "min_height": null,
            "min_width": null,
            "object_fit": null,
            "object_position": null,
            "order": null,
            "overflow": null,
            "overflow_x": null,
            "overflow_y": null,
            "padding": null,
            "right": null,
            "top": null,
            "visibility": null,
            "width": null
          }
        },
        "fd263a1ddcfc46e1b9aa1318d9b10c06": {
          "model_module": "@jupyter-widgets/controls",
          "model_name": "ProgressStyleModel",
          "model_module_version": "1.5.0",
          "state": {
            "_model_module": "@jupyter-widgets/controls",
            "_model_module_version": "1.5.0",
            "_model_name": "ProgressStyleModel",
            "_view_count": null,
            "_view_module": "@jupyter-widgets/base",
            "_view_module_version": "1.2.0",
            "_view_name": "StyleView",
            "bar_color": null,
            "description_width": ""
          }
        },
        "2a7a9ad565554a6d9a60a6c5b73bde66": {
          "model_module": "@jupyter-widgets/base",
          "model_name": "LayoutModel",
          "model_module_version": "1.2.0",
          "state": {
            "_model_module": "@jupyter-widgets/base",
            "_model_module_version": "1.2.0",
            "_model_name": "LayoutModel",
            "_view_count": null,
            "_view_module": "@jupyter-widgets/base",
            "_view_module_version": "1.2.0",
            "_view_name": "LayoutView",
            "align_content": null,
            "align_items": null,
            "align_self": null,
            "border": null,
            "bottom": null,
            "display": null,
            "flex": null,
            "flex_flow": null,
            "grid_area": null,
            "grid_auto_columns": null,
            "grid_auto_flow": null,
            "grid_auto_rows": null,
            "grid_column": null,
            "grid_gap": null,
            "grid_row": null,
            "grid_template_areas": null,
            "grid_template_columns": null,
            "grid_template_rows": null,
            "height": null,
            "justify_content": null,
            "justify_items": null,
            "left": null,
            "margin": null,
            "max_height": null,
            "max_width": null,
            "min_height": null,
            "min_width": null,
            "object_fit": null,
            "object_position": null,
            "order": null,
            "overflow": null,
            "overflow_x": null,
            "overflow_y": null,
            "padding": null,
            "right": null,
            "top": null,
            "visibility": null,
            "width": null
          }
        },
        "0553f47513d34883b29742f55fcc81be": {
          "model_module": "@jupyter-widgets/controls",
          "model_name": "DescriptionStyleModel",
          "model_module_version": "1.5.0",
          "state": {
            "_model_module": "@jupyter-widgets/controls",
            "_model_module_version": "1.5.0",
            "_model_name": "DescriptionStyleModel",
            "_view_count": null,
            "_view_module": "@jupyter-widgets/base",
            "_view_module_version": "1.2.0",
            "_view_name": "StyleView",
            "description_width": ""
          }
        },
        "9ca04d1f6ef949a3a64c51b9dfcef058": {
          "model_module": "@jupyter-widgets/controls",
          "model_name": "HBoxModel",
          "model_module_version": "1.5.0",
          "state": {
            "_dom_classes": [],
            "_model_module": "@jupyter-widgets/controls",
            "_model_module_version": "1.5.0",
            "_model_name": "HBoxModel",
            "_view_count": null,
            "_view_module": "@jupyter-widgets/controls",
            "_view_module_version": "1.5.0",
            "_view_name": "HBoxView",
            "box_style": "",
            "children": [
              "IPY_MODEL_b872c35c815c4c24a765c0219045075a",
              "IPY_MODEL_6b718851507643549adf7f2ea556e6c4",
              "IPY_MODEL_9a4f135c1c474265bee934487c3227dc"
            ],
            "layout": "IPY_MODEL_435493b9a810424fb081c0eef7bb93de"
          }
        },
        "b872c35c815c4c24a765c0219045075a": {
          "model_module": "@jupyter-widgets/controls",
          "model_name": "HTMLModel",
          "model_module_version": "1.5.0",
          "state": {
            "_dom_classes": [],
            "_model_module": "@jupyter-widgets/controls",
            "_model_module_version": "1.5.0",
            "_model_name": "HTMLModel",
            "_view_count": null,
            "_view_module": "@jupyter-widgets/controls",
            "_view_module_version": "1.5.0",
            "_view_name": "HTMLView",
            "description": "",
            "description_tooltip": null,
            "layout": "IPY_MODEL_6f5f1c5201974229b1e9ab95335e04ed",
            "placeholder": "​",
            "style": "IPY_MODEL_7d9969ee8beb420abc4ff277df197bc9",
            "value": "special_tokens_map.json: 100%"
          }
        },
        "6b718851507643549adf7f2ea556e6c4": {
          "model_module": "@jupyter-widgets/controls",
          "model_name": "FloatProgressModel",
          "model_module_version": "1.5.0",
          "state": {
            "_dom_classes": [],
            "_model_module": "@jupyter-widgets/controls",
            "_model_module_version": "1.5.0",
            "_model_name": "FloatProgressModel",
            "_view_count": null,
            "_view_module": "@jupyter-widgets/controls",
            "_view_module_version": "1.5.0",
            "_view_name": "ProgressView",
            "bar_style": "success",
            "description": "",
            "description_tooltip": null,
            "layout": "IPY_MODEL_91d55ba4da7d4f038cb3f1ef4bdf0c6b",
            "max": 112,
            "min": 0,
            "orientation": "horizontal",
            "style": "IPY_MODEL_140c56c823454205bdef7ce6097ade7d",
            "value": 112
          }
        },
        "9a4f135c1c474265bee934487c3227dc": {
          "model_module": "@jupyter-widgets/controls",
          "model_name": "HTMLModel",
          "model_module_version": "1.5.0",
          "state": {
            "_dom_classes": [],
            "_model_module": "@jupyter-widgets/controls",
            "_model_module_version": "1.5.0",
            "_model_name": "HTMLModel",
            "_view_count": null,
            "_view_module": "@jupyter-widgets/controls",
            "_view_module_version": "1.5.0",
            "_view_name": "HTMLView",
            "description": "",
            "description_tooltip": null,
            "layout": "IPY_MODEL_4868d54d0f5e412082b99c65288778fc",
            "placeholder": "​",
            "style": "IPY_MODEL_d9ec8de9a15f4481af91c356248965c7",
            "value": " 112/112 [00:00&lt;00:00, 8.81kB/s]"
          }
        },
        "435493b9a810424fb081c0eef7bb93de": {
          "model_module": "@jupyter-widgets/base",
          "model_name": "LayoutModel",
          "model_module_version": "1.2.0",
          "state": {
            "_model_module": "@jupyter-widgets/base",
            "_model_module_version": "1.2.0",
            "_model_name": "LayoutModel",
            "_view_count": null,
            "_view_module": "@jupyter-widgets/base",
            "_view_module_version": "1.2.0",
            "_view_name": "LayoutView",
            "align_content": null,
            "align_items": null,
            "align_self": null,
            "border": null,
            "bottom": null,
            "display": null,
            "flex": null,
            "flex_flow": null,
            "grid_area": null,
            "grid_auto_columns": null,
            "grid_auto_flow": null,
            "grid_auto_rows": null,
            "grid_column": null,
            "grid_gap": null,
            "grid_row": null,
            "grid_template_areas": null,
            "grid_template_columns": null,
            "grid_template_rows": null,
            "height": null,
            "justify_content": null,
            "justify_items": null,
            "left": null,
            "margin": null,
            "max_height": null,
            "max_width": null,
            "min_height": null,
            "min_width": null,
            "object_fit": null,
            "object_position": null,
            "order": null,
            "overflow": null,
            "overflow_x": null,
            "overflow_y": null,
            "padding": null,
            "right": null,
            "top": null,
            "visibility": null,
            "width": null
          }
        },
        "6f5f1c5201974229b1e9ab95335e04ed": {
          "model_module": "@jupyter-widgets/base",
          "model_name": "LayoutModel",
          "model_module_version": "1.2.0",
          "state": {
            "_model_module": "@jupyter-widgets/base",
            "_model_module_version": "1.2.0",
            "_model_name": "LayoutModel",
            "_view_count": null,
            "_view_module": "@jupyter-widgets/base",
            "_view_module_version": "1.2.0",
            "_view_name": "LayoutView",
            "align_content": null,
            "align_items": null,
            "align_self": null,
            "border": null,
            "bottom": null,
            "display": null,
            "flex": null,
            "flex_flow": null,
            "grid_area": null,
            "grid_auto_columns": null,
            "grid_auto_flow": null,
            "grid_auto_rows": null,
            "grid_column": null,
            "grid_gap": null,
            "grid_row": null,
            "grid_template_areas": null,
            "grid_template_columns": null,
            "grid_template_rows": null,
            "height": null,
            "justify_content": null,
            "justify_items": null,
            "left": null,
            "margin": null,
            "max_height": null,
            "max_width": null,
            "min_height": null,
            "min_width": null,
            "object_fit": null,
            "object_position": null,
            "order": null,
            "overflow": null,
            "overflow_x": null,
            "overflow_y": null,
            "padding": null,
            "right": null,
            "top": null,
            "visibility": null,
            "width": null
          }
        },
        "7d9969ee8beb420abc4ff277df197bc9": {
          "model_module": "@jupyter-widgets/controls",
          "model_name": "DescriptionStyleModel",
          "model_module_version": "1.5.0",
          "state": {
            "_model_module": "@jupyter-widgets/controls",
            "_model_module_version": "1.5.0",
            "_model_name": "DescriptionStyleModel",
            "_view_count": null,
            "_view_module": "@jupyter-widgets/base",
            "_view_module_version": "1.2.0",
            "_view_name": "StyleView",
            "description_width": ""
          }
        },
        "91d55ba4da7d4f038cb3f1ef4bdf0c6b": {
          "model_module": "@jupyter-widgets/base",
          "model_name": "LayoutModel",
          "model_module_version": "1.2.0",
          "state": {
            "_model_module": "@jupyter-widgets/base",
            "_model_module_version": "1.2.0",
            "_model_name": "LayoutModel",
            "_view_count": null,
            "_view_module": "@jupyter-widgets/base",
            "_view_module_version": "1.2.0",
            "_view_name": "LayoutView",
            "align_content": null,
            "align_items": null,
            "align_self": null,
            "border": null,
            "bottom": null,
            "display": null,
            "flex": null,
            "flex_flow": null,
            "grid_area": null,
            "grid_auto_columns": null,
            "grid_auto_flow": null,
            "grid_auto_rows": null,
            "grid_column": null,
            "grid_gap": null,
            "grid_row": null,
            "grid_template_areas": null,
            "grid_template_columns": null,
            "grid_template_rows": null,
            "height": null,
            "justify_content": null,
            "justify_items": null,
            "left": null,
            "margin": null,
            "max_height": null,
            "max_width": null,
            "min_height": null,
            "min_width": null,
            "object_fit": null,
            "object_position": null,
            "order": null,
            "overflow": null,
            "overflow_x": null,
            "overflow_y": null,
            "padding": null,
            "right": null,
            "top": null,
            "visibility": null,
            "width": null
          }
        },
        "140c56c823454205bdef7ce6097ade7d": {
          "model_module": "@jupyter-widgets/controls",
          "model_name": "ProgressStyleModel",
          "model_module_version": "1.5.0",
          "state": {
            "_model_module": "@jupyter-widgets/controls",
            "_model_module_version": "1.5.0",
            "_model_name": "ProgressStyleModel",
            "_view_count": null,
            "_view_module": "@jupyter-widgets/base",
            "_view_module_version": "1.2.0",
            "_view_name": "StyleView",
            "bar_color": null,
            "description_width": ""
          }
        },
        "4868d54d0f5e412082b99c65288778fc": {
          "model_module": "@jupyter-widgets/base",
          "model_name": "LayoutModel",
          "model_module_version": "1.2.0",
          "state": {
            "_model_module": "@jupyter-widgets/base",
            "_model_module_version": "1.2.0",
            "_model_name": "LayoutModel",
            "_view_count": null,
            "_view_module": "@jupyter-widgets/base",
            "_view_module_version": "1.2.0",
            "_view_name": "LayoutView",
            "align_content": null,
            "align_items": null,
            "align_self": null,
            "border": null,
            "bottom": null,
            "display": null,
            "flex": null,
            "flex_flow": null,
            "grid_area": null,
            "grid_auto_columns": null,
            "grid_auto_flow": null,
            "grid_auto_rows": null,
            "grid_column": null,
            "grid_gap": null,
            "grid_row": null,
            "grid_template_areas": null,
            "grid_template_columns": null,
            "grid_template_rows": null,
            "height": null,
            "justify_content": null,
            "justify_items": null,
            "left": null,
            "margin": null,
            "max_height": null,
            "max_width": null,
            "min_height": null,
            "min_width": null,
            "object_fit": null,
            "object_position": null,
            "order": null,
            "overflow": null,
            "overflow_x": null,
            "overflow_y": null,
            "padding": null,
            "right": null,
            "top": null,
            "visibility": null,
            "width": null
          }
        },
        "d9ec8de9a15f4481af91c356248965c7": {
          "model_module": "@jupyter-widgets/controls",
          "model_name": "DescriptionStyleModel",
          "model_module_version": "1.5.0",
          "state": {
            "_model_module": "@jupyter-widgets/controls",
            "_model_module_version": "1.5.0",
            "_model_name": "DescriptionStyleModel",
            "_view_count": null,
            "_view_module": "@jupyter-widgets/base",
            "_view_module_version": "1.2.0",
            "_view_name": "StyleView",
            "description_width": ""
          }
        },
        "f61965ac9beb468f90eb2ed0a69b3878": {
          "model_module": "@jupyter-widgets/controls",
          "model_name": "HBoxModel",
          "model_module_version": "1.5.0",
          "state": {
            "_dom_classes": [],
            "_model_module": "@jupyter-widgets/controls",
            "_model_module_version": "1.5.0",
            "_model_name": "HBoxModel",
            "_view_count": null,
            "_view_module": "@jupyter-widgets/controls",
            "_view_module_version": "1.5.0",
            "_view_name": "HBoxView",
            "box_style": "",
            "children": [
              "IPY_MODEL_1313c903f8f9434bbc32347e888f9fa7",
              "IPY_MODEL_a2f14e206f684849801460f58ba939e0",
              "IPY_MODEL_8ee6cf7b27ac4f579977a8726187effc"
            ],
            "layout": "IPY_MODEL_fd20ce3f7d1b4595a252ba337381838f"
          }
        },
        "1313c903f8f9434bbc32347e888f9fa7": {
          "model_module": "@jupyter-widgets/controls",
          "model_name": "HTMLModel",
          "model_module_version": "1.5.0",
          "state": {
            "_dom_classes": [],
            "_model_module": "@jupyter-widgets/controls",
            "_model_module_version": "1.5.0",
            "_model_name": "HTMLModel",
            "_view_count": null,
            "_view_module": "@jupyter-widgets/controls",
            "_view_module_version": "1.5.0",
            "_view_name": "HTMLView",
            "description": "",
            "description_tooltip": null,
            "layout": "IPY_MODEL_f4d62a6b93044feab0a17c42286fb774",
            "placeholder": "​",
            "style": "IPY_MODEL_0d47d04157ad40e1b5f1b5f082d4b489",
            "value": "config.json: 100%"
          }
        },
        "a2f14e206f684849801460f58ba939e0": {
          "model_module": "@jupyter-widgets/controls",
          "model_name": "FloatProgressModel",
          "model_module_version": "1.5.0",
          "state": {
            "_dom_classes": [],
            "_model_module": "@jupyter-widgets/controls",
            "_model_module_version": "1.5.0",
            "_model_name": "FloatProgressModel",
            "_view_count": null,
            "_view_module": "@jupyter-widgets/controls",
            "_view_module_version": "1.5.0",
            "_view_name": "ProgressView",
            "bar_style": "success",
            "description": "",
            "description_tooltip": null,
            "layout": "IPY_MODEL_456cd52088194f2cab6be0fdc8a200c2",
            "max": 671,
            "min": 0,
            "orientation": "horizontal",
            "style": "IPY_MODEL_c4751c68cc3b4df788e3867ec365ec04",
            "value": 671
          }
        },
        "8ee6cf7b27ac4f579977a8726187effc": {
          "model_module": "@jupyter-widgets/controls",
          "model_name": "HTMLModel",
          "model_module_version": "1.5.0",
          "state": {
            "_dom_classes": [],
            "_model_module": "@jupyter-widgets/controls",
            "_model_module_version": "1.5.0",
            "_model_name": "HTMLModel",
            "_view_count": null,
            "_view_module": "@jupyter-widgets/controls",
            "_view_module_version": "1.5.0",
            "_view_name": "HTMLView",
            "description": "",
            "description_tooltip": null,
            "layout": "IPY_MODEL_dcb0d0b7abfc42daae513847b4659afe",
            "placeholder": "​",
            "style": "IPY_MODEL_8180a04cee4f4fd3b000c004e75ba093",
            "value": " 671/671 [00:00&lt;00:00, 55.1kB/s]"
          }
        },
        "fd20ce3f7d1b4595a252ba337381838f": {
          "model_module": "@jupyter-widgets/base",
          "model_name": "LayoutModel",
          "model_module_version": "1.2.0",
          "state": {
            "_model_module": "@jupyter-widgets/base",
            "_model_module_version": "1.2.0",
            "_model_name": "LayoutModel",
            "_view_count": null,
            "_view_module": "@jupyter-widgets/base",
            "_view_module_version": "1.2.0",
            "_view_name": "LayoutView",
            "align_content": null,
            "align_items": null,
            "align_self": null,
            "border": null,
            "bottom": null,
            "display": null,
            "flex": null,
            "flex_flow": null,
            "grid_area": null,
            "grid_auto_columns": null,
            "grid_auto_flow": null,
            "grid_auto_rows": null,
            "grid_column": null,
            "grid_gap": null,
            "grid_row": null,
            "grid_template_areas": null,
            "grid_template_columns": null,
            "grid_template_rows": null,
            "height": null,
            "justify_content": null,
            "justify_items": null,
            "left": null,
            "margin": null,
            "max_height": null,
            "max_width": null,
            "min_height": null,
            "min_width": null,
            "object_fit": null,
            "object_position": null,
            "order": null,
            "overflow": null,
            "overflow_x": null,
            "overflow_y": null,
            "padding": null,
            "right": null,
            "top": null,
            "visibility": null,
            "width": null
          }
        },
        "f4d62a6b93044feab0a17c42286fb774": {
          "model_module": "@jupyter-widgets/base",
          "model_name": "LayoutModel",
          "model_module_version": "1.2.0",
          "state": {
            "_model_module": "@jupyter-widgets/base",
            "_model_module_version": "1.2.0",
            "_model_name": "LayoutModel",
            "_view_count": null,
            "_view_module": "@jupyter-widgets/base",
            "_view_module_version": "1.2.0",
            "_view_name": "LayoutView",
            "align_content": null,
            "align_items": null,
            "align_self": null,
            "border": null,
            "bottom": null,
            "display": null,
            "flex": null,
            "flex_flow": null,
            "grid_area": null,
            "grid_auto_columns": null,
            "grid_auto_flow": null,
            "grid_auto_rows": null,
            "grid_column": null,
            "grid_gap": null,
            "grid_row": null,
            "grid_template_areas": null,
            "grid_template_columns": null,
            "grid_template_rows": null,
            "height": null,
            "justify_content": null,
            "justify_items": null,
            "left": null,
            "margin": null,
            "max_height": null,
            "max_width": null,
            "min_height": null,
            "min_width": null,
            "object_fit": null,
            "object_position": null,
            "order": null,
            "overflow": null,
            "overflow_x": null,
            "overflow_y": null,
            "padding": null,
            "right": null,
            "top": null,
            "visibility": null,
            "width": null
          }
        },
        "0d47d04157ad40e1b5f1b5f082d4b489": {
          "model_module": "@jupyter-widgets/controls",
          "model_name": "DescriptionStyleModel",
          "model_module_version": "1.5.0",
          "state": {
            "_model_module": "@jupyter-widgets/controls",
            "_model_module_version": "1.5.0",
            "_model_name": "DescriptionStyleModel",
            "_view_count": null,
            "_view_module": "@jupyter-widgets/base",
            "_view_module_version": "1.2.0",
            "_view_name": "StyleView",
            "description_width": ""
          }
        },
        "456cd52088194f2cab6be0fdc8a200c2": {
          "model_module": "@jupyter-widgets/base",
          "model_name": "LayoutModel",
          "model_module_version": "1.2.0",
          "state": {
            "_model_module": "@jupyter-widgets/base",
            "_model_module_version": "1.2.0",
            "_model_name": "LayoutModel",
            "_view_count": null,
            "_view_module": "@jupyter-widgets/base",
            "_view_module_version": "1.2.0",
            "_view_name": "LayoutView",
            "align_content": null,
            "align_items": null,
            "align_self": null,
            "border": null,
            "bottom": null,
            "display": null,
            "flex": null,
            "flex_flow": null,
            "grid_area": null,
            "grid_auto_columns": null,
            "grid_auto_flow": null,
            "grid_auto_rows": null,
            "grid_column": null,
            "grid_gap": null,
            "grid_row": null,
            "grid_template_areas": null,
            "grid_template_columns": null,
            "grid_template_rows": null,
            "height": null,
            "justify_content": null,
            "justify_items": null,
            "left": null,
            "margin": null,
            "max_height": null,
            "max_width": null,
            "min_height": null,
            "min_width": null,
            "object_fit": null,
            "object_position": null,
            "order": null,
            "overflow": null,
            "overflow_x": null,
            "overflow_y": null,
            "padding": null,
            "right": null,
            "top": null,
            "visibility": null,
            "width": null
          }
        },
        "c4751c68cc3b4df788e3867ec365ec04": {
          "model_module": "@jupyter-widgets/controls",
          "model_name": "ProgressStyleModel",
          "model_module_version": "1.5.0",
          "state": {
            "_model_module": "@jupyter-widgets/controls",
            "_model_module_version": "1.5.0",
            "_model_name": "ProgressStyleModel",
            "_view_count": null,
            "_view_module": "@jupyter-widgets/base",
            "_view_module_version": "1.2.0",
            "_view_name": "StyleView",
            "bar_color": null,
            "description_width": ""
          }
        },
        "dcb0d0b7abfc42daae513847b4659afe": {
          "model_module": "@jupyter-widgets/base",
          "model_name": "LayoutModel",
          "model_module_version": "1.2.0",
          "state": {
            "_model_module": "@jupyter-widgets/base",
            "_model_module_version": "1.2.0",
            "_model_name": "LayoutModel",
            "_view_count": null,
            "_view_module": "@jupyter-widgets/base",
            "_view_module_version": "1.2.0",
            "_view_name": "LayoutView",
            "align_content": null,
            "align_items": null,
            "align_self": null,
            "border": null,
            "bottom": null,
            "display": null,
            "flex": null,
            "flex_flow": null,
            "grid_area": null,
            "grid_auto_columns": null,
            "grid_auto_flow": null,
            "grid_auto_rows": null,
            "grid_column": null,
            "grid_gap": null,
            "grid_row": null,
            "grid_template_areas": null,
            "grid_template_columns": null,
            "grid_template_rows": null,
            "height": null,
            "justify_content": null,
            "justify_items": null,
            "left": null,
            "margin": null,
            "max_height": null,
            "max_width": null,
            "min_height": null,
            "min_width": null,
            "object_fit": null,
            "object_position": null,
            "order": null,
            "overflow": null,
            "overflow_x": null,
            "overflow_y": null,
            "padding": null,
            "right": null,
            "top": null,
            "visibility": null,
            "width": null
          }
        },
        "8180a04cee4f4fd3b000c004e75ba093": {
          "model_module": "@jupyter-widgets/controls",
          "model_name": "DescriptionStyleModel",
          "model_module_version": "1.5.0",
          "state": {
            "_model_module": "@jupyter-widgets/controls",
            "_model_module_version": "1.5.0",
            "_model_name": "DescriptionStyleModel",
            "_view_count": null,
            "_view_module": "@jupyter-widgets/base",
            "_view_module_version": "1.2.0",
            "_view_name": "StyleView",
            "description_width": ""
          }
        },
        "7b1948eab455483d9c0f58f055a12f69": {
          "model_module": "@jupyter-widgets/controls",
          "model_name": "HBoxModel",
          "model_module_version": "1.5.0",
          "state": {
            "_dom_classes": [],
            "_model_module": "@jupyter-widgets/controls",
            "_model_module_version": "1.5.0",
            "_model_name": "HBoxModel",
            "_view_count": null,
            "_view_module": "@jupyter-widgets/controls",
            "_view_module_version": "1.5.0",
            "_view_name": "HBoxView",
            "box_style": "",
            "children": [
              "IPY_MODEL_6222277dfb6b47299d22b566997c2b30",
              "IPY_MODEL_246b568010024bca8179990832d3c540",
              "IPY_MODEL_ac70916651744ff995a6060e3417577e"
            ],
            "layout": "IPY_MODEL_7da736d585414daaad7fbaa11fcef68c"
          }
        },
        "6222277dfb6b47299d22b566997c2b30": {
          "model_module": "@jupyter-widgets/controls",
          "model_name": "HTMLModel",
          "model_module_version": "1.5.0",
          "state": {
            "_dom_classes": [],
            "_model_module": "@jupyter-widgets/controls",
            "_model_module_version": "1.5.0",
            "_model_name": "HTMLModel",
            "_view_count": null,
            "_view_module": "@jupyter-widgets/controls",
            "_view_module_version": "1.5.0",
            "_view_name": "HTMLView",
            "description": "",
            "description_tooltip": null,
            "layout": "IPY_MODEL_1b2e900dc8f349e4b9621d2e29e5f8f1",
            "placeholder": "​",
            "style": "IPY_MODEL_0200fba0884b4437a1fa6d652178e8d4",
            "value": "pytorch_model.bin: 100%"
          }
        },
        "246b568010024bca8179990832d3c540": {
          "model_module": "@jupyter-widgets/controls",
          "model_name": "FloatProgressModel",
          "model_module_version": "1.5.0",
          "state": {
            "_dom_classes": [],
            "_model_module": "@jupyter-widgets/controls",
            "_model_module_version": "1.5.0",
            "_model_name": "FloatProgressModel",
            "_view_count": null,
            "_view_module": "@jupyter-widgets/controls",
            "_view_module_version": "1.5.0",
            "_view_name": "ProgressView",
            "bar_style": "success",
            "description": "",
            "description_tooltip": null,
            "layout": "IPY_MODEL_0ed7aa750a0844318a7007c884bb55f9",
            "max": 534276705,
            "min": 0,
            "orientation": "horizontal",
            "style": "IPY_MODEL_5a6a73f2d8724d3c8c113db8a9c39677",
            "value": 534276705
          }
        },
        "ac70916651744ff995a6060e3417577e": {
          "model_module": "@jupyter-widgets/controls",
          "model_name": "HTMLModel",
          "model_module_version": "1.5.0",
          "state": {
            "_dom_classes": [],
            "_model_module": "@jupyter-widgets/controls",
            "_model_module_version": "1.5.0",
            "_model_name": "HTMLModel",
            "_view_count": null,
            "_view_module": "@jupyter-widgets/controls",
            "_view_module_version": "1.5.0",
            "_view_name": "HTMLView",
            "description": "",
            "description_tooltip": null,
            "layout": "IPY_MODEL_613b5883b51f47239f4db636edc86e46",
            "placeholder": "​",
            "style": "IPY_MODEL_7fafc89f4a0942e4b4d36d3653608fa7",
            "value": " 534M/534M [00:02&lt;00:00, 244MB/s]"
          }
        },
        "7da736d585414daaad7fbaa11fcef68c": {
          "model_module": "@jupyter-widgets/base",
          "model_name": "LayoutModel",
          "model_module_version": "1.2.0",
          "state": {
            "_model_module": "@jupyter-widgets/base",
            "_model_module_version": "1.2.0",
            "_model_name": "LayoutModel",
            "_view_count": null,
            "_view_module": "@jupyter-widgets/base",
            "_view_module_version": "1.2.0",
            "_view_name": "LayoutView",
            "align_content": null,
            "align_items": null,
            "align_self": null,
            "border": null,
            "bottom": null,
            "display": null,
            "flex": null,
            "flex_flow": null,
            "grid_area": null,
            "grid_auto_columns": null,
            "grid_auto_flow": null,
            "grid_auto_rows": null,
            "grid_column": null,
            "grid_gap": null,
            "grid_row": null,
            "grid_template_areas": null,
            "grid_template_columns": null,
            "grid_template_rows": null,
            "height": null,
            "justify_content": null,
            "justify_items": null,
            "left": null,
            "margin": null,
            "max_height": null,
            "max_width": null,
            "min_height": null,
            "min_width": null,
            "object_fit": null,
            "object_position": null,
            "order": null,
            "overflow": null,
            "overflow_x": null,
            "overflow_y": null,
            "padding": null,
            "right": null,
            "top": null,
            "visibility": null,
            "width": null
          }
        },
        "1b2e900dc8f349e4b9621d2e29e5f8f1": {
          "model_module": "@jupyter-widgets/base",
          "model_name": "LayoutModel",
          "model_module_version": "1.2.0",
          "state": {
            "_model_module": "@jupyter-widgets/base",
            "_model_module_version": "1.2.0",
            "_model_name": "LayoutModel",
            "_view_count": null,
            "_view_module": "@jupyter-widgets/base",
            "_view_module_version": "1.2.0",
            "_view_name": "LayoutView",
            "align_content": null,
            "align_items": null,
            "align_self": null,
            "border": null,
            "bottom": null,
            "display": null,
            "flex": null,
            "flex_flow": null,
            "grid_area": null,
            "grid_auto_columns": null,
            "grid_auto_flow": null,
            "grid_auto_rows": null,
            "grid_column": null,
            "grid_gap": null,
            "grid_row": null,
            "grid_template_areas": null,
            "grid_template_columns": null,
            "grid_template_rows": null,
            "height": null,
            "justify_content": null,
            "justify_items": null,
            "left": null,
            "margin": null,
            "max_height": null,
            "max_width": null,
            "min_height": null,
            "min_width": null,
            "object_fit": null,
            "object_position": null,
            "order": null,
            "overflow": null,
            "overflow_x": null,
            "overflow_y": null,
            "padding": null,
            "right": null,
            "top": null,
            "visibility": null,
            "width": null
          }
        },
        "0200fba0884b4437a1fa6d652178e8d4": {
          "model_module": "@jupyter-widgets/controls",
          "model_name": "DescriptionStyleModel",
          "model_module_version": "1.5.0",
          "state": {
            "_model_module": "@jupyter-widgets/controls",
            "_model_module_version": "1.5.0",
            "_model_name": "DescriptionStyleModel",
            "_view_count": null,
            "_view_module": "@jupyter-widgets/base",
            "_view_module_version": "1.2.0",
            "_view_name": "StyleView",
            "description_width": ""
          }
        },
        "0ed7aa750a0844318a7007c884bb55f9": {
          "model_module": "@jupyter-widgets/base",
          "model_name": "LayoutModel",
          "model_module_version": "1.2.0",
          "state": {
            "_model_module": "@jupyter-widgets/base",
            "_model_module_version": "1.2.0",
            "_model_name": "LayoutModel",
            "_view_count": null,
            "_view_module": "@jupyter-widgets/base",
            "_view_module_version": "1.2.0",
            "_view_name": "LayoutView",
            "align_content": null,
            "align_items": null,
            "align_self": null,
            "border": null,
            "bottom": null,
            "display": null,
            "flex": null,
            "flex_flow": null,
            "grid_area": null,
            "grid_auto_columns": null,
            "grid_auto_flow": null,
            "grid_auto_rows": null,
            "grid_column": null,
            "grid_gap": null,
            "grid_row": null,
            "grid_template_areas": null,
            "grid_template_columns": null,
            "grid_template_rows": null,
            "height": null,
            "justify_content": null,
            "justify_items": null,
            "left": null,
            "margin": null,
            "max_height": null,
            "max_width": null,
            "min_height": null,
            "min_width": null,
            "object_fit": null,
            "object_position": null,
            "order": null,
            "overflow": null,
            "overflow_x": null,
            "overflow_y": null,
            "padding": null,
            "right": null,
            "top": null,
            "visibility": null,
            "width": null
          }
        },
        "5a6a73f2d8724d3c8c113db8a9c39677": {
          "model_module": "@jupyter-widgets/controls",
          "model_name": "ProgressStyleModel",
          "model_module_version": "1.5.0",
          "state": {
            "_model_module": "@jupyter-widgets/controls",
            "_model_module_version": "1.5.0",
            "_model_name": "ProgressStyleModel",
            "_view_count": null,
            "_view_module": "@jupyter-widgets/base",
            "_view_module_version": "1.2.0",
            "_view_name": "StyleView",
            "bar_color": null,
            "description_width": ""
          }
        },
        "613b5883b51f47239f4db636edc86e46": {
          "model_module": "@jupyter-widgets/base",
          "model_name": "LayoutModel",
          "model_module_version": "1.2.0",
          "state": {
            "_model_module": "@jupyter-widgets/base",
            "_model_module_version": "1.2.0",
            "_model_name": "LayoutModel",
            "_view_count": null,
            "_view_module": "@jupyter-widgets/base",
            "_view_module_version": "1.2.0",
            "_view_name": "LayoutView",
            "align_content": null,
            "align_items": null,
            "align_self": null,
            "border": null,
            "bottom": null,
            "display": null,
            "flex": null,
            "flex_flow": null,
            "grid_area": null,
            "grid_auto_columns": null,
            "grid_auto_flow": null,
            "grid_auto_rows": null,
            "grid_column": null,
            "grid_gap": null,
            "grid_row": null,
            "grid_template_areas": null,
            "grid_template_columns": null,
            "grid_template_rows": null,
            "height": null,
            "justify_content": null,
            "justify_items": null,
            "left": null,
            "margin": null,
            "max_height": null,
            "max_width": null,
            "min_height": null,
            "min_width": null,
            "object_fit": null,
            "object_position": null,
            "order": null,
            "overflow": null,
            "overflow_x": null,
            "overflow_y": null,
            "padding": null,
            "right": null,
            "top": null,
            "visibility": null,
            "width": null
          }
        },
        "7fafc89f4a0942e4b4d36d3653608fa7": {
          "model_module": "@jupyter-widgets/controls",
          "model_name": "DescriptionStyleModel",
          "model_module_version": "1.5.0",
          "state": {
            "_model_module": "@jupyter-widgets/controls",
            "_model_module_version": "1.5.0",
            "_model_name": "DescriptionStyleModel",
            "_view_count": null,
            "_view_module": "@jupyter-widgets/base",
            "_view_module_version": "1.2.0",
            "_view_name": "StyleView",
            "description_width": ""
          }
        }
      }
    }
  },
  "cells": [
    {
      "cell_type": "markdown",
      "metadata": {
        "id": "bBXHKtr84syG"
      },
      "source": [
        "# ***Riya Garg***\n",
        "# ***Legal Bert for Legal dataset***\n",
        "# *CS646 Poject*"
      ]
    },
    {
      "cell_type": "code",
      "metadata": {
        "id": "v5Jlcrg0ghs-"
      },
      "source": [
        "import json\n",
        "from pathlib import Path\n",
        "import torch\n",
        "from torch.utils.data import DataLoader\n",
        "import time"
      ],
      "execution_count": null,
      "outputs": []
    },
    {
      "cell_type": "markdown",
      "metadata": {
        "id": "X55oFpqzd78h"
      },
      "source": [
        "## ***Step 1:*** Download Dataset and Tranformers library"
      ]
    },
    {
      "cell_type": "code",
      "metadata": {
        "id": "uC-Kx4ij3T6a"
      },
      "source": [
        "%%capture\n",
        "! pip install datasets transformers"
      ],
      "execution_count": null,
      "outputs": []
    },
    {
      "cell_type": "markdown",
      "metadata": {
        "id": "9G6iYKZ7gRWr"
      },
      "source": [
        "## ***Step 2:*** Mount drive for dataset access"
      ]
    },
    {
      "cell_type": "code",
      "source": [
        "from google.colab import drive\n",
        "drive.mount('/content/drive')"
      ],
      "metadata": {
        "colab": {
          "base_uri": "https://localhost:8080/"
        },
        "id": "VpXGGTkTJFuC",
        "outputId": "b8c657db-9d40-474a-b798-c14a6d52d2ac"
      },
      "execution_count": null,
      "outputs": [
        {
          "output_type": "stream",
          "name": "stdout",
          "text": [
            "Mounted at /content/drive\n"
          ]
        }
      ]
    },
    {
      "cell_type": "markdown",
      "metadata": {
        "id": "PEN89d8Mjlw3"
      },
      "source": [
        "## ***Step 3:*** Check the data"
      ]
    },
    {
      "cell_type": "code",
      "source": [
        "import json\n",
        "from pathlib import Path\n",
        "import re\n",
        "\n",
        "def targeted_clean_sentences(sent_list):\n",
        "    \"\"\"\n",
        "    Remove sentences containing JavaScript or irrelevant patterns.\n",
        "    \"\"\"\n",
        "    unwanted_patterns = [\n",
        "        r\"var \", r\"s_context\", r\"\\$\", r\"require\", r\"function\", r\"insert\", r\"webmd\", r\"disable\", r\"ads\", r\"module\"\n",
        "    ]\n",
        "    # Compile regex for unwanted patterns\n",
        "    unwanted_regex = re.compile(\"|\".join(unwanted_patterns), re.IGNORECASE)\n",
        "\n",
        "    # Filter out sentences matching unwanted patterns\n",
        "    clean_sent_list = [sentence for sentence in sent_list if not unwanted_regex.search(sentence)]\n",
        "    return \" \".join(clean_sent_list)  # Join the cleaned sentences\n",
        "\n",
        "def load_and_preprocess_data_with_targeted_cleaning(file_path):\n",
        "\n",
        "    with open(file_path, 'r') as f:\n",
        "        legal_data = json.load(f)\n",
        "\n",
        "    texts, queries, answers = [], [], []\n",
        "\n",
        "    # Search for each passage, its question, and its answer\n",
        "    for entry in legal_data[\"data\"]:\n",
        "        context = entry[\"context\"]\n",
        "        question = entry[\"question\"]\n",
        "        answer_start = int(entry[\"answer\"][\"answer_start\"])\n",
        "        answer_end = int(entry[\"answer\"][\"answer_end\"])\n",
        "        answer_text = context[answer_start:answer_end+1]\n",
        "\n",
        "        # Store each passage, query, and answer into the lists\n",
        "        texts.append(context)\n",
        "        queries.append(question)\n",
        "        answers.append({\"text\": answer_text, \"answer_start\": answer_start, \"answer_end\": answer_end})\n",
        "\n",
        "    return texts, queries, answers\n",
        "\n",
        "# Process train data\n",
        "train_path = Path('/content/drive/MyDrive/646 Project/Legal/train_dataset.json')\n",
        "train_texts, train_queries, train_answers = load_and_preprocess_data_with_targeted_cleaning(train_path)\n",
        "\n",
        "# Process validation data\n",
        "val_path = Path('/content/drive/MyDrive/646 Project/Legal/validate_dataset.json')\n",
        "val_texts, val_queries, val_answers = load_and_preprocess_data_with_targeted_cleaning(val_path)\n"
      ],
      "metadata": {
        "id": "4JE7uRUbgENm"
      },
      "execution_count": null,
      "outputs": []
    },
    {
      "cell_type": "code",
      "metadata": {
        "colab": {
          "base_uri": "https://localhost:8080/"
        },
        "id": "xPrlBV3hkJSe",
        "outputId": "edc218c2-cd9b-4ecd-f227-d36b5c5b116d"
      },
      "source": [
        "print(\"Passage: \",train_texts[0][418:439])\n",
        "print(\"Query: \",train_queries[0])\n",
        "print(\"Answer: \",train_answers[0])\n",
        "\n",
        "print(\"Passage: \",train_texts[1][105:110])\n",
        "print(\"Query: \",train_queries[1])\n",
        "print(\"Answer: \",train_answers[1])"
      ],
      "execution_count": null,
      "outputs": [
        {
          "output_type": "stream",
          "name": "stdout",
          "text": [
            "Passage:  culpable mental state\n",
            "Query:  In this section, what includes intention, motive or knowledge of a fact or belief in, or reason to believe a fact?\n",
            "Answer:  {'text': 'culpable mental state', 'answer_start': 418, 'answer_end': 438}\n",
            "Passage:  A-B=C\n",
            "Query:  What is the amount charged to tax if the value of the asset in the year 2017-18 is one crore rupees?\n",
            "Answer:  {'text': 'A-B=C', 'answer_start': 105, 'answer_end': 109}\n"
          ]
        }
      ]
    },
    {
      "cell_type": "markdown",
      "metadata": {
        "id": "6JCAvOgalXbh"
      },
      "source": [
        "As you can see we have 20302 passages, queries and answers from the validation data"
      ]
    },
    {
      "cell_type": "code",
      "metadata": {
        "colab": {
          "base_uri": "https://localhost:8080/"
        },
        "id": "bMs6opQPlLBE",
        "outputId": "4b71f5c7-d8d5-47f6-f5a6-e9c2fd0bd781"
      },
      "source": [
        "print(len(val_texts))\n",
        "print(len(val_queries))\n",
        "print(len(val_answers))"
      ],
      "execution_count": null,
      "outputs": [
        {
          "output_type": "stream",
          "name": "stdout",
          "text": [
            "228\n",
            "228\n",
            "228\n"
          ]
        }
      ]
    },
    {
      "cell_type": "code",
      "metadata": {
        "colab": {
          "base_uri": "https://localhost:8080/"
        },
        "id": "FBf0eNdblL_P",
        "outputId": "f67cbac0-85ac-46ca-edb8-e35669fc42ba"
      },
      "source": [
        "print(\"Passage: \",val_texts[0])\n",
        "print(\"Query: \",val_queries[0])\n",
        "print(\"Answer: \",val_answers[0])"
      ],
      "execution_count": null,
      "outputs": [
        {
          "output_type": "stream",
          "name": "stdout",
          "text": [
            "Passage:  Repeal and savings.- (1) The following enactments are hereby repealed-  (a) the Metal Tokens Act, 1889 (1 of 1889); (b) the Coinage Act, 1906 (3 of 1906); (c) the Bronze Coin (Legal Tender) Act, 1918 (22 of 1918); (d) the Currency Ordinance, 1940 (Ord. IV of 1940); (e) the Small Coins (Offences) Act, 1971 (52 of 1971). (2) The repeal by this Act of the enactments and Ordinance specified in sub-section (1) shall not-  (a) affect any other enactment in which the repealed enactment or Ordinance has been applied, incorporated or referred to; (b) affect the validity, invalidity, effect or consequences of anything already done or suffered, or any right, title, obligation or liability already acquired, accrued or incurred or any remedy or proceeding in respect thereof, or any release or discharge of or from any debt, penalty, obligation, liability, claim or demand, or any indemnity already granted, or the proof of any past act or thing; (c) affect any principle or rule of law, or established jurisdiction, form or course of pleading, practice or procedure, or existing usage, custom, privilege, restriction, exemption, office or appointment, notwithstanding that the same respectively may have been in any manner affirmed or recognised or derived by, in or from any enactment or Ordinance hereby repealed; (d) revive or restore any jurisdiction, office, custom, liability, right, title, privilege, restriction, exemption, usage, practice, procedure or other matter or thing not now existing or in force. (3) The mention of particular matters in sub-section (1) shall not be held to prejudice or affect the general application of section 6 of the General Clauses Act, 1897 (10 of 1897), with regard to the effect of repeals. \n",
            "Query:  What enactment is hereby repealed?\n",
            "Answer:  {'text': 'the Metal Tokens Act, 1889', 'answer_start': 76, 'answer_end': 101}\n"
          ]
        }
      ]
    },
    {
      "cell_type": "markdown",
      "metadata": {
        "id": "_QFwoBu7gOac"
      },
      "source": [
        "This was helped me to split my dataset in order to run my notebook in my first attemps."
      ]
    },
    {
      "cell_type": "code",
      "metadata": {
        "id": "QsxbrdQBIN4l"
      },
      "source": [
        "# train_texts = train_texts[:10]\n",
        "# train_queries = train_queries[:10]\n",
        "# train_answers = train_answers[:10]\n",
        "\n",
        "# val_texts = val_texts[:10]\n",
        "# val_queries = val_queries[:10]\n",
        "# val_answers = val_answers[:10]"
      ],
      "execution_count": null,
      "outputs": []
    },
    {
      "cell_type": "code",
      "metadata": {
        "id": "lq4GEXQ7IpwS"
      },
      "source": [
        "# print(len(train_texts))\n",
        "# print(len(train_queries))\n",
        "# print(len(train_answers))"
      ],
      "execution_count": null,
      "outputs": []
    },
    {
      "cell_type": "code",
      "metadata": {
        "id": "MQ3KHKIkIy0G"
      },
      "source": [
        "# print(len(val_texts))\n",
        "# print(len(val_queries))\n",
        "# print(len(val_answers))"
      ],
      "execution_count": null,
      "outputs": []
    },
    {
      "cell_type": "markdown",
      "metadata": {
        "id": "79TEci2gnAP4"
      },
      "source": [
        "## ***Step 4:*** Find the end position character"
      ]
    },
    {
      "cell_type": "markdown",
      "metadata": {
        "id": "kNAThgIvq_4S"
      },
      "source": [
        "Find end position character in train data"
      ]
    },
    {
      "cell_type": "code",
      "metadata": {
        "id": "qlexBsEcnI77"
      },
      "source": [
        "# for answer, text in zip(train_answers, train_texts):\n",
        "#     # Get the real answer and start index (access the first element of the lists)\n",
        "#     real_answer = answer['text'][0]  # Extract the first text from the list\n",
        "#     start_idx = int(answer['answer_start'][0])  # Extract the first start index from the list\n",
        "\n",
        "#     # Calculate the real end index\n",
        "#     end_idx = start_idx + len(real_answer)\n",
        "\n",
        "#     # Deal with the problem of 1 or 2 more characters\n",
        "#     if text[start_idx:end_idx] == real_answer:\n",
        "#         answer['answer_end'] = [end_idx]  # Add as a list\n",
        "#     # When the real answer is more by one character\n",
        "#     elif text[start_idx-1:end_idx-1] == real_answer:\n",
        "#         answer['answer_start'] = [start_idx - 1]  # Update the start index as a list\n",
        "#         answer['answer_end'] = [end_idx - 1]  # Update the end index as a list\n",
        "#     # When the real answer is more by two characters\n",
        "#     elif text[start_idx-2:end_idx-2] == real_answer:\n",
        "#         answer['answer_start'] = [start_idx - 2]  # Update the start index as a list\n",
        "#         answer['answer_end'] = [end_idx - 2]  # Update the end index as a list\n",
        "\n",
        "for answer, text in zip(train_answers, train_texts):\n",
        "    real_answer = answer['text']\n",
        "    start_idx = answer['answer_start']\n",
        "    # Get the real end index\n",
        "    end_idx = start_idx + len(real_answer)\n",
        "\n",
        "    # Deal with the problem of 1 or 2 more characters\n",
        "    if text[start_idx:end_idx] == real_answer:\n",
        "        answer['answer_end'] = end_idx\n",
        "    # When the real answer is more by one character\n",
        "    elif text[start_idx-1:end_idx-1] == real_answer:\n",
        "        answer['answer_start'] = start_idx - 1\n",
        "        answer['answer_end'] = end_idx - 1\n",
        "    # When the real answer is more by two characters\n",
        "    elif text[start_idx-2:end_idx-2] == real_answer:\n",
        "        answer['answer_start'] = start_idx - 2\n",
        "        answer['answer_end'] = end_idx - 2\n"
      ],
      "execution_count": null,
      "outputs": []
    },
    {
      "cell_type": "markdown",
      "metadata": {
        "id": "aEzbDWC1sPEn"
      },
      "source": [
        "Find end position character in validation data"
      ]
    },
    {
      "cell_type": "code",
      "metadata": {
        "id": "Xe2_AZszsRqr"
      },
      "source": [
        "# for answer, text in zip(val_answers, val_texts):\n",
        "#     # Get the real answer and start index (access the first element of the lists)\n",
        "#     real_answer = answer['text']  # Extract the first text from the list\n",
        "#     start_idx = int(answer['answer_start'])  # Extract the first start index from the list\n",
        "\n",
        "#     # Calculate the real end index\n",
        "#     end_idx = start_idx + len(real_answer)\n",
        "\n",
        "#     # Deal with the problem of 1 or 2 more characters\n",
        "#     if text[start_idx:end_idx] == real_answer:\n",
        "#         answer['answer_end'] = [end_idx]  # Add as a list\n",
        "#     # When the real answer is more by one character\n",
        "#     elif text[start_idx-1:end_idx-1] == real_answer:\n",
        "#         answer['answer_start'] = [start_idx - 1]  # Update the start index as a list\n",
        "#         answer['answer_end'] = [end_idx - 1]  # Update the end index as a list\n",
        "#     # When the real answer is more by two characters\n",
        "#     elif text[start_idx-2:end_idx-2] == real_answer:\n",
        "#         answer['answer_start'] = [start_idx - 2]  # Update the start index as a list\n",
        "#         answer['answer_end'] = [end_idx - 2]  # Update the end index as a list\n",
        "\n",
        "\n",
        "for answer, text in zip(val_answers, val_texts):\n",
        "    real_answer = answer['text']\n",
        "    start_idx = answer['answer_start']\n",
        "    # Get the real end index\n",
        "    end_idx = start_idx + len(real_answer)\n",
        "\n",
        "    # Deal with the problem of 1 or 2 more characters\n",
        "    if text[start_idx:end_idx] == real_answer:\n",
        "        answer['answer_end'] = end_idx\n",
        "    # When the real answer is more by one character\n",
        "    elif text[start_idx-1:end_idx-1] == real_answer:\n",
        "        answer['answer_start'] = start_idx - 1\n",
        "        answer['answer_end'] = end_idx - 1\n",
        "    # When the real answer is more by two characters\n",
        "    elif text[start_idx-2:end_idx-2] == real_answer:\n",
        "        answer['answer_start'] = start_idx - 2\n",
        "        answer['answer_end'] = end_idx - 2"
      ],
      "execution_count": null,
      "outputs": []
    },
    {
      "cell_type": "code",
      "source": [
        "# Ensure all train_answers have 'answer_end'\n",
        "for answer, text in zip(train_answers, train_texts):\n",
        "    real_answer = answer['text']  # Extract the first text from the list\n",
        "    start_idx = int(answer['answer_start'])  # Extract the first start index from the list\n",
        "\n",
        "    # Calculate the real end index\n",
        "    end_idx = start_idx + len(real_answer)\n",
        "\n",
        "    # Deal with the problem of 1 or 2 more characters\n",
        "    if text[start_idx:end_idx] == real_answer:\n",
        "        answer['answer_end'] = [end_idx]  # Add as a list\n",
        "    elif text[start_idx-1:end_idx-1] == real_answer:\n",
        "        answer['answer_start'] = [start_idx - 1]\n",
        "        answer['answer_end'] = [end_idx - 1]\n",
        "    elif text[start_idx-2:end_idx-2] == real_answer:\n",
        "        answer['answer_start'] = [start_idx - 2]\n",
        "        answer['answer_end'] = [end_idx - 2]\n",
        "    else:\n",
        "        # Default to the calculated end index if no match (edge case)\n",
        "        answer['answer_end'] = [end_idx]\n",
        "\n",
        "# Ensure all val_answers have 'answer_end'\n",
        "for answer, text in zip(val_answers, val_texts):\n",
        "    real_answer = answer['text']\n",
        "    start_idx = int(answer['answer_start'])\n",
        "\n",
        "    end_idx = start_idx + len(real_answer)\n",
        "\n",
        "    if text[start_idx:end_idx] == real_answer:\n",
        "        answer['answer_end'] = [end_idx]\n",
        "    elif text[start_idx-1:end_idx-1] == real_answer:\n",
        "        answer['answer_start'] = [start_idx - 1]\n",
        "        answer['answer_end'] = [end_idx - 1]\n",
        "    elif text[start_idx-2:end_idx-2] == real_answer:\n",
        "        answer['answer_start'] = [start_idx - 2]\n",
        "        answer['answer_end'] = [end_idx - 2]\n",
        "    else:\n",
        "        answer['answer_end'] = [end_idx]\n"
      ],
      "metadata": {
        "id": "gPADrFeVjErb"
      },
      "execution_count": null,
      "outputs": []
    },
    {
      "cell_type": "markdown",
      "metadata": {
        "id": "83nKp3c5tU7A"
      },
      "source": [
        "## ***Step 5:*** Tokenize passages and queries"
      ]
    },
    {
      "cell_type": "code",
      "metadata": {
        "id": "-dncUoMhtpWj",
        "colab": {
          "base_uri": "https://localhost:8080/",
          "height": 235,
          "referenced_widgets": [
            "1d283c9814b34e7c9b7cf930d2f2ec44",
            "614cd816ed4e49d9848f273176200203",
            "048074b245f54711bdb41a61ad4b3b5c",
            "6d3b40f7e6bc4a7f9d3f84d8a2d0ee74",
            "1cfd7f5437ed4499bb915f6c8facb8f2",
            "f68ee2d1d2aa43d496e6861db6ec5fc8",
            "2207801a2a024a21b4949181ff114f04",
            "7cbf904cbe9348718e307e08baa66bd8",
            "9caf15a74163412ab12c331310cbeac3",
            "9298325924f64b4fb0bccb1a553c4f0e",
            "f443c77db90244e9b089977e888f22e3",
            "38504a42c8c24f7eba520c0f374920ef",
            "6f8b554b4b8547998ae97e9b34bc4698",
            "e8729648d7a64e608cf7b326d7486941",
            "89ab86beadad4fe48625ad61c9c8bc2c",
            "9ec7dbc3a8474653af5d461b750790b6",
            "aabcf39918744463a3ceadc851e43fff",
            "8f35adc2d4b2430f9ff8a28e2239424f",
            "513ea0afdd414d12b372753996000d3b",
            "fd263a1ddcfc46e1b9aa1318d9b10c06",
            "2a7a9ad565554a6d9a60a6c5b73bde66",
            "0553f47513d34883b29742f55fcc81be",
            "9ca04d1f6ef949a3a64c51b9dfcef058",
            "b872c35c815c4c24a765c0219045075a",
            "6b718851507643549adf7f2ea556e6c4",
            "9a4f135c1c474265bee934487c3227dc",
            "435493b9a810424fb081c0eef7bb93de",
            "6f5f1c5201974229b1e9ab95335e04ed",
            "7d9969ee8beb420abc4ff277df197bc9",
            "91d55ba4da7d4f038cb3f1ef4bdf0c6b",
            "140c56c823454205bdef7ce6097ade7d",
            "4868d54d0f5e412082b99c65288778fc",
            "d9ec8de9a15f4481af91c356248965c7"
          ]
        },
        "outputId": "9ded3424-d5a1-423b-f0a8-1f3a978aa6e5"
      },
      "source": [
        "from transformers import AutoTokenizer,AdamW,BertForQuestionAnswering\n",
        "tokenizer = AutoTokenizer.from_pretrained(\"law-ai/InLegalBERT\")\n",
        "\n",
        "train_encodings = tokenizer(train_texts, train_queries, truncation=True, padding=True)\n",
        "val_encodings = tokenizer(val_texts, val_queries, truncation=True, padding=True)"
      ],
      "execution_count": null,
      "outputs": [
        {
          "output_type": "stream",
          "name": "stderr",
          "text": [
            "/usr/local/lib/python3.10/dist-packages/huggingface_hub/utils/_auth.py:94: UserWarning: \n",
            "The secret `HF_TOKEN` does not exist in your Colab secrets.\n",
            "To authenticate with the Hugging Face Hub, create a token in your settings tab (https://huggingface.co/settings/tokens), set it as secret in your Google Colab and restart your session.\n",
            "You will be able to reuse this secret in all of your notebooks.\n",
            "Please note that authentication is recommended but still optional to access public models or datasets.\n",
            "  warnings.warn(\n"
          ]
        },
        {
          "output_type": "display_data",
          "data": {
            "text/plain": [
              "tokenizer_config.json:   0%|          | 0.00/516 [00:00<?, ?B/s]"
            ],
            "application/vnd.jupyter.widget-view+json": {
              "version_major": 2,
              "version_minor": 0,
              "model_id": "1d283c9814b34e7c9b7cf930d2f2ec44"
            }
          },
          "metadata": {}
        },
        {
          "output_type": "display_data",
          "data": {
            "text/plain": [
              "vocab.txt:   0%|          | 0.00/222k [00:00<?, ?B/s]"
            ],
            "application/vnd.jupyter.widget-view+json": {
              "version_major": 2,
              "version_minor": 0,
              "model_id": "38504a42c8c24f7eba520c0f374920ef"
            }
          },
          "metadata": {}
        },
        {
          "output_type": "display_data",
          "data": {
            "text/plain": [
              "special_tokens_map.json:   0%|          | 0.00/112 [00:00<?, ?B/s]"
            ],
            "application/vnd.jupyter.widget-view+json": {
              "version_major": 2,
              "version_minor": 0,
              "model_id": "9ca04d1f6ef949a3a64c51b9dfcef058"
            }
          },
          "metadata": {}
        }
      ]
    },
    {
      "cell_type": "markdown",
      "metadata": {
        "id": "WHaETr5izn0t"
      },
      "source": [
        "## ***Step 6:*** Convert the start-end positions to tokens start-end positions"
      ]
    },
    {
      "cell_type": "code",
      "source": [
        "\n",
        "  print(train_answers[:5])"
      ],
      "metadata": {
        "colab": {
          "base_uri": "https://localhost:8080/"
        },
        "id": "msOvBLlv0TiE",
        "outputId": "5b54d20d-af88-4743-9131-8c8386b550a0"
      },
      "execution_count": null,
      "outputs": [
        {
          "output_type": "stream",
          "name": "stdout",
          "text": [
            "[{'text': 'culpable mental state', 'answer_start': 418, 'answer_end': [439]}, {'text': 'A-B=C', 'answer_start': 105, 'answer_end': [110]}, {'text': 'non-recovery', 'answer_start': 546, 'answer_end': [558]}, {'text': 'vacate their offices as such members', 'answer_start': 1021, 'answer_end': [1057]}, {'text': '1[Local Committee]', 'answer_start': 157, 'answer_end': [175]}]\n"
          ]
        }
      ]
    },
    {
      "cell_type": "code",
      "metadata": {
        "colab": {
          "base_uri": "https://localhost:8080/"
        },
        "id": "VHDTX4HZzN3e",
        "outputId": "d90b9473-3121-40f4-b24c-65248e9f228f"
      },
      "source": [
        "def add_token_positions(encodings, answers):\n",
        "    start_positions = []\n",
        "    end_positions = []\n",
        "    count = 0\n",
        "\n",
        "    for i in range(len(answers)):\n",
        "        start = answers[i].get('answer_start', None)\n",
        "        end_list = answers[i].get('answer_end', None)\n",
        "\n",
        "        # Ensure 'answer_end' is a list and extract the first element\n",
        "        if isinstance(end_list, list) and len(end_list) > 0:\n",
        "            end = end_list[0]\n",
        "        else:\n",
        "            raise ValueError(f\"Invalid 'answer_end' format at {i}: {answers[i]}\")\n",
        "\n",
        "        # Convert char positions to token positions\n",
        "        start_positions.append(encodings.char_to_token(i, start))\n",
        "        end_positions.append(encodings.char_to_token(i, end))\n",
        "\n",
        "        # Handle truncation cases\n",
        "        if start_positions[-1] is None:\n",
        "            start_positions[-1] = tokenizer.model_max_length\n",
        "        if end_positions[-1] is None:\n",
        "            end_positions[-1] = encodings.char_to_token(i, end - 1)\n",
        "            if end_positions[-1] is None:\n",
        "                count += 1\n",
        "                end_positions[-1] = tokenizer.model_max_length\n",
        "\n",
        "    print(f\"Number of truncated answers: {count}\")\n",
        "\n",
        "    # Update the data in dictionary\n",
        "    encodings.update({'start_positions': start_positions, 'end_positions': end_positions})\n",
        "\n",
        "\n",
        "add_token_positions(train_encodings, train_answers)\n",
        "add_token_positions(val_encodings, val_answers)\n"
      ],
      "execution_count": null,
      "outputs": [
        {
          "output_type": "stream",
          "name": "stdout",
          "text": [
            "Number of truncated answers: 1\n",
            "Number of truncated answers: 1\n"
          ]
        }
      ]
    },
    {
      "cell_type": "markdown",
      "metadata": {
        "id": "6JNdLyE97io2"
      },
      "source": [
        "## ***Step 7:*** Create a Dataset class"
      ]
    },
    {
      "cell_type": "code",
      "metadata": {
        "id": "FjYzrXas3yhy"
      },
      "source": [
        "class SquadDataset(torch.utils.data.Dataset):\n",
        "    def __init__(self, encodings):\n",
        "        self.encodings = encodings\n",
        "\n",
        "    def __getitem__(self, idx):\n",
        "        return {key: torch.tensor(val[idx]) for key, val in self.encodings.items()}\n",
        "\n",
        "    def __len__(self):\n",
        "        return len(self.encodings.input_ids)"
      ],
      "execution_count": null,
      "outputs": []
    },
    {
      "cell_type": "code",
      "metadata": {
        "id": "fHGYpU8x8GCT"
      },
      "source": [
        "train_dataset = SquadDataset(train_encodings)\n",
        "val_dataset = SquadDataset(val_encodings)"
      ],
      "execution_count": null,
      "outputs": []
    },
    {
      "cell_type": "markdown",
      "metadata": {
        "id": "RAISuNeC8r7q"
      },
      "source": [
        "## ***Step 8:*** Use of DataLoader"
      ]
    },
    {
      "cell_type": "code",
      "metadata": {
        "id": "XCohXB_R8HkC"
      },
      "source": [
        "train_loader = DataLoader(train_dataset, batch_size=8, shuffle=True)\n",
        "val_loader = DataLoader(val_dataset, batch_size=8, shuffle=True)"
      ],
      "execution_count": null,
      "outputs": []
    },
    {
      "cell_type": "markdown",
      "metadata": {
        "id": "M58QEXOB9nfF"
      },
      "source": [
        "## ***Step 9:*** Use GPU"
      ]
    },
    {
      "cell_type": "code",
      "metadata": {
        "id": "N12rPAE39QS0"
      },
      "source": [
        "device = torch.device('cuda:0' if torch.cuda.is_available()\n",
        "                      else 'cpu')"
      ],
      "execution_count": null,
      "outputs": []
    },
    {
      "cell_type": "markdown",
      "metadata": {
        "id": "ctnv1lVt-Na_"
      },
      "source": [
        "## ***Step 10:*** Build the Bert model"
      ]
    },
    {
      "cell_type": "code",
      "metadata": {
        "colab": {
          "base_uri": "https://localhost:8080/",
          "height": 169,
          "referenced_widgets": [
            "f61965ac9beb468f90eb2ed0a69b3878",
            "1313c903f8f9434bbc32347e888f9fa7",
            "a2f14e206f684849801460f58ba939e0",
            "8ee6cf7b27ac4f579977a8726187effc",
            "fd20ce3f7d1b4595a252ba337381838f",
            "f4d62a6b93044feab0a17c42286fb774",
            "0d47d04157ad40e1b5f1b5f082d4b489",
            "456cd52088194f2cab6be0fdc8a200c2",
            "c4751c68cc3b4df788e3867ec365ec04",
            "dcb0d0b7abfc42daae513847b4659afe",
            "8180a04cee4f4fd3b000c004e75ba093",
            "7b1948eab455483d9c0f58f055a12f69",
            "6222277dfb6b47299d22b566997c2b30",
            "246b568010024bca8179990832d3c540",
            "ac70916651744ff995a6060e3417577e",
            "7da736d585414daaad7fbaa11fcef68c",
            "1b2e900dc8f349e4b9621d2e29e5f8f1",
            "0200fba0884b4437a1fa6d652178e8d4",
            "0ed7aa750a0844318a7007c884bb55f9",
            "5a6a73f2d8724d3c8c113db8a9c39677",
            "613b5883b51f47239f4db636edc86e46",
            "7fafc89f4a0942e4b4d36d3653608fa7"
          ]
        },
        "id": "unmSIjkW-ZEH",
        "outputId": "3516736d-3a6b-4c14-c96f-df2c7a19f819"
      },
      "source": [
        "model = BertForQuestionAnswering.from_pretrained('law-ai/InLegalBERT').to(device)\n",
        "\n",
        "#optim = AdamW(model.parameters(), lr=5e-5)\n",
        "#optim = AdamW(model.parameters(), lr=3e-5)\n",
        "optim = AdamW(model.parameters(), lr=2e-5)\n",
        "\n",
        "# epochs = 2\n",
        "#epochs = 3\n",
        "# epochs = 4\n",
        "# epochs = 5\n",
        "epochs = 10"
      ],
      "execution_count": null,
      "outputs": [
        {
          "output_type": "display_data",
          "data": {
            "text/plain": [
              "config.json:   0%|          | 0.00/671 [00:00<?, ?B/s]"
            ],
            "application/vnd.jupyter.widget-view+json": {
              "version_major": 2,
              "version_minor": 0,
              "model_id": "f61965ac9beb468f90eb2ed0a69b3878"
            }
          },
          "metadata": {}
        },
        {
          "output_type": "display_data",
          "data": {
            "text/plain": [
              "pytorch_model.bin:   0%|          | 0.00/534M [00:00<?, ?B/s]"
            ],
            "application/vnd.jupyter.widget-view+json": {
              "version_major": 2,
              "version_minor": 0,
              "model_id": "7b1948eab455483d9c0f58f055a12f69"
            }
          },
          "metadata": {}
        },
        {
          "output_type": "stream",
          "name": "stderr",
          "text": [
            "Some weights of BertForQuestionAnswering were not initialized from the model checkpoint at law-ai/InLegalBERT and are newly initialized: ['qa_outputs.bias', 'qa_outputs.weight']\n",
            "You should probably TRAIN this model on a down-stream task to be able to use it for predictions and inference.\n",
            "/usr/local/lib/python3.10/dist-packages/transformers/optimization.py:591: FutureWarning: This implementation of AdamW is deprecated and will be removed in a future version. Use the PyTorch implementation torch.optim.AdamW instead, or set `no_deprecation_warning=True` to disable this warning\n",
            "  warnings.warn(\n"
          ]
        }
      ]
    },
    {
      "cell_type": "markdown",
      "metadata": {
        "id": "Qe29xEPB_DvT"
      },
      "source": [
        "## ***Step 11:*** Train and Evaluate Model"
      ]
    },
    {
      "cell_type": "code",
      "source": [
        "def calculate_em(pred_span, true_span):\n",
        "    \"\"\"\n",
        "    Exact Match (EM) measures whether the predicted span matches the ground truth span exactly.\n",
        "    \"\"\"\n",
        "    return int(pred_span == true_span)\n",
        "\n",
        "def calculate_f1(pred_span, true_span):\n",
        "    \"\"\"\n",
        "    F1 Score measures the overlap between the predicted span and the ground truth span.\n",
        "    \"\"\"\n",
        "    pred_tokens = pred_span.split()\n",
        "    true_tokens = true_span.split()\n",
        "    common_tokens = set(pred_tokens) & set(true_tokens)\n",
        "\n",
        "    if not common_tokens:\n",
        "        return 0.0\n",
        "\n",
        "    precision = len(common_tokens) / len(pred_tokens)\n",
        "    recall = len(common_tokens) / len(true_tokens)\n",
        "    f1 = 2 * (precision * recall) / (precision + recall)\n",
        "    return f1"
      ],
      "metadata": {
        "id": "s2Ts55ehr9yp"
      },
      "execution_count": null,
      "outputs": []
    },
    {
      "cell_type": "code",
      "source": [
        "def evaluate_model_with_metrics(model, val_loader, tokenizer, device):\n",
        "    \"\"\"\n",
        "    Evaluate the model on the validation set and calculate loss, EM, and F1 score.\n",
        "    \"\"\"\n",
        "    model.eval()\n",
        "    total_loss = 0\n",
        "    em_scores = []\n",
        "    f1_scores = []\n",
        "\n",
        "    with torch.no_grad():\n",
        "        for batch in val_loader:\n",
        "            input_ids = batch[\"input_ids\"].to(device)\n",
        "            attention_mask = batch[\"attention_mask\"].to(device)\n",
        "            start_positions = batch[\"start_positions\"].to(device)\n",
        "            end_positions = batch[\"end_positions\"].to(device)\n",
        "\n",
        "            outputs = model(\n",
        "                input_ids=input_ids,\n",
        "                attention_mask=attention_mask,\n",
        "                start_positions=start_positions,\n",
        "                end_positions=end_positions,\n",
        "            )\n",
        "\n",
        "            # Loss\n",
        "            loss = outputs[0]\n",
        "            total_loss += loss.item()\n",
        "\n",
        "            # Get predicted start and end positions\n",
        "            start_logits = outputs.start_logits\n",
        "            end_logits = outputs.end_logits\n",
        "\n",
        "            for i in range(input_ids.size(0)):\n",
        "                input_id = input_ids[i].tolist()\n",
        "                true_start = start_positions[i].item()\n",
        "                true_end = end_positions[i].item()\n",
        "\n",
        "                # Convert true spans to text\n",
        "                true_span = tokenizer.decode(\n",
        "                    input_id[true_start : true_end + 1], skip_special_tokens=True\n",
        "                )\n",
        "\n",
        "                # Predicted span\n",
        "                pred_start = torch.argmax(start_logits[i]).item()\n",
        "                pred_end = torch.argmax(end_logits[i]).item()\n",
        "                pred_span = tokenizer.decode(\n",
        "                    input_id[pred_start : pred_end + 1], skip_special_tokens=True\n",
        "                )\n",
        "\n",
        "                # Calculate EM and F1 scores\n",
        "                em_scores.append(calculate_em(pred_span, true_span))\n",
        "                f1_scores.append(calculate_f1(pred_span, true_span))\n",
        "\n",
        "    # Compute averages\n",
        "    avg_loss = total_loss / len(val_loader)\n",
        "    avg_em = sum(em_scores) / len(em_scores)\n",
        "    avg_f1 = sum(f1_scores) / len(f1_scores)\n",
        "\n",
        "    return avg_loss, avg_em, avg_f1"
      ],
      "metadata": {
        "id": "02AzRuCFsDud"
      },
      "execution_count": null,
      "outputs": []
    },
    {
      "cell_type": "code",
      "metadata": {
        "colab": {
          "base_uri": "https://localhost:8080/"
        },
        "id": "3qkwmHdB_DKI",
        "outputId": "acdfb795-b698-43e4-cd21-3b120c3c460a"
      },
      "source": [
        "import torch\n",
        "\n",
        "whole_train_eval_time = time.time()\n",
        "\n",
        "train_losses = []\n",
        "val_losses = []\n",
        "\n",
        "print_every = 1000\n",
        "\n",
        "# Initialize early stopping variables\n",
        "patience = 2  # Number of epochs to wait before stopping\n",
        "best_val_loss = float('inf')\n",
        "best_model_state = None\n",
        "epochs_without_improvement = 0\n",
        "\n",
        "for epoch in range(epochs):\n",
        "    epoch_time = time.time()\n",
        "\n",
        "    # Set model in train mode\n",
        "    model.train()\n",
        "    loss_of_epoch = 0\n",
        "    print(\"############Train############\")\n",
        "\n",
        "    for batch_idx, batch in enumerate(train_loader):\n",
        "        optim.zero_grad()\n",
        "\n",
        "        input_ids = batch['input_ids'].to(device)\n",
        "        attention_mask = batch['attention_mask'].to(device)\n",
        "        start_positions = batch['start_positions'].to(device)\n",
        "        end_positions = batch['end_positions'].to(device)\n",
        "\n",
        "        outputs = model(input_ids, attention_mask=attention_mask, start_positions=start_positions, end_positions=end_positions)\n",
        "        loss = outputs[0]\n",
        "\n",
        "        # Backpropagation\n",
        "        loss.backward()\n",
        "        optim.step()\n",
        "        loss_of_epoch += loss.item()\n",
        "\n",
        "        if (batch_idx + 1) % print_every == 0:\n",
        "            print(f\"Batch {batch_idx+1} / {len(train_loader)}\\nLoss: {round(loss.item(), 1)}\\n\")\n",
        "\n",
        "    loss_of_epoch /= len(train_loader)\n",
        "    train_losses.append(loss_of_epoch)\n",
        "\n",
        "    ########## Evaluation ##########\n",
        "    model.eval()\n",
        "    print(\"############Evaluate############\")\n",
        "\n",
        "    # Evaluate the model with metrics\n",
        "    val_loss, val_em, val_f1 = evaluate_model_with_metrics(model, val_loader, tokenizer, device)\n",
        "    val_losses.append(val_loss)\n",
        "\n",
        "    print(f\"\\nValidation Loss: {val_loss:.4f}, Exact Match (EM): {val_em:.4f}, F1 Score: {val_f1:.4f}\")\n",
        "\n",
        "    # Early Stopping Logic\n",
        "    if val_loss < best_val_loss:\n",
        "        best_val_loss = val_loss\n",
        "        best_model_state = model.state_dict()  # Save the best model\n",
        "        epochs_without_improvement = 0  # Reset counter\n",
        "    else:\n",
        "        epochs_without_improvement += 1\n",
        "        if epochs_without_improvement >= patience:\n",
        "            print(\"\\nEarly stopping triggered. Restoring the best model...\")\n",
        "            model.load_state_dict(best_model_state)  # Restore the best model\n",
        "            break\n",
        "\n",
        "    # Print each epoch's time and train/val loss\n",
        "    print(f\"\\n-------Epoch {epoch + 1} -------\\n\"\n",
        "          f\"Training Loss: {train_losses[-1]:.4f}\\n\"\n",
        "          f\"Validation Loss: {val_losses[-1]:.4f}\\n\"\n",
        "          f\"Time: {time.time() - epoch_time:.2f} seconds\\n\"\n",
        "          f\"-----------------------\\n\")\n",
        "\n",
        "print(\"Total training and evaluation time: \", (time.time() - whole_train_eval_time))"
      ],
      "execution_count": null,
      "outputs": [
        {
          "output_type": "stream",
          "name": "stdout",
          "text": [
            "############Train############\n",
            "############Evaluate############\n",
            "\n",
            "Validation Loss: 1.6553, Exact Match (EM): 0.3684, F1 Score: 0.5779\n",
            "\n",
            "-------Epoch 1 -------\n",
            "Training Loss: 3.1476\n",
            "Validation Loss: 1.6553\n",
            "Time: 190.17 seconds\n",
            "-----------------------\n",
            "\n",
            "############Train############\n",
            "############Evaluate############\n",
            "\n",
            "Validation Loss: 1.2912, Exact Match (EM): 0.4912, F1 Score: 0.6635\n",
            "\n",
            "-------Epoch 2 -------\n",
            "Training Loss: 1.2053\n",
            "Validation Loss: 1.2912\n",
            "Time: 193.80 seconds\n",
            "-----------------------\n",
            "\n",
            "############Train############\n",
            "############Evaluate############\n",
            "\n",
            "Validation Loss: 1.3205, Exact Match (EM): 0.5395, F1 Score: 0.6882\n",
            "\n",
            "-------Epoch 3 -------\n",
            "Training Loss: 0.7058\n",
            "Validation Loss: 1.3205\n",
            "Time: 193.61 seconds\n",
            "-----------------------\n",
            "\n",
            "############Train############\n",
            "############Evaluate############\n",
            "\n",
            "Validation Loss: 1.2563, Exact Match (EM): 0.5789, F1 Score: 0.7105\n",
            "\n",
            "-------Epoch 4 -------\n",
            "Training Loss: 0.4188\n",
            "Validation Loss: 1.2563\n",
            "Time: 194.01 seconds\n",
            "-----------------------\n",
            "\n",
            "############Train############\n",
            "############Evaluate############\n",
            "\n",
            "Validation Loss: 1.3193, Exact Match (EM): 0.6096, F1 Score: 0.7349\n",
            "\n",
            "-------Epoch 5 -------\n",
            "Training Loss: 0.2627\n",
            "Validation Loss: 1.3193\n",
            "Time: 193.90 seconds\n",
            "-----------------------\n",
            "\n",
            "############Train############\n",
            "############Evaluate############\n",
            "\n",
            "Validation Loss: 1.4637, Exact Match (EM): 0.5921, F1 Score: 0.7270\n",
            "\n",
            "Early stopping triggered. Restoring the best model...\n",
            "Total training and evaluation time:  1159.1949117183685\n"
          ]
        }
      ]
    },
    {
      "cell_type": "code",
      "source": [
        "# Save model\n",
        "torch.save(model, \"/content/drive/MyDrive/646 Project/Legal/legal-bert-bs8-lr2\")"
      ],
      "metadata": {
        "id": "eqSk7sh66PZz"
      },
      "execution_count": null,
      "outputs": []
    },
    {
      "cell_type": "markdown",
      "metadata": {
        "id": "41ZatksYHP_p"
      },
      "source": [
        "## ***Step 12:*** Plot train and validation losses"
      ]
    },
    {
      "cell_type": "code",
      "metadata": {
        "id": "Daxw8aQMHPTV",
        "colab": {
          "base_uri": "https://localhost:8080/",
          "height": 787
        },
        "outputId": "aeeb4aef-7bed-4569-86d5-5940e1a4b101"
      },
      "source": [
        "import matplotlib.pyplot as plt\n",
        "\n",
        "fig,ax = plt.subplots(1,1,figsize=(15,10))\n",
        "\n",
        "ax.set_title(\"Train and Validation Losses\",size=20)\n",
        "ax.set_ylabel('Loss', fontsize = 20)\n",
        "ax.set_xlabel('Epochs', fontsize = 25)\n",
        "_=ax.plot(train_losses)\n",
        "_=ax.plot(val_losses)\n",
        "_=ax.legend(('Train','Val'),loc='upper right')"
      ],
      "execution_count": null,
      "outputs": [
        {
          "output_type": "display_data",
          "data": {
            "text/plain": [
              "<Figure size 1500x1000 with 1 Axes>"
            ],
            "image/png": "[encoded data removed]"
          },
          "metadata": {}
        }
      ]
    }
  ]
}